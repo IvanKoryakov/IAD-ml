{
  "cells": [
    {
      "cell_type": "markdown",
      "metadata": {
        "id": "Ffq6A2-ifzAA"
      },
      "source": [
        "# Интеллектуальный анализ данных – весна 2024\n",
        "# Домашнее задание 6: классификация текстов"
      ]
    },
    {
      "cell_type": "markdown",
      "source": [
        "Правила:\n",
        "\n",
        "\n",
        "\n",
        "*   Домашнее задание оценивается в 10 баллов.\n",
        "*   Можно использовать без доказательства любые результаты, встречавшиеся на лекциях или семинарах по курсу, если получение этих результатов не является вопросом задания.\n",
        "*  Можно использовать любые свободные источники с *обязательным* указанием ссылки на них.\n",
        "*  Плагиат не допускается. При обнаружении случаев списывания, 0 за работу выставляется всем участникам нарушения, даже если можно установить, кто у кого списал.\n",
        "*  Старайтесь сделать код как можно более оптимальным. В частности, будет штрафоваться использование циклов в тех случаях, когда операцию можно совершить при помощи инструментов библиотек, о которых рассказывалось в курсе."
      ],
      "metadata": {
        "id": "EPcxtekTA1Sm"
      }
    },
    {
      "cell_type": "markdown",
      "metadata": {
        "id": "itRtFtrOf0_b"
      },
      "source": [
        "В этом домашнем задании вам предстоит построить классификатор текстов.\n",
        "\n",
        "Будем предсказывать эмоциональную окраску твиттов о коронавирусе.\n",
        "\n"
      ]
    },
    {
      "cell_type": "code",
      "execution_count": 1,
      "metadata": {
        "id": "tNGRVO7_g9mz"
      },
      "outputs": [],
      "source": [
        "import warnings\n",
        "\n",
        "import numpy as np\n",
        "import pandas as pd\n",
        "from typing import  List\n",
        "import matplotlib.pyplot as plt\n",
        "import seaborn as sns\n",
        "from string import punctuation\n",
        "\n",
        "warnings.filterwarnings(\"ignore\")"
      ]
    },
    {
      "cell_type": "code",
      "execution_count": 3,
      "metadata": {
        "id": "zOy8iHJQg_Ss",
        "colab": {
          "base_uri": "https://localhost:8080/",
          "height": 175
        },
        "outputId": "051a275a-a91a-4d30-e6f6-fd8fa518b389"
      },
      "outputs": [
        {
          "output_type": "execute_result",
          "data": {
            "text/plain": [
              "       UserName  ScreenName                   Location     TweetAt  \\\n",
              "21618     30173       75125                        USA  02-04-2020   \n",
              "1091       5115       50067                      Kenya  17-03-2020   \n",
              "16354     23712       68664                        NaN  24-03-2020   \n",
              "33013     44403       89355  The Western Galil, Israel  13-04-2020   \n",
              "\n",
              "                                           OriginalTweet           Sentiment  \n",
              "21618  WeÃÂre looking for a #silverlining right now...            Positive  \n",
              "1091   Social Distancing amp Online Shopping happens ...            Positive  \n",
              "16354  Asia may have the edge in battling the coronav...  Extremely Negative  \n",
              "33013  @jsolomonReports Scary stuff!\\r\\r\\nIsraeli gro...  Extremely Negative  "
            ],
            "text/html": [
              "\n",
              "  <div id=\"df-98ac99f6-95f4-4ccd-9738-464c3dfbe7fd\" class=\"colab-df-container\">\n",
              "    <div>\n",
              "<style scoped>\n",
              "    .dataframe tbody tr th:only-of-type {\n",
              "        vertical-align: middle;\n",
              "    }\n",
              "\n",
              "    .dataframe tbody tr th {\n",
              "        vertical-align: top;\n",
              "    }\n",
              "\n",
              "    .dataframe thead th {\n",
              "        text-align: right;\n",
              "    }\n",
              "</style>\n",
              "<table border=\"1\" class=\"dataframe\">\n",
              "  <thead>\n",
              "    <tr style=\"text-align: right;\">\n",
              "      <th></th>\n",
              "      <th>UserName</th>\n",
              "      <th>ScreenName</th>\n",
              "      <th>Location</th>\n",
              "      <th>TweetAt</th>\n",
              "      <th>OriginalTweet</th>\n",
              "      <th>Sentiment</th>\n",
              "    </tr>\n",
              "  </thead>\n",
              "  <tbody>\n",
              "    <tr>\n",
              "      <th>21618</th>\n",
              "      <td>30173</td>\n",
              "      <td>75125</td>\n",
              "      <td>USA</td>\n",
              "      <td>02-04-2020</td>\n",
              "      <td>WeÃÂre looking for a #silverlining right now...</td>\n",
              "      <td>Positive</td>\n",
              "    </tr>\n",
              "    <tr>\n",
              "      <th>1091</th>\n",
              "      <td>5115</td>\n",
              "      <td>50067</td>\n",
              "      <td>Kenya</td>\n",
              "      <td>17-03-2020</td>\n",
              "      <td>Social Distancing amp Online Shopping happens ...</td>\n",
              "      <td>Positive</td>\n",
              "    </tr>\n",
              "    <tr>\n",
              "      <th>16354</th>\n",
              "      <td>23712</td>\n",
              "      <td>68664</td>\n",
              "      <td>NaN</td>\n",
              "      <td>24-03-2020</td>\n",
              "      <td>Asia may have the edge in battling the coronav...</td>\n",
              "      <td>Extremely Negative</td>\n",
              "    </tr>\n",
              "    <tr>\n",
              "      <th>33013</th>\n",
              "      <td>44403</td>\n",
              "      <td>89355</td>\n",
              "      <td>The Western Galil, Israel</td>\n",
              "      <td>13-04-2020</td>\n",
              "      <td>@jsolomonReports Scary stuff!\\r\\r\\nIsraeli gro...</td>\n",
              "      <td>Extremely Negative</td>\n",
              "    </tr>\n",
              "  </tbody>\n",
              "</table>\n",
              "</div>\n",
              "    <div class=\"colab-df-buttons\">\n",
              "\n",
              "  <div class=\"colab-df-container\">\n",
              "    <button class=\"colab-df-convert\" onclick=\"convertToInteractive('df-98ac99f6-95f4-4ccd-9738-464c3dfbe7fd')\"\n",
              "            title=\"Convert this dataframe to an interactive table.\"\n",
              "            style=\"display:none;\">\n",
              "\n",
              "  <svg xmlns=\"http://www.w3.org/2000/svg\" height=\"24px\" viewBox=\"0 -960 960 960\">\n",
              "    <path d=\"M120-120v-720h720v720H120Zm60-500h600v-160H180v160Zm220 220h160v-160H400v160Zm0 220h160v-160H400v160ZM180-400h160v-160H180v160Zm440 0h160v-160H620v160ZM180-180h160v-160H180v160Zm440 0h160v-160H620v160Z\"/>\n",
              "  </svg>\n",
              "    </button>\n",
              "\n",
              "  <style>\n",
              "    .colab-df-container {\n",
              "      display:flex;\n",
              "      gap: 12px;\n",
              "    }\n",
              "\n",
              "    .colab-df-convert {\n",
              "      background-color: #E8F0FE;\n",
              "      border: none;\n",
              "      border-radius: 50%;\n",
              "      cursor: pointer;\n",
              "      display: none;\n",
              "      fill: #1967D2;\n",
              "      height: 32px;\n",
              "      padding: 0 0 0 0;\n",
              "      width: 32px;\n",
              "    }\n",
              "\n",
              "    .colab-df-convert:hover {\n",
              "      background-color: #E2EBFA;\n",
              "      box-shadow: 0px 1px 2px rgba(60, 64, 67, 0.3), 0px 1px 3px 1px rgba(60, 64, 67, 0.15);\n",
              "      fill: #174EA6;\n",
              "    }\n",
              "\n",
              "    .colab-df-buttons div {\n",
              "      margin-bottom: 4px;\n",
              "    }\n",
              "\n",
              "    [theme=dark] .colab-df-convert {\n",
              "      background-color: #3B4455;\n",
              "      fill: #D2E3FC;\n",
              "    }\n",
              "\n",
              "    [theme=dark] .colab-df-convert:hover {\n",
              "      background-color: #434B5C;\n",
              "      box-shadow: 0px 1px 3px 1px rgba(0, 0, 0, 0.15);\n",
              "      filter: drop-shadow(0px 1px 2px rgba(0, 0, 0, 0.3));\n",
              "      fill: #FFFFFF;\n",
              "    }\n",
              "  </style>\n",
              "\n",
              "    <script>\n",
              "      const buttonEl =\n",
              "        document.querySelector('#df-98ac99f6-95f4-4ccd-9738-464c3dfbe7fd button.colab-df-convert');\n",
              "      buttonEl.style.display =\n",
              "        google.colab.kernel.accessAllowed ? 'block' : 'none';\n",
              "\n",
              "      async function convertToInteractive(key) {\n",
              "        const element = document.querySelector('#df-98ac99f6-95f4-4ccd-9738-464c3dfbe7fd');\n",
              "        const dataTable =\n",
              "          await google.colab.kernel.invokeFunction('convertToInteractive',\n",
              "                                                    [key], {});\n",
              "        if (!dataTable) return;\n",
              "\n",
              "        const docLinkHtml = 'Like what you see? Visit the ' +\n",
              "          '<a target=\"_blank\" href=https://colab.research.google.com/notebooks/data_table.ipynb>data table notebook</a>'\n",
              "          + ' to learn more about interactive tables.';\n",
              "        element.innerHTML = '';\n",
              "        dataTable['output_type'] = 'display_data';\n",
              "        await google.colab.output.renderOutput(dataTable, element);\n",
              "        const docLink = document.createElement('div');\n",
              "        docLink.innerHTML = docLinkHtml;\n",
              "        element.appendChild(docLink);\n",
              "      }\n",
              "    </script>\n",
              "  </div>\n",
              "\n",
              "\n",
              "<div id=\"df-3f80e01b-0a45-41b9-9f0f-c292e1fb95fc\">\n",
              "  <button class=\"colab-df-quickchart\" onclick=\"quickchart('df-3f80e01b-0a45-41b9-9f0f-c292e1fb95fc')\"\n",
              "            title=\"Suggest charts\"\n",
              "            style=\"display:none;\">\n",
              "\n",
              "<svg xmlns=\"http://www.w3.org/2000/svg\" height=\"24px\"viewBox=\"0 0 24 24\"\n",
              "     width=\"24px\">\n",
              "    <g>\n",
              "        <path d=\"M19 3H5c-1.1 0-2 .9-2 2v14c0 1.1.9 2 2 2h14c1.1 0 2-.9 2-2V5c0-1.1-.9-2-2-2zM9 17H7v-7h2v7zm4 0h-2V7h2v10zm4 0h-2v-4h2v4z\"/>\n",
              "    </g>\n",
              "</svg>\n",
              "  </button>\n",
              "\n",
              "<style>\n",
              "  .colab-df-quickchart {\n",
              "      --bg-color: #E8F0FE;\n",
              "      --fill-color: #1967D2;\n",
              "      --hover-bg-color: #E2EBFA;\n",
              "      --hover-fill-color: #174EA6;\n",
              "      --disabled-fill-color: #AAA;\n",
              "      --disabled-bg-color: #DDD;\n",
              "  }\n",
              "\n",
              "  [theme=dark] .colab-df-quickchart {\n",
              "      --bg-color: #3B4455;\n",
              "      --fill-color: #D2E3FC;\n",
              "      --hover-bg-color: #434B5C;\n",
              "      --hover-fill-color: #FFFFFF;\n",
              "      --disabled-bg-color: #3B4455;\n",
              "      --disabled-fill-color: #666;\n",
              "  }\n",
              "\n",
              "  .colab-df-quickchart {\n",
              "    background-color: var(--bg-color);\n",
              "    border: none;\n",
              "    border-radius: 50%;\n",
              "    cursor: pointer;\n",
              "    display: none;\n",
              "    fill: var(--fill-color);\n",
              "    height: 32px;\n",
              "    padding: 0;\n",
              "    width: 32px;\n",
              "  }\n",
              "\n",
              "  .colab-df-quickchart:hover {\n",
              "    background-color: var(--hover-bg-color);\n",
              "    box-shadow: 0 1px 2px rgba(60, 64, 67, 0.3), 0 1px 3px 1px rgba(60, 64, 67, 0.15);\n",
              "    fill: var(--button-hover-fill-color);\n",
              "  }\n",
              "\n",
              "  .colab-df-quickchart-complete:disabled,\n",
              "  .colab-df-quickchart-complete:disabled:hover {\n",
              "    background-color: var(--disabled-bg-color);\n",
              "    fill: var(--disabled-fill-color);\n",
              "    box-shadow: none;\n",
              "  }\n",
              "\n",
              "  .colab-df-spinner {\n",
              "    border: 2px solid var(--fill-color);\n",
              "    border-color: transparent;\n",
              "    border-bottom-color: var(--fill-color);\n",
              "    animation:\n",
              "      spin 1s steps(1) infinite;\n",
              "  }\n",
              "\n",
              "  @keyframes spin {\n",
              "    0% {\n",
              "      border-color: transparent;\n",
              "      border-bottom-color: var(--fill-color);\n",
              "      border-left-color: var(--fill-color);\n",
              "    }\n",
              "    20% {\n",
              "      border-color: transparent;\n",
              "      border-left-color: var(--fill-color);\n",
              "      border-top-color: var(--fill-color);\n",
              "    }\n",
              "    30% {\n",
              "      border-color: transparent;\n",
              "      border-left-color: var(--fill-color);\n",
              "      border-top-color: var(--fill-color);\n",
              "      border-right-color: var(--fill-color);\n",
              "    }\n",
              "    40% {\n",
              "      border-color: transparent;\n",
              "      border-right-color: var(--fill-color);\n",
              "      border-top-color: var(--fill-color);\n",
              "    }\n",
              "    60% {\n",
              "      border-color: transparent;\n",
              "      border-right-color: var(--fill-color);\n",
              "    }\n",
              "    80% {\n",
              "      border-color: transparent;\n",
              "      border-right-color: var(--fill-color);\n",
              "      border-bottom-color: var(--fill-color);\n",
              "    }\n",
              "    90% {\n",
              "      border-color: transparent;\n",
              "      border-bottom-color: var(--fill-color);\n",
              "    }\n",
              "  }\n",
              "</style>\n",
              "\n",
              "  <script>\n",
              "    async function quickchart(key) {\n",
              "      const quickchartButtonEl =\n",
              "        document.querySelector('#' + key + ' button');\n",
              "      quickchartButtonEl.disabled = true;  // To prevent multiple clicks.\n",
              "      quickchartButtonEl.classList.add('colab-df-spinner');\n",
              "      try {\n",
              "        const charts = await google.colab.kernel.invokeFunction(\n",
              "            'suggestCharts', [key], {});\n",
              "      } catch (error) {\n",
              "        console.error('Error during call to suggestCharts:', error);\n",
              "      }\n",
              "      quickchartButtonEl.classList.remove('colab-df-spinner');\n",
              "      quickchartButtonEl.classList.add('colab-df-quickchart-complete');\n",
              "    }\n",
              "    (() => {\n",
              "      let quickchartButtonEl =\n",
              "        document.querySelector('#df-3f80e01b-0a45-41b9-9f0f-c292e1fb95fc button');\n",
              "      quickchartButtonEl.style.display =\n",
              "        google.colab.kernel.accessAllowed ? 'block' : 'none';\n",
              "    })();\n",
              "  </script>\n",
              "</div>\n",
              "    </div>\n",
              "  </div>\n"
            ],
            "application/vnd.google.colaboratory.intrinsic+json": {
              "type": "dataframe",
              "summary": "{\n  \"name\": \"df\",\n  \"rows\": 4,\n  \"fields\": [\n    {\n      \"column\": \"UserName\",\n      \"properties\": {\n        \"dtype\": \"number\",\n        \"std\": 16303,\n        \"min\": 5115,\n        \"max\": 44403,\n        \"num_unique_values\": 4,\n        \"samples\": [\n          5115,\n          44403,\n          30173\n        ],\n        \"semantic_type\": \"\",\n        \"description\": \"\"\n      }\n    },\n    {\n      \"column\": \"ScreenName\",\n      \"properties\": {\n        \"dtype\": \"number\",\n        \"std\": 16303,\n        \"min\": 50067,\n        \"max\": 89355,\n        \"num_unique_values\": 4,\n        \"samples\": [\n          50067,\n          89355,\n          75125\n        ],\n        \"semantic_type\": \"\",\n        \"description\": \"\"\n      }\n    },\n    {\n      \"column\": \"Location\",\n      \"properties\": {\n        \"dtype\": \"string\",\n        \"num_unique_values\": 3,\n        \"samples\": [\n          \"USA\",\n          \"Kenya\",\n          \"The Western Galil, Israel\"\n        ],\n        \"semantic_type\": \"\",\n        \"description\": \"\"\n      }\n    },\n    {\n      \"column\": \"TweetAt\",\n      \"properties\": {\n        \"dtype\": \"string\",\n        \"num_unique_values\": 4,\n        \"samples\": [\n          \"17-03-2020\",\n          \"13-04-2020\",\n          \"02-04-2020\"\n        ],\n        \"semantic_type\": \"\",\n        \"description\": \"\"\n      }\n    },\n    {\n      \"column\": \"OriginalTweet\",\n      \"properties\": {\n        \"dtype\": \"string\",\n        \"num_unique_values\": 4,\n        \"samples\": [\n          \"Social Distancing amp Online Shopping happens to be things that I m good at  \",\n          \"@jsolomonReports Scary stuff!\\r\\r\\nIsraeli grocery stores are low on stock, there's no fresh fish and the produce is old.  And Chinese food stuffs are hard to find...\\r\\r\\nBut I'm not starving.\\r\\r\\nGod help the poor.\\r\\r\\n#coronavirus\",\n          \"We\\u00c3\\u0082\\u00c2\\u0092re looking for a #silverlining right now and that\\u00c3\\u0082\\u00c2\\u0092s still the global protein shortage. This could be good for both US beef and pork. Have questions for @MUScottBrown and @BRNAgNews_MG? #WLMU #coronavirus #COVID19 #farmincome #prices\"\n        ],\n        \"semantic_type\": \"\",\n        \"description\": \"\"\n      }\n    },\n    {\n      \"column\": \"Sentiment\",\n      \"properties\": {\n        \"dtype\": \"string\",\n        \"num_unique_values\": 2,\n        \"samples\": [\n          \"Extremely Negative\",\n          \"Positive\"\n        ],\n        \"semantic_type\": \"\",\n        \"description\": \"\"\n      }\n    }\n  ]\n}"
            }
          },
          "metadata": {},
          "execution_count": 3
        }
      ],
      "source": [
        "df = pd.read_csv('/content/tweets_coronavirus.csv', encoding='latin-1')\n",
        "df.sample(4)"
      ]
    },
    {
      "cell_type": "markdown",
      "metadata": {
        "id": "m2OiDog9ZBlS"
      },
      "source": [
        "Для каждого твитта указано:\n",
        "\n",
        "\n",
        "*   UserName - имя пользователя, заменено на целое число для анонимности\n",
        "*   ScreenName - отображающееся имя пользователя, заменено на целое число для анонимности\n",
        "*   Location - местоположение\n",
        "*   TweetAt - дата создания твитта\n",
        "*   OriginalTweet - текст твитта\n",
        "*   Sentiment - эмоциональная окраска твитта (целевая переменная)\n",
        "\n"
      ]
    },
    {
      "cell_type": "markdown",
      "metadata": {
        "id": "pZTMseDkhTC7"
      },
      "source": [
        "## Задание 1 Подготовка (0.5 балла)"
      ]
    },
    {
      "cell_type": "markdown",
      "metadata": {
        "id": "Xx2-odn9hdAW"
      },
      "source": [
        "Целевая переменная находится в колонке `Sentiment`.  Преобразуйте ее таким образом, чтобы она стала бинарной: 1 - если у твитта положительная эмоциональная окраска и 0 - если отрицательная."
      ]
    },
    {
      "cell_type": "code",
      "execution_count": 4,
      "metadata": {
        "id": "ZaQKQ1zEjP15",
        "colab": {
          "base_uri": "https://localhost:8080/",
          "height": 175
        },
        "outputId": "404c1fc8-4ba3-49ca-f8ea-4b7b90a8206c"
      },
      "outputs": [
        {
          "output_type": "execute_result",
          "data": {
            "text/plain": [
              "       UserName  ScreenName                      Location     TweetAt  \\\n",
              "15155     22246       67198                       Karachi  23-03-2020   \n",
              "6159      11273       56225                    Boston, MA  19-03-2020   \n",
              "19495     27532       72484                 Park City, UT  26-03-2020   \n",
              "19488     27523       72475  Frankfurt, Brussels, Harvard  26-03-2020   \n",
              "\n",
              "                                           OriginalTweet  Sentiment  \n",
              "15155  I advice to our prime minister #ImranKhan and ...          1  \n",
              "6159   I work at cvs in a small town with no other st...          0  \n",
              "19495  We are closing in on the two-week mark since P...          0  \n",
              "19488  Just wondering, will Covid-19 lead to a renais...          0  "
            ],
            "text/html": [
              "\n",
              "  <div id=\"df-27dd6a82-e563-4793-bbbc-5b3f633a8565\" class=\"colab-df-container\">\n",
              "    <div>\n",
              "<style scoped>\n",
              "    .dataframe tbody tr th:only-of-type {\n",
              "        vertical-align: middle;\n",
              "    }\n",
              "\n",
              "    .dataframe tbody tr th {\n",
              "        vertical-align: top;\n",
              "    }\n",
              "\n",
              "    .dataframe thead th {\n",
              "        text-align: right;\n",
              "    }\n",
              "</style>\n",
              "<table border=\"1\" class=\"dataframe\">\n",
              "  <thead>\n",
              "    <tr style=\"text-align: right;\">\n",
              "      <th></th>\n",
              "      <th>UserName</th>\n",
              "      <th>ScreenName</th>\n",
              "      <th>Location</th>\n",
              "      <th>TweetAt</th>\n",
              "      <th>OriginalTweet</th>\n",
              "      <th>Sentiment</th>\n",
              "    </tr>\n",
              "  </thead>\n",
              "  <tbody>\n",
              "    <tr>\n",
              "      <th>15155</th>\n",
              "      <td>22246</td>\n",
              "      <td>67198</td>\n",
              "      <td>Karachi</td>\n",
              "      <td>23-03-2020</td>\n",
              "      <td>I advice to our prime minister #ImranKhan and ...</td>\n",
              "      <td>1</td>\n",
              "    </tr>\n",
              "    <tr>\n",
              "      <th>6159</th>\n",
              "      <td>11273</td>\n",
              "      <td>56225</td>\n",
              "      <td>Boston, MA</td>\n",
              "      <td>19-03-2020</td>\n",
              "      <td>I work at cvs in a small town with no other st...</td>\n",
              "      <td>0</td>\n",
              "    </tr>\n",
              "    <tr>\n",
              "      <th>19495</th>\n",
              "      <td>27532</td>\n",
              "      <td>72484</td>\n",
              "      <td>Park City, UT</td>\n",
              "      <td>26-03-2020</td>\n",
              "      <td>We are closing in on the two-week mark since P...</td>\n",
              "      <td>0</td>\n",
              "    </tr>\n",
              "    <tr>\n",
              "      <th>19488</th>\n",
              "      <td>27523</td>\n",
              "      <td>72475</td>\n",
              "      <td>Frankfurt, Brussels, Harvard</td>\n",
              "      <td>26-03-2020</td>\n",
              "      <td>Just wondering, will Covid-19 lead to a renais...</td>\n",
              "      <td>0</td>\n",
              "    </tr>\n",
              "  </tbody>\n",
              "</table>\n",
              "</div>\n",
              "    <div class=\"colab-df-buttons\">\n",
              "\n",
              "  <div class=\"colab-df-container\">\n",
              "    <button class=\"colab-df-convert\" onclick=\"convertToInteractive('df-27dd6a82-e563-4793-bbbc-5b3f633a8565')\"\n",
              "            title=\"Convert this dataframe to an interactive table.\"\n",
              "            style=\"display:none;\">\n",
              "\n",
              "  <svg xmlns=\"http://www.w3.org/2000/svg\" height=\"24px\" viewBox=\"0 -960 960 960\">\n",
              "    <path d=\"M120-120v-720h720v720H120Zm60-500h600v-160H180v160Zm220 220h160v-160H400v160Zm0 220h160v-160H400v160ZM180-400h160v-160H180v160Zm440 0h160v-160H620v160ZM180-180h160v-160H180v160Zm440 0h160v-160H620v160Z\"/>\n",
              "  </svg>\n",
              "    </button>\n",
              "\n",
              "  <style>\n",
              "    .colab-df-container {\n",
              "      display:flex;\n",
              "      gap: 12px;\n",
              "    }\n",
              "\n",
              "    .colab-df-convert {\n",
              "      background-color: #E8F0FE;\n",
              "      border: none;\n",
              "      border-radius: 50%;\n",
              "      cursor: pointer;\n",
              "      display: none;\n",
              "      fill: #1967D2;\n",
              "      height: 32px;\n",
              "      padding: 0 0 0 0;\n",
              "      width: 32px;\n",
              "    }\n",
              "\n",
              "    .colab-df-convert:hover {\n",
              "      background-color: #E2EBFA;\n",
              "      box-shadow: 0px 1px 2px rgba(60, 64, 67, 0.3), 0px 1px 3px 1px rgba(60, 64, 67, 0.15);\n",
              "      fill: #174EA6;\n",
              "    }\n",
              "\n",
              "    .colab-df-buttons div {\n",
              "      margin-bottom: 4px;\n",
              "    }\n",
              "\n",
              "    [theme=dark] .colab-df-convert {\n",
              "      background-color: #3B4455;\n",
              "      fill: #D2E3FC;\n",
              "    }\n",
              "\n",
              "    [theme=dark] .colab-df-convert:hover {\n",
              "      background-color: #434B5C;\n",
              "      box-shadow: 0px 1px 3px 1px rgba(0, 0, 0, 0.15);\n",
              "      filter: drop-shadow(0px 1px 2px rgba(0, 0, 0, 0.3));\n",
              "      fill: #FFFFFF;\n",
              "    }\n",
              "  </style>\n",
              "\n",
              "    <script>\n",
              "      const buttonEl =\n",
              "        document.querySelector('#df-27dd6a82-e563-4793-bbbc-5b3f633a8565 button.colab-df-convert');\n",
              "      buttonEl.style.display =\n",
              "        google.colab.kernel.accessAllowed ? 'block' : 'none';\n",
              "\n",
              "      async function convertToInteractive(key) {\n",
              "        const element = document.querySelector('#df-27dd6a82-e563-4793-bbbc-5b3f633a8565');\n",
              "        const dataTable =\n",
              "          await google.colab.kernel.invokeFunction('convertToInteractive',\n",
              "                                                    [key], {});\n",
              "        if (!dataTable) return;\n",
              "\n",
              "        const docLinkHtml = 'Like what you see? Visit the ' +\n",
              "          '<a target=\"_blank\" href=https://colab.research.google.com/notebooks/data_table.ipynb>data table notebook</a>'\n",
              "          + ' to learn more about interactive tables.';\n",
              "        element.innerHTML = '';\n",
              "        dataTable['output_type'] = 'display_data';\n",
              "        await google.colab.output.renderOutput(dataTable, element);\n",
              "        const docLink = document.createElement('div');\n",
              "        docLink.innerHTML = docLinkHtml;\n",
              "        element.appendChild(docLink);\n",
              "      }\n",
              "    </script>\n",
              "  </div>\n",
              "\n",
              "\n",
              "<div id=\"df-4cd7c882-cfbe-431b-96d0-b1b77787376a\">\n",
              "  <button class=\"colab-df-quickchart\" onclick=\"quickchart('df-4cd7c882-cfbe-431b-96d0-b1b77787376a')\"\n",
              "            title=\"Suggest charts\"\n",
              "            style=\"display:none;\">\n",
              "\n",
              "<svg xmlns=\"http://www.w3.org/2000/svg\" height=\"24px\"viewBox=\"0 0 24 24\"\n",
              "     width=\"24px\">\n",
              "    <g>\n",
              "        <path d=\"M19 3H5c-1.1 0-2 .9-2 2v14c0 1.1.9 2 2 2h14c1.1 0 2-.9 2-2V5c0-1.1-.9-2-2-2zM9 17H7v-7h2v7zm4 0h-2V7h2v10zm4 0h-2v-4h2v4z\"/>\n",
              "    </g>\n",
              "</svg>\n",
              "  </button>\n",
              "\n",
              "<style>\n",
              "  .colab-df-quickchart {\n",
              "      --bg-color: #E8F0FE;\n",
              "      --fill-color: #1967D2;\n",
              "      --hover-bg-color: #E2EBFA;\n",
              "      --hover-fill-color: #174EA6;\n",
              "      --disabled-fill-color: #AAA;\n",
              "      --disabled-bg-color: #DDD;\n",
              "  }\n",
              "\n",
              "  [theme=dark] .colab-df-quickchart {\n",
              "      --bg-color: #3B4455;\n",
              "      --fill-color: #D2E3FC;\n",
              "      --hover-bg-color: #434B5C;\n",
              "      --hover-fill-color: #FFFFFF;\n",
              "      --disabled-bg-color: #3B4455;\n",
              "      --disabled-fill-color: #666;\n",
              "  }\n",
              "\n",
              "  .colab-df-quickchart {\n",
              "    background-color: var(--bg-color);\n",
              "    border: none;\n",
              "    border-radius: 50%;\n",
              "    cursor: pointer;\n",
              "    display: none;\n",
              "    fill: var(--fill-color);\n",
              "    height: 32px;\n",
              "    padding: 0;\n",
              "    width: 32px;\n",
              "  }\n",
              "\n",
              "  .colab-df-quickchart:hover {\n",
              "    background-color: var(--hover-bg-color);\n",
              "    box-shadow: 0 1px 2px rgba(60, 64, 67, 0.3), 0 1px 3px 1px rgba(60, 64, 67, 0.15);\n",
              "    fill: var(--button-hover-fill-color);\n",
              "  }\n",
              "\n",
              "  .colab-df-quickchart-complete:disabled,\n",
              "  .colab-df-quickchart-complete:disabled:hover {\n",
              "    background-color: var(--disabled-bg-color);\n",
              "    fill: var(--disabled-fill-color);\n",
              "    box-shadow: none;\n",
              "  }\n",
              "\n",
              "  .colab-df-spinner {\n",
              "    border: 2px solid var(--fill-color);\n",
              "    border-color: transparent;\n",
              "    border-bottom-color: var(--fill-color);\n",
              "    animation:\n",
              "      spin 1s steps(1) infinite;\n",
              "  }\n",
              "\n",
              "  @keyframes spin {\n",
              "    0% {\n",
              "      border-color: transparent;\n",
              "      border-bottom-color: var(--fill-color);\n",
              "      border-left-color: var(--fill-color);\n",
              "    }\n",
              "    20% {\n",
              "      border-color: transparent;\n",
              "      border-left-color: var(--fill-color);\n",
              "      border-top-color: var(--fill-color);\n",
              "    }\n",
              "    30% {\n",
              "      border-color: transparent;\n",
              "      border-left-color: var(--fill-color);\n",
              "      border-top-color: var(--fill-color);\n",
              "      border-right-color: var(--fill-color);\n",
              "    }\n",
              "    40% {\n",
              "      border-color: transparent;\n",
              "      border-right-color: var(--fill-color);\n",
              "      border-top-color: var(--fill-color);\n",
              "    }\n",
              "    60% {\n",
              "      border-color: transparent;\n",
              "      border-right-color: var(--fill-color);\n",
              "    }\n",
              "    80% {\n",
              "      border-color: transparent;\n",
              "      border-right-color: var(--fill-color);\n",
              "      border-bottom-color: var(--fill-color);\n",
              "    }\n",
              "    90% {\n",
              "      border-color: transparent;\n",
              "      border-bottom-color: var(--fill-color);\n",
              "    }\n",
              "  }\n",
              "</style>\n",
              "\n",
              "  <script>\n",
              "    async function quickchart(key) {\n",
              "      const quickchartButtonEl =\n",
              "        document.querySelector('#' + key + ' button');\n",
              "      quickchartButtonEl.disabled = true;  // To prevent multiple clicks.\n",
              "      quickchartButtonEl.classList.add('colab-df-spinner');\n",
              "      try {\n",
              "        const charts = await google.colab.kernel.invokeFunction(\n",
              "            'suggestCharts', [key], {});\n",
              "      } catch (error) {\n",
              "        console.error('Error during call to suggestCharts:', error);\n",
              "      }\n",
              "      quickchartButtonEl.classList.remove('colab-df-spinner');\n",
              "      quickchartButtonEl.classList.add('colab-df-quickchart-complete');\n",
              "    }\n",
              "    (() => {\n",
              "      let quickchartButtonEl =\n",
              "        document.querySelector('#df-4cd7c882-cfbe-431b-96d0-b1b77787376a button');\n",
              "      quickchartButtonEl.style.display =\n",
              "        google.colab.kernel.accessAllowed ? 'block' : 'none';\n",
              "    })();\n",
              "  </script>\n",
              "</div>\n",
              "    </div>\n",
              "  </div>\n"
            ],
            "application/vnd.google.colaboratory.intrinsic+json": {
              "type": "dataframe",
              "repr_error": "0"
            }
          },
          "metadata": {},
          "execution_count": 4
        }
      ],
      "source": [
        "df['Sentiment'] = df['Sentiment'].replace({'Positive': 1, 'Extremely Positive': 1, 'Negative':0, 'Extremely Negative':0})\n",
        "df.sample(4)"
      ]
    },
    {
      "cell_type": "markdown",
      "metadata": {
        "id": "pGq1FxJ-kBo5"
      },
      "source": [
        "Сбалансированы ли классы?"
      ]
    },
    {
      "cell_type": "code",
      "execution_count": 5,
      "metadata": {
        "id": "a7gdNtxckK5V",
        "colab": {
          "base_uri": "https://localhost:8080/"
        },
        "outputId": "2697d04d-fe83-41fb-f940-18b35f8c3f8e"
      },
      "outputs": [
        {
          "output_type": "execute_result",
          "data": {
            "text/plain": [
              "Sentiment\n",
              "1    18046\n",
              "0    15398\n",
              "Name: count, dtype: int64"
            ]
          },
          "metadata": {},
          "execution_count": 5
        }
      ],
      "source": [
        "df['Sentiment'].value_counts()"
      ]
    },
    {
      "cell_type": "markdown",
      "metadata": {
        "id": "Ng8BCelMkWb0"
      },
      "source": [
        "**Ответ:** Классы не сбалансированы. Твиттов с положительной эмоциональной окраской больше на 17%, чем твитов с отрицательной эмоциональной окраской"
      ]
    },
    {
      "cell_type": "markdown",
      "metadata": {
        "id": "qmSIBSsLk5Zz"
      },
      "source": [
        "Выведете на экран информацию о пропусках в данных. Если пропуски присутствуют заполните их строкой 'Unknown'."
      ]
    },
    {
      "cell_type": "code",
      "execution_count": 6,
      "metadata": {
        "id": "UhUVRkR5kxa7",
        "colab": {
          "base_uri": "https://localhost:8080/"
        },
        "outputId": "8742d587-5490-4c72-ffff-5e6bec243698"
      },
      "outputs": [
        {
          "output_type": "stream",
          "name": "stdout",
          "text": [
            "UserName            0\n",
            "ScreenName          0\n",
            "Location         7049\n",
            "TweetAt             0\n",
            "OriginalTweet       0\n",
            "Sentiment           0\n",
            "dtype: int64\n"
          ]
        }
      ],
      "source": [
        "print(df.isna().sum())"
      ]
    },
    {
      "cell_type": "code",
      "source": [
        "df['Location'] = df['Location'].fillna('Unknown')\n",
        "print(df.isna().sum())"
      ],
      "metadata": {
        "colab": {
          "base_uri": "https://localhost:8080/"
        },
        "id": "_wvzDAjLQT58",
        "outputId": "dcdce901-834e-4554-e187-2c595ab096f2"
      },
      "execution_count": 7,
      "outputs": [
        {
          "output_type": "stream",
          "name": "stdout",
          "text": [
            "UserName         0\n",
            "ScreenName       0\n",
            "Location         0\n",
            "TweetAt          0\n",
            "OriginalTweet    0\n",
            "Sentiment        0\n",
            "dtype: int64\n"
          ]
        }
      ]
    },
    {
      "cell_type": "markdown",
      "metadata": {
        "id": "1tzt27tfjUpq"
      },
      "source": [
        "Разделите данные на обучающие и тестовые в соотношении 7 : 3 и `random_state=0`"
      ]
    },
    {
      "cell_type": "code",
      "execution_count": 8,
      "metadata": {
        "id": "xSLOA9tIj9Z6"
      },
      "outputs": [],
      "source": [
        "from sklearn.model_selection import train_test_split\n",
        "\n",
        "train, test = train_test_split(df, test_size=0.3, random_state=0)"
      ]
    },
    {
      "cell_type": "markdown",
      "metadata": {
        "id": "J9RrPUsJlL60"
      },
      "source": [
        "## Задание 2 Токенизация (3 балла)"
      ]
    },
    {
      "cell_type": "markdown",
      "metadata": {
        "id": "2Dz_b7Xopc_R"
      },
      "source": [
        "Постройте словарь на основе обучающей выборки и посчитайте количество встреч каждого токена с использованием самой простой токенизации - деления текстов по пробельным символам и приведение токенов в нижний регистр"
      ]
    },
    {
      "cell_type": "code",
      "execution_count": 9,
      "metadata": {
        "id": "SFr67WOJphny",
        "colab": {
          "base_uri": "https://localhost:8080/"
        },
        "outputId": "64eb6d37-c0a5-4d79-8e30-e4bd4663a4b5"
      },
      "outputs": [
        {
          "output_type": "execute_result",
          "data": {
            "text/plain": [
              "{'why': 654,\n",
              " 'we': 3787,\n",
              " 'still': 763,\n",
              " 'want': 487,\n",
              " 'to': 23373,\n",
              " 'buy': 748,\n",
              " 'so': 1837,\n",
              " 'much': 482,\n",
              " 'stuff': 106,\n",
              " 'during': 1908,\n",
              " 'quarantine': 154,\n",
              " 'https://t.co/1m881cwfuv': 1,\n",
              " '#shopping': 121,\n",
              " '#covid_19': 1660,\n",
              " '#online': 40,\n",
              " 'with': 4063,\n",
              " 'driving': 77,\n",
              " 'even': 682,\n",
              " 'more': 2008,\n",
              " 'usage': 22,\n",
              " 'a': 11737,\n",
              " 'strong': 93,\n",
              " 'strategy': 33,\n",
              " 'is': 7383,\n",
              " 'critical': 156,\n",
              " 'now': 1349,\n",
              " 'then': 435,\n",
              " 'ever': 179,\n",
              " 'luckily': 8,\n",
              " 'and': 14684,\n",
              " 'april': 163,\n",
              " '16': 36,\n",
              " 'webinar': 65,\n",
              " 'will': 2726,\n",
              " 'dive': 10,\n",
              " 'into': 666,\n",
              " 'growing': 84,\n",
              " 'app': 52,\n",
              " 'awareness': 32,\n",
              " 'targeting': 9,\n",
              " 'high': 408,\n",
              " 'lifetime': 4,\n",
              " 'value': 79,\n",
              " 'users': 19,\n",
              " '@canon_india': 16,\n",
              " 'i': 5340,\n",
              " 'am': 424,\n",
              " 'very': 418,\n",
              " 'happy..': 1,\n",
              " 'great': 409,\n",
              " 'job': 242,\n",
              " 'by': 2236,\n",
              " '#canonforcommunity': 5,\n",
              " 'https://t.co/z0intks34x': 1,\n",
              " 'the': 26815,\n",
              " 'u.s': 8,\n",
              " 'national': 123,\n",
              " 'debt': 68,\n",
              " 'likely': 170,\n",
              " 'exceed': 14,\n",
              " '$30': 7,\n",
              " 'trillion': 21,\n",
              " 'after': 886,\n",
              " 'unprecedented': 89,\n",
              " 'borrowing': 5,\n",
              " 'trump': 228,\n",
              " 'administration': 38,\n",
              " 'mnuchinã\\x82â\\x92s': 1,\n",
              " 'treasury': 3,\n",
              " '#coronavirus': 8223,\n",
              " 'crisis.': 162,\n",
              " 'federal': 99,\n",
              " 'reserve': 17,\n",
              " 'could': 640,\n",
              " 'be': 3570,\n",
              " 'doing': 508,\n",
              " 'cushion': 9,\n",
              " 'blow.': 4,\n",
              " 'consumer': 2245,\n",
              " 'led': 67,\n",
              " 'economy': 244,\n",
              " 'on': 5452,\n",
              " 'brink.': 1,\n",
              " 'finally': 91,\n",
              " 'got': 407,\n",
              " 'grocery': 3469,\n",
              " 'store.': 348,\n",
              " 'honestly,': 8,\n",
              " 'what': 1541,\n",
              " 'are': 7050,\n",
              " 'you': 5467,\n",
              " 'people': 3175,\n",
              " 'all': 2808,\n",
              " 'toilet': 824,\n",
              " 'paper?': 24,\n",
              " 'https://t.co/jmobv8z0u0': 1,\n",
              " 'friends:': 3,\n",
              " 'catholic': 7,\n",
              " \"university's\": 1,\n",
              " 'food': 3820,\n",
              " 'service': 305,\n",
              " 'workers': 1242,\n",
              " 'have': 3770,\n",
              " 'been': 1081,\n",
              " 'laid': 50,\n",
              " 'off': 472,\n",
              " 'without': 301,\n",
              " 'pay.': 14,\n",
              " '(by': 4,\n",
              " 'contrast,': 2,\n",
              " 'georgetown': 2,\n",
              " 'has': 2304,\n",
              " 'set': 146,\n",
              " 'an': 1417,\n",
              " 'example': 46,\n",
              " 'consistent': 7,\n",
              " 'social': 615,\n",
              " 'teaching.)': 1,\n",
              " 'please': 1061,\n",
              " 'sign': 106,\n",
              " 'rt.': 4,\n",
              " '@catholicpres': 1,\n",
              " '@catholicuniv': 1,\n",
              " 'https://t.co/evqby035wf': 1,\n",
              " \"it's\": 571,\n",
              " 'times': 372,\n",
              " 'like': 1550,\n",
              " 'these': 922,\n",
              " 'understand': 151,\n",
              " 'of': 13012,\n",
              " 'bidet.': 2,\n",
              " '#europe': 14,\n",
              " '#bidet': 6,\n",
              " '#toiletpaper': 691,\n",
              " 'regulatory': 11,\n",
              " 'litigation': 3,\n",
              " 'risks': 38,\n",
              " 'financial': 233,\n",
              " 'services': 263,\n",
              " 'providers': 38,\n",
              " 'highlighted': 9,\n",
              " 'in': 11198,\n",
              " 'ballard': 2,\n",
              " 'spahr': 2,\n",
              " 'covid-19': 3173,\n",
              " 'crisis': 713,\n",
              " 'fallout': 21,\n",
              " 'https://t.co/riqrhxxeim': 1,\n",
              " 'via': 687,\n",
              " '@@ballardspahrll': 1,\n",
              " '#training': 2,\n",
              " '#aca': 1,\n",
              " \"don't\": 551,\n",
              " 'panic': 1495,\n",
              " 'buying.': 77,\n",
              " \"i've\": 157,\n",
              " 'struggled': 10,\n",
              " 'get': 1759,\n",
              " 'basics': 19,\n",
              " 'as': 3694,\n",
              " 'emptying': 29,\n",
              " 'shelves.': 79,\n",
              " 'sensible': 20,\n",
              " \"aren't\": 61,\n",
              " 'shortage,': 13,\n",
              " 'just': 1540,\n",
              " 'shop': 471,\n",
              " 'time': 1136,\n",
              " 'restock': 42,\n",
              " 'if': 2142,\n",
              " \"we're\": 168,\n",
              " 'sensible,': 2,\n",
              " 'life': 244,\n",
              " 'slightly': 9,\n",
              " 'easier...take': 1,\n",
              " 'care': 401,\n",
              " '#coronacrisis': 423,\n",
              " 'at': 4642,\n",
              " 'least': 222,\n",
              " 'essential': 496,\n",
              " 'allowed,': 2,\n",
              " 'can': 2202,\n",
              " 'go': 1245,\n",
              " 'store': 3155,\n",
              " 'bank.': 8,\n",
              " 'itã\\x82â\\x92s': 459,\n",
              " 'ridiculous': 56,\n",
              " 'that': 3741,\n",
              " 'actually': 149,\n",
              " 'act': 102,\n",
              " 'going': 1141,\n",
              " 'those': 789,\n",
              " 'types': 25,\n",
              " 'places': 82,\n",
              " 'ã\\x82â\\x93necessaryã\\x82â\\x94': 1,\n",
              " 'stopped': 51,\n",
              " 'police.': 3,\n",
              " '?': 1320,\n",
              " '#covid19': 2471,\n",
              " '#quarantinelife': 112,\n",
              " 'queues': 54,\n",
              " 'outside': 151,\n",
              " 'supermarket': 3288,\n",
              " 'reserved': 10,\n",
              " 'for': 8566,\n",
              " 'elderly.': 8,\n",
              " 'britain,': 5,\n",
              " 'were': 566,\n",
              " 'better': 267,\n",
              " 'than': 891,\n",
              " 'this.': 92,\n",
              " 'https://t.co/0fmsmlgepm': 1,\n",
              " 'lt.': 3,\n",
              " 'gov.': 18,\n",
              " 'husted:': 1,\n",
              " '\"come': 4,\n",
              " 'people.': 113,\n",
              " 'that.\"': 4,\n",
              " 'hearing': 43,\n",
              " 'fight': 330,\n",
              " 'over': 786,\n",
              " 'paper': 587,\n",
              " 'from': 3045,\n",
              " 'one': 1074,\n",
              " 'american': 93,\n",
              " 'irishman': 1,\n",
              " 'others': 300,\n",
              " 'out': 2026,\n",
              " 'there,': 13,\n",
              " '#happystpatricksday!': 1,\n",
              " 'bought': 163,\n",
              " 'some': 1320,\n",
              " 'guiness': 1,\n",
              " 'corned': 2,\n",
              " 'beef': 32,\n",
              " 'cabbage': 2,\n",
              " 'other': 890,\n",
              " 'day': 521,\n",
              " 'since': 369,\n",
              " 'sadly': 19,\n",
              " 'cannot': 147,\n",
              " 'irish': 5,\n",
              " 'pub': 22,\n",
              " 'per': 246,\n",
              " 'tradition,': 2,\n",
              " 'thanks': 275,\n",
              " 'governor': 48,\n",
              " 'pritzker': 2,\n",
              " 'damn': 70,\n",
              " '@ufcw': 7,\n",
              " 'says': 369,\n",
              " '30': 79,\n",
              " 'died': 117,\n",
              " '#coronavirus.': 228,\n",
              " 'union': 38,\n",
              " 'reps': 6,\n",
              " 'consumers': 307,\n",
              " 'help': 1282,\n",
              " 'protect': 340,\n",
              " 'workers/the': 1,\n",
              " 'public.': 20,\n",
              " '-': 1429,\n",
              " 'wear': 182,\n",
              " 'mask': 330,\n",
              " 'when': 1343,\n",
              " 'shopping': 1621,\n",
              " 'touch': 75,\n",
              " 'few': 317,\n",
              " 'products': 427,\n",
              " 'possible': 143,\n",
              " 'throw': 27,\n",
              " 'used': 178,\n",
              " 'mask/gloves': 2,\n",
              " 'ã\\x82â\\x93major': 2,\n",
              " 'chains': 147,\n",
              " 'beginning': 83,\n",
              " 'report': 268,\n",
              " 'their': 1972,\n",
              " 'first': 475,\n",
              " 'coronavirus-related': 14,\n",
              " 'employee': 114,\n",
              " 'deaths,': 7,\n",
              " 'leading': 61,\n",
              " 'closures': 77,\n",
              " 'increasing': 121,\n",
              " 'anxiety': 90,\n",
              " 'among': 90,\n",
              " 'pandemic': 1026,\n",
              " 'intensifies': 8,\n",
              " 'across': 318,\n",
              " 'countryã\\x82â\\x94': 1,\n",
              " 'https://t.co/18v0pyhwb7': 1,\n",
              " 'my': 2445,\n",
              " 'story': 122,\n",
              " 'another': 246,\n",
              " 'aspect': 3,\n",
              " 'covid-19:': 134,\n",
              " 'banks': 244,\n",
              " 'face': 402,\n",
              " 'virus': 480,\n",
              " 'dilemma:': 3,\n",
              " 'demand,': 67,\n",
              " 'fewer': 28,\n",
              " 'volunteers': 68,\n",
              " 'https://t.co/ls0g86i8pu': 1,\n",
              " 'https://t.co/ofvkejff23': 1,\n",
              " 'walking': 68,\n",
              " 'around': 391,\n",
              " 'store,': 196,\n",
              " 'wearing': 190,\n",
              " 'was': 1384,\n",
              " 'weird.': 5,\n",
              " 'seeing': 214,\n",
              " 'mask,': 41,\n",
              " 'normal.': 28,\n",
              " 'sanitizing': 36,\n",
              " 'everything': 280,\n",
              " 'before': 433,\n",
              " 'putting': 166,\n",
              " 'it': 3150,\n",
              " 'away.': 26,\n",
              " 'weird': 37,\n",
              " 'time.': 158,\n",
              " '#azliving': 2,\n",
              " 'https://t.co/xoodgd2ulx': 1,\n",
              " 'point': 117,\n",
              " 're': 328,\n",
              " 'stock': 1063,\n",
              " 'piling': 36,\n",
              " 'live': 236,\n",
              " 'lifestyles': 1,\n",
              " 'eat': 125,\n",
              " 'lot': 262,\n",
              " 'don': 251,\n",
              " 't': 648,\n",
              " 'carry': 56,\n",
              " 'but': 2159,\n",
              " '70': 28,\n",
              " 'mother': 45,\n",
              " 'inherited': 1,\n",
              " 'wartime': 3,\n",
              " 'mentality': 2,\n",
              " 'doesn': 37,\n",
              " 'everyone': 600,\n",
              " '14': 49,\n",
              " 'days': 325,\n",
              " 'worth': 105,\n",
              " 'larder': 1,\n",
              " '1': 340,\n",
              " '2': 582,\n",
              " 'bay': 24,\n",
              " 'view': 42,\n",
              " 'distillery': 29,\n",
              " 'bottling': 1,\n",
              " 'hand': 1382,\n",
              " 'sanitizer': 1064,\n",
              " 'area': 125,\n",
              " 'nonprofits': 7,\n",
              " 'https://t.co/ogxu5ojpxh': 1,\n",
              " 'https://t.co/8cs3skukmn': 1,\n",
              " '#inspiration&gt;&gt;': 1,\n",
              " '#regram': 1,\n",
              " '#showcasing&gt;&gt;': 1,\n",
              " '#artwork': 1,\n",
              " '@karencantuq:': 1,\n",
              " 'title:': 2,\n",
              " '\"ready': 1,\n",
              " 'wipe': 59,\n",
              " 'coronavirus\"': 3,\n",
              " 'caption:': 2,\n",
              " '\"ps': 1,\n",
              " 'donã\\x82â\\x92t': 414,\n",
              " 'people\"': 2,\n",
              " '#stayinsideyourhouse': 1,\n",
              " 'follow&gt;&gt;': 1,\n",
              " '@authorship.me': 1,\n",
              " 'instagram:': 4,\n",
              " 'authorzine&gt;&gt;': 1,\n",
              " 'https://t.co/qo7tzfr0ih': 1,\n",
              " 'https://t.co/yu6kokta74': 1,\n",
              " 'spent': 43,\n",
              " 'trying': 307,\n",
              " 'book': 56,\n",
              " 'delivery': 686,\n",
              " 'any': 624,\n",
              " 'supermarket.': 204,\n",
              " 'there': 1219,\n",
              " 'no': 1898,\n",
              " 'availability': 30,\n",
              " '.': 454,\n",
              " 'self': 210,\n",
              " 'isolate': 52,\n",
              " '12': 78,\n",
              " 'weeks': 312,\n",
              " 'due': 1059,\n",
              " 'being': 827,\n",
              " 'immune': 59,\n",
              " 'supressed.': 1,\n",
              " 'how': 1850,\n",
              " 'supposed': 56,\n",
              " 'food?': 24,\n",
              " 'wonder': 67,\n",
              " 'stockpiled.': 4,\n",
              " 'help!': 15,\n",
              " '#coronacrisisuk': 49,\n",
              " '#stockpilinguk': 18,\n",
              " '#food': 158,\n",
              " 'complete': 61,\n",
              " 'madness': 22,\n",
              " '@borisjohnson': 78,\n",
              " '@susannareid100': 6,\n",
              " '@hollywills': 2,\n",
              " '@piersmorgan': 51,\n",
              " '@eamonnholmes': 1,\n",
              " '@ruthieel': 1,\n",
              " '@gmb': 15,\n",
              " '@bbcnews': 17,\n",
              " '@dailymailuk': 7,\n",
              " '#londonlockdown': 10,\n",
              " '#uklockdown': 22,\n",
              " '#covid-19': 191,\n",
              " 'https://t.co/dexxnx7ox3': 1,\n",
              " '\"forcing': 1,\n",
              " '50': 83,\n",
              " 'governors': 14,\n",
              " 'compete': 12,\n",
              " 'lifesaving': 5,\n",
              " 'equipment': 86,\n",
              " 'ã\\x82â\\x97': 141,\n",
              " 'hospitals': 81,\n",
              " 'pay': 329,\n",
              " 'exorbitant': 34,\n",
              " 'prices': 3891,\n",
              " 'only': 851,\n",
              " 'makes': 114,\n",
              " 'matters': 10,\n",
              " 'worse.\"': 1,\n",
              " 'bill': 67,\n",
              " 'gates:': 2,\n",
              " 'hereã\\x82â\\x92s': 59,\n",
              " 'make': 811,\n",
              " 'up': 1987,\n",
              " 'lost': 143,\n",
              " 'https://t.co/yh3rytrevk': 1,\n",
              " '#mondaymotivation': 16,\n",
              " 'iã\\x82â\\x92m': 414,\n",
              " 'privileged': 7,\n",
              " 'enough': 337,\n",
              " 'drive': 149,\n",
              " 'places.': 9,\n",
              " 'canã\\x82â\\x92t': 243,\n",
              " 'stop': 730,\n",
              " 'thinking': 98,\n",
              " 'about': 1726,\n",
              " 'easy': 74,\n",
              " 'access': 195,\n",
              " 'transport': 61,\n",
              " 'or': 2234,\n",
              " 'who': 1670,\n",
              " 'less': 212,\n",
              " 'able': 249,\n",
              " 'travel': 135,\n",
              " 'multiple': 43,\n",
              " 'shops.': 28,\n",
              " 'start': 201,\n",
              " '#stoppanicbuying': 130,\n",
              " '2/2': 8,\n",
              " 'especially': 161,\n",
              " 'whilst': 54,\n",
              " 'tesco': 51,\n",
              " 'own': 234,\n",
              " 'stores': 648,\n",
              " 'such': 269,\n",
              " 'leyton': 1,\n",
              " 'leytonstone': 2,\n",
              " 'frontline,': 4,\n",
              " 'dealing': 66,\n",
              " 'covid-19,': 311,\n",
              " 'restricted': 21,\n",
              " 'getting': 415,\n",
              " 'vulnerable': 275,\n",
              " 'difficult': 140,\n",
              " 'circumstances.': 8,\n",
              " 'every': 509,\n",
              " 'little': 208,\n",
              " 'helps!': 3,\n",
              " 'indeed!': 5,\n",
              " 'longer': 104,\n",
              " 'having': 257,\n",
              " 'cocktail': 3,\n",
              " 'parties,': 2,\n",
              " 'us': 1247,\n",
              " 'prefer': 15,\n",
              " 'stay': 895,\n",
              " 'sober': 2,\n",
              " 'find': 431,\n",
              " 'club': 24,\n",
              " 'soda': 4,\n",
              " 'local': 821,\n",
              " 'fourth': 6,\n",
              " 'emergency': 267,\n",
              " 'scammers': 113,\n",
              " 'using': 272,\n",
              " 'messages': 27,\n",
              " 'scam': 71,\n",
              " 'https://t.co/nzsthpcxre': 1,\n",
              " 'heaven': 3,\n",
              " 'hades': 1,\n",
              " 'judgement': 3,\n",
              " 'eternal': 2,\n",
              " 'hey': 89,\n",
              " 'wednesday': 42,\n",
              " '3': 364,\n",
              " 'helping': 213,\n",
              " 'free': 467,\n",
              " 'add': 66,\n",
              " 'link': 90,\n",
              " 'tell': 139,\n",
              " 'me': 920,\n",
              " 'which': 504,\n",
              " 'poll': 8,\n",
              " 'll': 75,\n",
              " 'feature': 9,\n",
              " 'blog': 63,\n",
              " '226k': 1,\n",
              " 'views': 11,\n",
              " 'tweet': 29,\n",
              " '54k': 1,\n",
              " 'followers': 12,\n",
              " 'mom': 48,\n",
              " 'found': 169,\n",
              " '#vintagetoiletpaper': 1,\n",
              " 'her': 377,\n",
              " 'basement.': 1,\n",
              " 'circa': 2,\n",
              " '1987.': 1,\n",
              " 'blue': 19,\n",
              " 'peach.': 1,\n",
              " 'told': 216,\n",
              " 'list': 173,\n",
              " '@ebay': 21,\n",
              " 'easy?': 1,\n",
              " '???': 182,\n",
              " 'https://t.co/2tvpmsaxox': 1,\n",
              " '@realdonaldtrump': 151,\n",
              " 'hear': 106,\n",
              " 'out,': 49,\n",
              " 'instead': 147,\n",
              " 'bailing': 6,\n",
              " 'corporations': 22,\n",
              " 'bailed': 2,\n",
              " 'everyoneã\\x82â\\x92s': 14,\n",
              " 'under': 239,\n",
              " '200k?': 1,\n",
              " 'bet': 31,\n",
              " 'would': 730,\n",
              " 'billions': 15,\n",
              " 'aaannnddd': 1,\n",
              " 'rebuy': 1,\n",
              " 'more!': 17,\n",
              " 'plus!': 1,\n",
              " 'our': 2460,\n",
              " 'tax': 64,\n",
              " 'mon': 3,\n",
              " 'yourself': 147,\n",
              " 'washing': 93,\n",
              " 'your': 2784,\n",
              " 'hands': 303,\n",
              " 'often': 60,\n",
              " 'soap': 161,\n",
              " 'water': 194,\n",
              " 'use': 572,\n",
              " '#wolverhampton': 1,\n",
              " 'https://t.co/e7ifbsqaxx': 1,\n",
              " 'two': 331,\n",
              " 'stories': 39,\n",
              " 'should': 875,\n",
              " 'mutually': 1,\n",
              " 'exclusive.': 1,\n",
              " \"couldn't\": 36,\n",
              " 'alleviate': 10,\n",
              " 'vice': 5,\n",
              " 'versa?': 1,\n",
              " 'https://t.co/01oc3pig5b': 1,\n",
              " 'https://t.co/omjr2atzhp': 1,\n",
              " \"here's\": 99,\n",
              " 'idea,': 5,\n",
              " 'become': 138,\n",
              " 'historian.': 1,\n",
              " 'write': 20,\n",
              " 'daily': 192,\n",
              " 'weekly': 60,\n",
              " 'diary': 7,\n",
              " 'grand': 12,\n",
              " 'children': 71,\n",
              " 'experiences.': 3,\n",
              " 'sacrifices,': 2,\n",
              " 'anecdotes,': 1,\n",
              " 'funny': 36,\n",
              " 'sad': 53,\n",
              " 'stories,': 1,\n",
              " 'recipes,': 3,\n",
              " 'photos': 38,\n",
              " 'newspaper': 3,\n",
              " 'clippings.': 1,\n",
              " 'imagine': 77,\n",
              " 'musings': 1,\n",
              " '1.': 77,\n",
              " 'need': 1549,\n",
              " 'media': 155,\n",
              " '#coronavirus...': 5,\n",
              " 'not': 2714,\n",
              " 'because': 902,\n",
              " 'news': 304,\n",
              " 'pictures': 26,\n",
              " 'take': 701,\n",
              " 'advantage': 174,\n",
              " 'of.': 11,\n",
              " '#instafood': 1,\n",
              " 'making': 404,\n",
              " 'restaurant': 88,\n",
              " 'animal': 43,\n",
              " 'shelters': 9,\n",
              " 'left': 211,\n",
              " 'starving': 10,\n",
              " 'buying': 911,\n",
              " 'consider': 122,\n",
              " 'donating': 84,\n",
              " 'through': 427,\n",
              " 'facebook': 45,\n",
              " '@theprojecttv': 1,\n",
              " '@mrbenjaminlaw': 1,\n",
              " 'okay': 28,\n",
              " 'empty': 407,\n",
              " 'shelves': 709,\n",
              " 'goods': 243,\n",
              " '&amp;': 2314,\n",
              " 'send': 112,\n",
              " 'them': 799,\n",
              " 'china!': 2,\n",
              " 'deprive': 3,\n",
              " 'medical': 303,\n",
              " 'supplies': 387,\n",
              " 'faulty': 3,\n",
              " 'covid': 1769,\n",
              " 'americans': 159,\n",
              " 'alarmed': 3,\n",
              " 'shelves,': 55,\n",
              " 'while': 638,\n",
              " 'suppliers': 55,\n",
              " 'retailers': 207,\n",
              " 'say': 350,\n",
              " 'they': 2309,\n",
              " 'struggling': 146,\n",
              " 'surging': 38,\n",
              " 'insist': 7,\n",
              " 'supply': 662,\n",
              " 'chain': 277,\n",
              " 'remains': 39,\n",
              " '@nytimes': 26,\n",
              " '#supplychain': 50,\n",
              " 'https://t.co/qro7avqbz5': 1,\n",
              " 'this': 4581,\n",
              " 'video': 152,\n",
              " 'seen': 258,\n",
              " 'many': 819,\n",
              " 'possible.': 26,\n",
              " 'nhs': 164,\n",
              " 'staff': 521,\n",
              " 'brave': 25,\n",
              " 'woman': 126,\n",
              " 'need,': 21,\n",
              " 'something': 203,\n",
              " 'needs': 276,\n",
              " 'done': 187,\n",
              " 'urgently.': 5,\n",
              " 'https://t.co/kh3kdyqd8t': 1,\n",
              " 'diageo': 1,\n",
              " 'hasnã\\x82â\\x92t': 13,\n",
              " 'clue.': 1,\n",
              " 'clear': 97,\n",
              " 'demonstraion': 1,\n",
              " 'remote': 31,\n",
              " 'consumer.#covid-19': 1,\n",
              " 'https://t.co/tfrsci5ysp': 1,\n",
              " 'picked': 18,\n",
              " 'hell': 54,\n",
              " 'back': 430,\n",
              " 'working': 594,\n",
              " 'rational,': 1,\n",
              " 'educated,': 2,\n",
              " 'respected': 13,\n",
              " 'members': 106,\n",
              " 'community': 243,\n",
              " 'non-perishable': 11,\n",
              " 'items': 439,\n",
              " 'bulk': 71,\n",
              " 'terrified': 12,\n",
              " 'facial': 5,\n",
              " 'expressions,': 1,\n",
              " 'eerie': 4,\n",
              " 'sense': 70,\n",
              " 'doomsday': 6,\n",
              " 'scenario': 11,\n",
              " \"isn't\": 88,\n",
              " 'far': 148,\n",
              " 'off.': 23,\n",
              " 'new': 885,\n",
              " 'study': 38,\n",
              " 'finds': 27,\n",
              " 'may': 525,\n",
              " 'surfaces': 37,\n",
              " 'previously': 23,\n",
              " 'thought.': 12,\n",
              " 'down': 609,\n",
              " 'cleanser,': 1,\n",
              " 'wash': 212,\n",
              " 'frequently': 19,\n",
              " 'sanitizer.': 101,\n",
              " 'safe!': 23,\n",
              " '#coronavirusupdate': 151,\n",
              " '#flatteningthecurve': 2,\n",
              " 'https://t.co/ghbayd7t0g': 1,\n",
              " 'claim': 43,\n",
              " 'support': 477,\n",
              " 'doctors,': 59,\n",
              " 'nurses,': 72,\n",
              " 'responders': 66,\n",
              " 'guard,': 1,\n",
              " 'staff,': 101,\n",
              " 'truck': 105,\n",
              " 'drivers,': 86,\n",
              " 'else': 189,\n",
              " 'continue': 261,\n",
              " 'ignore': 23,\n",
              " 'pleas': 4,\n",
              " 'home!': 21,\n",
              " '#stayhome': 229,\n",
              " '#flattenthecurve': 47,\n",
              " 'shops': 279,\n",
              " 'markets': 211,\n",
              " 'malls': 22,\n",
              " 'restaurants': 131,\n",
              " 'remain': 150,\n",
              " 'closed': 202,\n",
              " 'different': 123,\n",
              " 'cities': 34,\n",
              " 'pakistan': 20,\n",
              " 'country': 321,\n",
              " 'imposed': 22,\n",
              " 'ban': 45,\n",
              " 'movement': 42,\n",
              " 'spread': 514,\n",
              " 'following': 149,\n",
              " 'show': 135,\n",
              " 'roads': 15,\n",
              " 'karachi': 1,\n",
              " 'islamabad': 1,\n",
              " 'bannu': 1,\n",
              " 'online': 1648,\n",
              " '19': 2111,\n",
              " 'lockdown': 326,\n",
              " 'paddy': 1,\n",
              " 'drop': 235,\n",
              " 'closure': 30,\n",
              " 'inter': 3,\n",
              " 'state': 250,\n",
              " 'borders': 16,\n",
              " 'andhra': 1,\n",
              " 'pradesh': 2,\n",
              " '#trumppressconference': 6,\n",
              " 'never': 303,\n",
              " 'maga': 2,\n",
              " 'rally': 14,\n",
              " 'amp': 859,\n",
              " 'stand': 74,\n",
              " 'talking': 69,\n",
              " 'russia': 92,\n",
              " 'mbs': 9,\n",
              " 'oil': 900,\n",
              " 'gas': 361,\n",
              " 'cuts': 65,\n",
              " 'wtf': 31,\n",
              " 'notice': 48,\n",
              " 'press': 42,\n",
              " 'release': 23,\n",
              " 'induced': 13,\n",
              " '2020': 211,\n",
              " 'recession': 77,\n",
              " 'disrupt': 9,\n",
              " 'automotive': 6,\n",
              " 'electronics': 14,\n",
              " 'semiconductor': 2,\n",
              " 'infrastructure': 19,\n",
              " 'businesses': 342,\n",
              " 'lockdown:': 9,\n",
              " 'know': 641,\n",
              " 'options==&gt;': 1,\n",
              " 'https://t.co/qky8zps5oz': 1,\n",
              " '#21dayslockdown': 12,\n",
              " '#21daylockdown': 14,\n",
              " '#21dayslockdownindia': 1,\n",
              " '#coronavirusindia': 30,\n",
              " '#coronaviruslockdown': 71,\n",
              " 'idiots': 46,\n",
              " 'president': 104,\n",
              " 'also': 635,\n",
              " 'needed': 148,\n",
              " 'direct': 75,\n",
              " 'business': 445,\n",
              " 'situation,': 20,\n",
              " 'hike': 58,\n",
              " 'required': 50,\n",
              " 'safeguarding': 3,\n",
              " 'transmission': 28,\n",
              " 'packet': 8,\n",
              " 'facemasks': 7,\n",
              " '@': 111,\n",
              " '150k,': 1,\n",
              " 'chloroquine': 19,\n",
              " '100k': 5,\n",
              " 'right,': 9,\n",
              " 'see': 756,\n",
              " 'greedy': 60,\n",
              " '*duckers*': 1,\n",
              " 'stockpiled': 10,\n",
              " 'all!': 12,\n",
              " '#convid19uk': 23,\n",
              " '#stopstockpiling': 44,\n",
              " 'call': 276,\n",
              " 'bollocks': 6,\n",
              " 'one.': 30,\n",
              " 'fair': 53,\n",
              " 'amount': 98,\n",
              " 'ppl': 120,\n",
              " 'buyin': 1,\n",
              " 'immediately': 51,\n",
              " 'years': 146,\n",
              " 'brexit': 18,\n",
              " 'n': 90,\n",
              " 'general': 94,\n",
              " 'skintness.': 1,\n",
              " 'its': 674,\n",
              " 'fucking': 128,\n",
              " 'buyers.': 7,\n",
              " \"'accidental\": 3,\n",
              " \"hoarders'\": 2,\n",
              " 'causing': 76,\n",
              " 'shortages': 146,\n",
              " 'https://t.co/q2nslsf6ke': 1,\n",
              " 'sent': 68,\n",
              " '@updayuk': 5,\n",
              " \"today's\": 33,\n",
              " 'news:': 26,\n",
              " 'pressured': 3,\n",
              " 'close': 250,\n",
              " 'affects': 19,\n",
              " 'beauty': 22,\n",
              " 'industry': 234,\n",
              " 'retail': 610,\n",
              " 'age': 60,\n",
              " 'coronavirus': 970,\n",
              " 'j.c.': 1,\n",
              " 'penney': 1,\n",
              " 'brings': 23,\n",
              " 'interactive': 6,\n",
              " 'style': 15,\n",
              " 'fitting': 7,\n",
              " 'rooms': 10,\n",
              " '#coronapocalypse': 23,\n",
              " '#ecommerce': 79,\n",
              " '#retail': 180,\n",
              " '#dtc': 3,\n",
              " 'https://t.co/rafj2l2ceq': 2,\n",
              " 'https://t.co/tgoar4fhl1': 1,\n",
              " 'love': 146,\n",
              " 'this!': 23,\n",
              " 'victoria': 5,\n",
              " 'helps': 50,\n",
              " 'production': 217,\n",
              " '1st': 64,\n",
              " 'wwii,': 7,\n",
              " 'demand': 1345,\n",
              " '|': 279,\n",
              " 'cbc': 17,\n",
              " 'https://t.co/75vb12pbap': 1,\n",
              " '@cityoftoronto': 1,\n",
              " '@johntory': 2,\n",
              " 'bank': 211,\n",
              " 'grateful': 64,\n",
              " 'donations': 84,\n",
              " 'sees': 44,\n",
              " 'spike': 46,\n",
              " '#covid2019': 915,\n",
              " \"doesn't\": 94,\n",
              " 'discriminate.': 1,\n",
              " 'society': 78,\n",
              " 'healthcare': 214,\n",
              " 'system': 132,\n",
              " 'does.': 2,\n",
              " 'minimum': 65,\n",
              " 'wage': 52,\n",
              " 'grocery-store/warehouse': 1,\n",
              " 'workers,': 280,\n",
              " 'migrant': 9,\n",
              " 'transported': 1,\n",
              " 'fields': 16,\n",
              " 'crowded': 51,\n",
              " 'trucks,': 2,\n",
              " 'living': 100,\n",
              " 'public': 386,\n",
              " 'housing': 65,\n",
              " 'w/mold': 1,\n",
              " 'causes': 48,\n",
              " 'asthma': 18,\n",
              " 'disproportionately': 6,\n",
              " 'risk': 397,\n",
              " 'waiting': 115,\n",
              " 'line': 291,\n",
              " 'order': 337,\n",
              " 'practice': 80,\n",
              " 'safe': 487,\n",
              " '#socialdistancing': 427,\n",
              " ',': 187,\n",
              " 'sure': 288,\n",
              " 'youre': 4,\n",
              " 'fit': 17,\n",
              " 'corpse': 3,\n",
              " 'between': 152,\n",
              " 'person': 207,\n",
              " 'front': 231,\n",
              " 'you.': 117,\n",
              " 'added': 39,\n",
              " 'accuracy,': 1,\n",
              " 'bring': 137,\n",
              " 'body': 26,\n",
              " 'went': 378,\n",
              " 'usual': 62,\n",
              " 'had': 660,\n",
              " 'door': 57,\n",
              " '(100': 1,\n",
              " 'store)': 14,\n",
              " 'right': 455,\n",
              " 'needed.': 21,\n",
              " 'prevent': 152,\n",
              " 'it,': 87,\n",
              " 'venezuelan.': 1,\n",
              " 'article:': 10,\n",
              " 'health': 540,\n",
              " 'share': 254,\n",
              " 'begin': 31,\n",
              " 'recovery': 51,\n",
              " 'https://t.co/auxib44pom': 1,\n",
              " 'yesterday': 113,\n",
              " 'took': 95,\n",
              " 'n95': 47,\n",
              " 'masks,': 87,\n",
              " 'gloves': 216,\n",
              " 'revera': 1,\n",
              " 'mckenzie': 1,\n",
              " 'towne': 2,\n",
              " 'retirement': 8,\n",
              " 'brenda': 1,\n",
              " 'strafford': 1,\n",
              " 'foundation.': 2,\n",
              " '#2019ncov': 4,\n",
              " '#sarscov2': 22,\n",
              " '#albertafireflood': 1,\n",
              " '#restoration': 1,\n",
              " '#cleaning': 6,\n",
              " '#sanatizing': 1,\n",
              " '#heretohelp': 2,\n",
              " '#supportlocal': 10,\n",
              " '#calgary': 4,\n",
              " '#yyc': 7,\n",
              " '#supportlocalbusiness': 5,\n",
              " 'loads': 28,\n",
              " 'emails': 37,\n",
              " 'companies': 393,\n",
              " 'last': 462,\n",
              " 'saying': 153,\n",
              " 'customers': 451,\n",
              " '#sky': 2,\n",
              " 'true': 72,\n",
              " 'colours': 4,\n",
              " 'increase': 348,\n",
              " '#noshame': 1,\n",
              " '#nosense': 1,\n",
              " '#cancelsky': 1,\n",
              " 'https://t.co/8mrz0kdmez': 1,\n",
              " 'marketers': 16,\n",
              " 'friends,': 10,\n",
              " 'good': 586,\n",
              " 'article': 112,\n",
              " '@mckinsey': 22,\n",
              " 'regarding': 90,\n",
              " 'customer': 129,\n",
              " 'sentiment': 69,\n",
              " 'ready': 107,\n",
              " 'change': 174,\n",
              " ...}"
            ]
          },
          "metadata": {},
          "execution_count": 9
        }
      ],
      "source": [
        "dict = {}\n",
        "for tweet in train['OriginalTweet']:\n",
        "  for token in tweet.lower().split():\n",
        "    if token not in dict:\n",
        "      dict[token] = 1\n",
        "    else:\n",
        "      dict[token] += 1\n",
        "dict"
      ]
    },
    {
      "cell_type": "markdown",
      "metadata": {
        "id": "Pe0h2Jqkpnao"
      },
      "source": [
        "Какой размер словаря получился?"
      ]
    },
    {
      "cell_type": "code",
      "execution_count": 10,
      "metadata": {
        "id": "umyENA7EpokD",
        "colab": {
          "base_uri": "https://localhost:8080/"
        },
        "outputId": "6bd9a508-da19-48ad-936b-9c501e13856a"
      },
      "outputs": [
        {
          "output_type": "execute_result",
          "data": {
            "text/plain": [
              "79755"
            ]
          },
          "metadata": {},
          "execution_count": 10
        }
      ],
      "source": [
        "len(dict)"
      ]
    },
    {
      "cell_type": "markdown",
      "metadata": {
        "id": "0d2G1Z-Qpqkd"
      },
      "source": [
        "Выведите 10 самых популярных токенов с количеством встреч каждого из них. Объясните, почему именно эти токены в топе"
      ]
    },
    {
      "cell_type": "code",
      "execution_count": 11,
      "metadata": {
        "id": "Impi32a_pssg",
        "colab": {
          "base_uri": "https://localhost:8080/"
        },
        "outputId": "d7951a8c-69fa-448d-ac40-d2fda341cc34"
      },
      "outputs": [
        {
          "output_type": "stream",
          "name": "stdout",
          "text": [
            "the: 26815\n",
            "to: 23373\n",
            "and: 14684\n",
            "of: 13012\n",
            "a: 11737\n",
            "in: 11198\n",
            "for: 8566\n",
            "#coronavirus: 8223\n",
            "is: 7383\n",
            "are: 7050\n"
          ]
        }
      ],
      "source": [
        "sorted_dict = sorted(dict.items(), key = lambda x: x[1], reverse=True)\n",
        "\n",
        "for token, count in sorted_dict[0:10]:\n",
        "  print(f'{token}: {count}')"
      ]
    },
    {
      "cell_type": "markdown",
      "metadata": {
        "id": "ZtuJCD0ApuFd"
      },
      "source": [
        "**Ответ:** Данные токены являются самыми популярными, потому что большинство из них это артикли и предлоги, которые часто используются для связи слов в предложении."
      ]
    },
    {
      "cell_type": "markdown",
      "metadata": {
        "id": "T7DTQDkWsVYp"
      },
      "source": [
        "Удалите стоп-слова из словаря и выведите новый топ-10 токенов (и количество встреч) по популярности.  Что можно сказать  о нем?"
      ]
    },
    {
      "cell_type": "code",
      "execution_count": 12,
      "metadata": {
        "id": "8csSAdgTsnFx",
        "colab": {
          "base_uri": "https://localhost:8080/"
        },
        "outputId": "54114f6d-007f-4135-85fb-15243436d531"
      },
      "outputs": [
        {
          "output_type": "stream",
          "name": "stdout",
          "text": [
            "#coronavirus: 8223\n",
            "prices: 3891\n",
            "food: 3820\n",
            "grocery: 3469\n",
            "supermarket: 3288\n",
            "people: 3175\n",
            "covid-19: 3173\n",
            "store: 3155\n",
            "#covid19: 2471\n",
            "&amp;: 2314\n"
          ]
        }
      ],
      "source": [
        "import nltk\n",
        "from nltk.corpus import stopwords\n",
        "\n",
        "nltk.download(\"stopwords\", quiet=True)\n",
        "\n",
        "filtered_dict = {}\n",
        "\n",
        "for token in dict.keys():\n",
        "  if token not in stopwords.words(\"english\"):\n",
        "    filtered_dict[token] = dict[token]\n",
        "\n",
        "sorted_filtered_dict = sorted(filtered_dict.items(), key = lambda x: x[1], reverse=True)\n",
        "\n",
        "for token, count in sorted_filtered_dict[0:10]:\n",
        "  print(f'{token}: {count}')"
      ]
    },
    {
      "cell_type": "markdown",
      "metadata": {
        "id": "LZH0x2Lzs-Dh"
      },
      "source": [
        "**Ответ:** После удаления стоп-слов из топа пропали артикли и предлоги. Теперь в топе находятся слова, которые напрямую или косвенно связаны с коронавирусом: price, food и т.д. - популярность этих слов можно объяснить, например, тем, что из-за пандемии выросли цены на еду, и многие люди обеспокоены этим."
      ]
    },
    {
      "cell_type": "markdown",
      "metadata": {
        "id": "TKSGRyI-uor0"
      },
      "source": [
        "Также выведите 20 самых непопулярных слов (если самых непопулярных слов больше выведите любые 20 из них) Почему эти токены непопулярны, требуется ли как-то дополнительно работать с ними?"
      ]
    },
    {
      "cell_type": "code",
      "execution_count": null,
      "metadata": {
        "id": "moArbwfvun9t",
        "colab": {
          "base_uri": "https://localhost:8080/"
        },
        "outputId": "a54010a8-7bf7-44f7-dc8a-5eb314656ea6"
      },
      "outputs": [
        {
          "output_type": "stream",
          "name": "stdout",
          "text": [
            "skellig: 1\n",
            "coast!: 1\n",
            "closer!): 1\n",
            "@skelligsix18: 1\n",
            "#skelligcoast2kms: 1\n",
            "#southkerry: 1\n",
            "https://t.co/zjcl195vqs: 1\n",
            "@srinivasiyc: 1\n",
            "https://t.co/iaek4fwsgz: 1\n",
            "premiership: 1\n",
            "non-playing: 1\n",
            "subsidise: 1\n",
            "playersãâ: 1\n",
            "renewing: 1\n",
            "wage!: 1\n",
            "flew: 1\n",
            "nothing...: 1\n",
            "@torontopearson: 1\n",
            "@680news: 1\n",
            "https://t.co/7j2y3rsld9: 1\n"
          ]
        }
      ],
      "source": [
        "for token, count in sorted_filtered_dict[-20:]:\n",
        "  print(f'{token}: {count}')"
      ]
    },
    {
      "cell_type": "markdown",
      "metadata": {
        "id": "uRp3J1gQunlR"
      },
      "source": [
        "**Ответ:** Данные токены непопулярны, так как в них встречаются неожиданные или редкие символы (! или ...), либо они представляют собой ссылку, из-за всех этих факторов снижается вероятность того, что данные токены напишут люди в своих сообщениях (именно в таком виде).\n",
        "\n",
        "С этими токенами требуется дополнительно работать: отделить их от знаков препинания в конце (! или ...), где это возможно.\n",
        "\n"
      ]
    },
    {
      "cell_type": "markdown",
      "metadata": {
        "id": "wx9LQOSPzvjV"
      },
      "source": [
        "Теперь воспользуемся токенайзером получше - TweetTokenizer из библиотеки nltk. Примените его и посмотрите на топ-10 популярных слов. Чем он отличается от топа, который получался раньше? Почему?"
      ]
    },
    {
      "cell_type": "code",
      "execution_count": 13,
      "metadata": {
        "id": "2G1UkyVxzvFY",
        "colab": {
          "base_uri": "https://localhost:8080/"
        },
        "outputId": "3addea3b-4882-4e25-ea25-e9bce2f36143"
      },
      "outputs": [
        {
          "output_type": "stream",
          "name": "stdout",
          "text": [
            "the: 26993\n",
            ".: 24118\n",
            "to: 23478\n",
            ",: 17571\n",
            "and: 14825\n",
            "of: 13044\n",
            "a: 11891\n",
            "in: 11348\n",
            "?: 9524\n",
            "#coronavirus: 8808\n"
          ]
        }
      ],
      "source": [
        "from nltk.tokenize import TweetTokenizer\n",
        "\n",
        "tw = TweetTokenizer()\n",
        "\n",
        "dict2 = {}\n",
        "for tweet in train['OriginalTweet']:\n",
        "  for token in tw.tokenize(tweet.lower()):\n",
        "    if token not in dict2:\n",
        "      dict2[token] = 1\n",
        "    else:\n",
        "      dict2[token] += 1\n",
        "\n",
        "sorted_dict2 = sorted(dict2.items(), key = lambda x: x[1], reverse=True)\n",
        "\n",
        "for token, count in sorted_dict2[0:10]:\n",
        "  print(f'{token}: {count}')"
      ]
    },
    {
      "cell_type": "markdown",
      "metadata": {
        "id": "50eVUnJN1Zxl"
      },
      "source": [
        "**Ответ:** Данный топ отличается от топа на основе обычного split тем, что тут от слов отделяются знаки препинания, которые также учитываются как токены. Благодаря тому, что пунктуация встречается практически в каждом предложении, три места из десяти в топе занимают:\n",
        "\n",
        ". , ?\n",
        "\n"
      ]
    },
    {
      "cell_type": "markdown",
      "metadata": {
        "id": "1gqQgiMs11bs"
      },
      "source": [
        "Удалите из словаря стоп-слова и пунктуацию, посмотрите на новый топ-10 слов с количеством встреч, есть ли теперь в нем что-то не похожее на слова?"
      ]
    },
    {
      "cell_type": "code",
      "execution_count": 14,
      "metadata": {
        "id": "0yHWdFrp0Mup",
        "colab": {
          "base_uri": "https://localhost:8080/"
        },
        "outputId": "d9acc6e9-718b-4a75-8d80-2a35c5c3069b"
      },
      "outputs": [
        {
          "output_type": "stream",
          "name": "stdout",
          "text": [
            "#coronavirus: 8808\n",
            "â: 7415\n",
            ": 7311\n",
            "19: 7167\n",
            "covid: 6253\n",
            "prices: 4601\n",
            ": 4372\n",
            "food: 4367\n",
            "store: 3877\n",
            "supermarket: 3805\n"
          ]
        }
      ],
      "source": [
        "from string import punctuation\n",
        "\n",
        "filtered_dict2 = {}\n",
        "\n",
        "for token in dict2.keys():\n",
        "  if token not in (stopwords.words(\"english\") + list(punctuation)):\n",
        "    filtered_dict2[token] = dict2[token]\n",
        "\n",
        "sorted_filtered_dict2 = sorted(filtered_dict2.items(), key = lambda x: x[1], reverse=True)\n",
        "\n",
        "for token, count in sorted_filtered_dict2[0:10]:\n",
        "  print(f'{token}: {count}')"
      ]
    },
    {
      "cell_type": "markdown",
      "metadata": {
        "id": "8ZJqXELP_Yxy"
      },
      "source": [
        "**Ответ:** В данном топе присутствуют состоящие из одного символа токены, которые не относятся к английскому языку."
      ]
    },
    {
      "cell_type": "markdown",
      "metadata": {
        "id": "rzXjMsSB_kXB"
      },
      "source": [
        "Удалите из словаря токены из одного символа, с позицией в таблице Unicode 128 и более (`ord(x) >= 128`)\n",
        "\n",
        "Выведите топ-10 самых популярных и топ-20 непопулярных слов. Чем полученные топы отличаются от итоговых топов, полученных при использовании токенизации по пробелам? Что теперь лучше, а что хуже?"
      ]
    },
    {
      "cell_type": "code",
      "execution_count": 15,
      "metadata": {
        "id": "1695hlkS_1-J",
        "colab": {
          "base_uri": "https://localhost:8080/"
        },
        "outputId": "b284c645-2bb3-4343-d29c-b4b62ede8e04"
      },
      "outputs": [
        {
          "output_type": "stream",
          "name": "stdout",
          "text": [
            "#coronavirus: 8808\n",
            "19: 7167\n",
            "covid: 6253\n",
            "prices: 4601\n",
            "food: 4367\n",
            "store: 3877\n",
            "supermarket: 3805\n",
            "grocery: 3523\n",
            "people: 3463\n",
            "#covid19: 2589\n"
          ]
        }
      ],
      "source": [
        "sorted_filtered_dict3 = {}\n",
        "\n",
        "for token, count in sorted_filtered_dict2:\n",
        "  if len(token) == 1 and ord(token) >= 128:\n",
        "    continue\n",
        "  else:\n",
        "    sorted_filtered_dict3[token] = count\n",
        "\n",
        "for token, count in list(sorted_filtered_dict3.items())[0:10]:\n",
        "  print(f'{token}: {count}')"
      ]
    },
    {
      "cell_type": "code",
      "source": [
        "for token, count in list(sorted_filtered_dict3.items())[-20:]:\n",
        "  print(f'{token}: {count}')"
      ],
      "metadata": {
        "colab": {
          "base_uri": "https://localhost:8080/"
        },
        "id": "dWlcQsDRniLr",
        "outputId": "3bef3d56-defe-48f7-add1-a771a41b7d07"
      },
      "execution_count": 16,
      "outputs": [
        {
          "output_type": "stream",
          "name": "stdout",
          "text": [
            "https://t.co/lw1r0rm7xs: 1\n",
            "https://t.co/5cbliqzx7l: 1\n",
            "now.when: 1\n",
            "milion: 1\n",
            "skellig: 1\n",
            "@skelligsix18: 1\n",
            "#skelligcoast2kms: 1\n",
            "#southkerry: 1\n",
            "https://t.co/zjcl195vqs: 1\n",
            "@srinivasiyc: 1\n",
            "https://t.co/iaek4fwsgz: 1\n",
            "premiership: 1\n",
            "non-playing: 1\n",
            "subsidise: 1\n",
            "playersã: 1\n",
            "renewing: 1\n",
            "flew: 1\n",
            "@torontopearson: 1\n",
            "@680news: 1\n",
            "https://t.co/7j2y3rsld9: 1\n"
          ]
        }
      ]
    },
    {
      "cell_type": "markdown",
      "metadata": {
        "id": "KzjHAKIlDvc6"
      },
      "source": [
        "**Ответ:** Основные отличия: 1) в первом топе covid-19 разделился на два разных токена (covid и 19), следовательно, данный токенайзер лучше разделяет слова, тем самым может вырасти качество модели, что хорошо. 2) во втором топе теперь в конце токенов нет знаков препинания (! или ...), что с одной стороны хорошо, так как теперь модель правильнее оценивает частоту встречаемости каждого слова, но с другой стороны модель может потерять важную эмоциональную информацию, которую привносят знаки прерпинания ! или ), а в итоге они просто удалятся, так как содержатся в punctuation."
      ]
    },
    {
      "cell_type": "markdown",
      "metadata": {
        "id": "EcDf9_6HB2zm"
      },
      "source": [
        "Выведите топ-10 популярных хештегов с количеством встреч. Что можно сказать о них?"
      ]
    },
    {
      "cell_type": "code",
      "execution_count": null,
      "metadata": {
        "id": "zk4fygCUBw3l",
        "colab": {
          "base_uri": "https://localhost:8080/"
        },
        "outputId": "d62bf611-79a9-4089-dc8a-72d520a8b23e"
      },
      "outputs": [
        {
          "output_type": "stream",
          "name": "stdout",
          "text": [
            "#coronavirus: 8808\n",
            "#covid19: 2589\n",
            "#covid_19: 1734\n",
            "#covid2019: 946\n",
            "#toiletpaper: 744\n",
            "#covid: 641\n",
            "#socialdistancing: 465\n",
            "#coronacrisis: 448\n",
            "#pandemic: 257\n",
            "#coronaviruspandemic: 249\n"
          ]
        }
      ],
      "source": [
        "counter = 0\n",
        "for token, count in list(sorted_filtered_dict3.items()):\n",
        "  if token[0] == '#' and counter < 10:\n",
        "    print(f'{token}: {count}')\n",
        "    counter += 1"
      ]
    },
    {
      "cell_type": "markdown",
      "metadata": {
        "id": "-6NeNWBkDxM7"
      },
      "source": [
        "**Ответ:** По большинству из этих хештегов нельзя оценить эмоциональную окраску твитта: они просто дают понять к какой теме относится твитт (#coronavirus, #covid, #pandemic). Но по некоторым хештегам можно примерно понять, какая эмоциональная окраска у твитта: #toiletpaper - скорее всего в данном твитте присутсвует паника насчет того, что с полок магазинов могут пропасть товары, что является негативной эмоциональной окраской. #coronacrisis - скорее всего в данном твитте рассказывается о пагубном влиянии пандемии на экономику и финансовые рынки, что также является негативной эмоциональной окраской."
      ]
    },
    {
      "cell_type": "markdown",
      "metadata": {
        "id": "LLYBg7caD5GA"
      },
      "source": [
        "То же самое проделайте для ссылок на сайт https://t.co Сравнима ли популярность ссылок с популярностью хештегов? Будет ли информация о ссылке на конкретную страницу полезна?"
      ]
    },
    {
      "cell_type": "code",
      "execution_count": null,
      "metadata": {
        "id": "MXbm1oeaCK9S",
        "colab": {
          "base_uri": "https://localhost:8080/"
        },
        "outputId": "1f48626e-5a22-4e3c-da68-ac625339405a"
      },
      "outputs": [
        {
          "output_type": "stream",
          "name": "stdout",
          "text": [
            "https://t.co/oxa7swtond: 5\n",
            "https://t.co/gp3eusapl8: 4\n",
            "https://t.co/deftrui1pfãâ: 3\n",
            "https://t.co/wrlhyzizaa: 3\n",
            "https://t.co/kuwipf1kqw: 3\n",
            "https://t.co/zjnrx6dkkn: 3\n",
            "https://t.co/3gbbdpdjat: 3\n",
            "https://t.co/e2znxajpre: 3\n",
            "https://t.co/catkegayoy: 3\n",
            "https://t.co/g63rp042ho: 3\n"
          ]
        }
      ],
      "source": [
        "counter = 0\n",
        "for token, count in list(sorted_filtered_dict3.items()):\n",
        "  if token[0:12] == 'https://t.co' and counter < 10:\n",
        "    print(f'{token}: {count}')\n",
        "    counter += 1"
      ]
    },
    {
      "cell_type": "markdown",
      "metadata": {
        "id": "at6lRYZ8A07N"
      },
      "source": [
        "**Ответ:** По сравнению с хештегами, популярность ссылок крайне мала, а также ссылка на сайт даст новую информацию об эмоциональной окраске твита, только если вручную переходить на сайт и анализировать информацию на нем, поэтому, в нашем случае, информация о ссылке на конкретную страницу не будет полезной."
      ]
    },
    {
      "cell_type": "markdown",
      "metadata": {
        "id": "IOGdUU1kBU1D"
      },
      "source": [
        "Используем опыт предыдущих экспериментов и напишем собственный токенайзер, улучшив TweetTokenizer. Функция tokenize должна:\n",
        "\n",
        "\n",
        "\n",
        "*   Привести текст в нижний регистр\n",
        "*   Применить TweetTokenizer для изначального выделения токенов\n",
        "*   Удалить стоп-слова, пунктуацию, токены из одного символа, с позицией в таблице Unicode 128 и более и ссылки на t.co\n",
        "\n"
      ]
    },
    {
      "cell_type": "code",
      "execution_count": 17,
      "metadata": {
        "id": "ctEsB6xkFrrK"
      },
      "outputs": [],
      "source": [
        "def custom_tokenizer(text):\n",
        "\n",
        "# применяем TweetTokenizer\n",
        "  tw = TweetTokenizer()\n",
        "  text_lower_tokens = tw.tokenize(text.lower())\n",
        "  tokens = []\n",
        "\n",
        "# удаляем стоп-слова, пунктуацию, токены из одного символа, с позицией в таблице Unicode 128 и более и ссылки на t.co\n",
        "  for token in text_lower_tokens:\n",
        "    if token in stopwords.words(\"english\") + list(punctuation) or (len(token) == 1 and ord(token) >= 128) or token[0:12] == 'https://t.co':\n",
        "      continue\n",
        "    else:\n",
        "      tokens.append(token)\n",
        "  return tokens"
      ]
    },
    {
      "cell_type": "code",
      "execution_count": null,
      "metadata": {
        "colab": {
          "base_uri": "https://localhost:8080/"
        },
        "id": "XwbgtYkJGYym",
        "outputId": "a20c8a81-cbf6-44ad-f8b6-5da84691ee5b"
      },
      "outputs": [
        {
          "output_type": "execute_result",
          "data": {
            "text/plain": [
              "['sample', 'text', '@sample_text', '#sampletext']"
            ]
          },
          "metadata": {},
          "execution_count": 20
        }
      ],
      "source": [
        "custom_tokenizer('This is sample text!!!! @Sample_text I, \\x92\\x92 https://t.co/sample  #sampletext')"
      ]
    },
    {
      "cell_type": "markdown",
      "metadata": {
        "id": "wURVABmXHk97"
      },
      "source": [
        "## Задание 3 Векторизация текстов (2 балла)"
      ]
    },
    {
      "cell_type": "markdown",
      "metadata": {
        "id": "H44iXkoHIQfN"
      },
      "source": [
        "Обучите CountVectorizer с использованием custom_tokenizer в качестве токенайзера. Как размер полученного словаря соотносится с размером изначального словаря из начала задания 2?"
      ]
    },
    {
      "cell_type": "code",
      "source": [
        "from sklearn.feature_extraction.text import CountVectorizer\n",
        "\n",
        "cv = CountVectorizer(tokenizer = custom_tokenizer)\n",
        "\n",
        "X = cv.fit_transform(train['OriginalTweet'])\n",
        "\n",
        "print(len(cv.vocabulary_))"
      ],
      "metadata": {
        "colab": {
          "base_uri": "https://localhost:8080/"
        },
        "id": "YCK3qSqkALP3",
        "outputId": "0e8cd005-0d7b-460d-c750-adb8ff4f03b3"
      },
      "execution_count": 18,
      "outputs": [
        {
          "output_type": "stream",
          "name": "stdout",
          "text": [
            "45308\n"
          ]
        }
      ]
    },
    {
      "cell_type": "markdown",
      "metadata": {
        "id": "gsfmaSGoItUm"
      },
      "source": [
        "**Ответ:** Размер полученного словаря на 43% процента меньше, чем размер изначального словаря из начала задания 2."
      ]
    },
    {
      "cell_type": "markdown",
      "metadata": {
        "id": "lm6UHNmqKZT0"
      },
      "source": [
        "Посмотрим на какой-нибудь конкретный твитт:"
      ]
    },
    {
      "cell_type": "code",
      "execution_count": 19,
      "metadata": {
        "id": "aJVjjfqOJh8m",
        "colab": {
          "base_uri": "https://localhost:8080/"
        },
        "outputId": "7dfe9a30-d649-4ddb-898d-0656fcf90157"
      },
      "outputs": [
        {
          "output_type": "execute_result",
          "data": {
            "text/plain": [
              "('Nice one @SkyNews lets not panic but show ppl in france queueing for food!!! #CoronavirusOutbreak #COVID2019 brainless!! Ffs',\n",
              " 0)"
            ]
          },
          "metadata": {},
          "execution_count": 19
        }
      ],
      "source": [
        "ind = 9023\n",
        "train.iloc[ind]['OriginalTweet'], train.iloc[ind]['Sentiment']"
      ]
    },
    {
      "cell_type": "markdown",
      "metadata": {
        "id": "PBMIHBI5KdaS"
      },
      "source": [
        "Автор твитта не доволен ситуацией с едой во Франции и текст имеет резко негативную окраску.\n",
        "\n",
        "Примените обученный CountVectorizer для векторизации данного текста, и попытайтесь определить самый важный токен и самый неважный токен (токен, компонента которого в векторе максимальна/минимальна, без учета 0). Хорошо ли они определились, почему?"
      ]
    },
    {
      "cell_type": "code",
      "execution_count": null,
      "metadata": {
        "id": "7NcAllaEKsJj",
        "colab": {
          "base_uri": "https://localhost:8080/",
          "height": 81
        },
        "outputId": "7ec0a360-d1f6-42d5-952d-93199e21d57f"
      },
      "outputs": [
        {
          "output_type": "execute_result",
          "data": {
            "text/plain": [
              "   nice  one  @skynews  lets  panic  show  ppl  france  queueing  food  \\\n",
              "0     1    1         1     1      1     1    1       1         1     1   \n",
              "\n",
              "   #coronavirusoutbreak  #covid2019  brainless  ffs  \n",
              "0                     1           1          1    1  "
            ],
            "text/html": [
              "\n",
              "  <div id=\"df-d3538f75-51da-418a-9537-78ffd12ff4f1\" class=\"colab-df-container\">\n",
              "    <div>\n",
              "<style scoped>\n",
              "    .dataframe tbody tr th:only-of-type {\n",
              "        vertical-align: middle;\n",
              "    }\n",
              "\n",
              "    .dataframe tbody tr th {\n",
              "        vertical-align: top;\n",
              "    }\n",
              "\n",
              "    .dataframe thead th {\n",
              "        text-align: right;\n",
              "    }\n",
              "</style>\n",
              "<table border=\"1\" class=\"dataframe\">\n",
              "  <thead>\n",
              "    <tr style=\"text-align: right;\">\n",
              "      <th></th>\n",
              "      <th>nice</th>\n",
              "      <th>one</th>\n",
              "      <th>@skynews</th>\n",
              "      <th>lets</th>\n",
              "      <th>panic</th>\n",
              "      <th>show</th>\n",
              "      <th>ppl</th>\n",
              "      <th>france</th>\n",
              "      <th>queueing</th>\n",
              "      <th>food</th>\n",
              "      <th>#coronavirusoutbreak</th>\n",
              "      <th>#covid2019</th>\n",
              "      <th>brainless</th>\n",
              "      <th>ffs</th>\n",
              "    </tr>\n",
              "  </thead>\n",
              "  <tbody>\n",
              "    <tr>\n",
              "      <th>0</th>\n",
              "      <td>1</td>\n",
              "      <td>1</td>\n",
              "      <td>1</td>\n",
              "      <td>1</td>\n",
              "      <td>1</td>\n",
              "      <td>1</td>\n",
              "      <td>1</td>\n",
              "      <td>1</td>\n",
              "      <td>1</td>\n",
              "      <td>1</td>\n",
              "      <td>1</td>\n",
              "      <td>1</td>\n",
              "      <td>1</td>\n",
              "      <td>1</td>\n",
              "    </tr>\n",
              "  </tbody>\n",
              "</table>\n",
              "</div>\n",
              "    <div class=\"colab-df-buttons\">\n",
              "\n",
              "  <div class=\"colab-df-container\">\n",
              "    <button class=\"colab-df-convert\" onclick=\"convertToInteractive('df-d3538f75-51da-418a-9537-78ffd12ff4f1')\"\n",
              "            title=\"Convert this dataframe to an interactive table.\"\n",
              "            style=\"display:none;\">\n",
              "\n",
              "  <svg xmlns=\"http://www.w3.org/2000/svg\" height=\"24px\" viewBox=\"0 -960 960 960\">\n",
              "    <path d=\"M120-120v-720h720v720H120Zm60-500h600v-160H180v160Zm220 220h160v-160H400v160Zm0 220h160v-160H400v160ZM180-400h160v-160H180v160Zm440 0h160v-160H620v160ZM180-180h160v-160H180v160Zm440 0h160v-160H620v160Z\"/>\n",
              "  </svg>\n",
              "    </button>\n",
              "\n",
              "  <style>\n",
              "    .colab-df-container {\n",
              "      display:flex;\n",
              "      gap: 12px;\n",
              "    }\n",
              "\n",
              "    .colab-df-convert {\n",
              "      background-color: #E8F0FE;\n",
              "      border: none;\n",
              "      border-radius: 50%;\n",
              "      cursor: pointer;\n",
              "      display: none;\n",
              "      fill: #1967D2;\n",
              "      height: 32px;\n",
              "      padding: 0 0 0 0;\n",
              "      width: 32px;\n",
              "    }\n",
              "\n",
              "    .colab-df-convert:hover {\n",
              "      background-color: #E2EBFA;\n",
              "      box-shadow: 0px 1px 2px rgba(60, 64, 67, 0.3), 0px 1px 3px 1px rgba(60, 64, 67, 0.15);\n",
              "      fill: #174EA6;\n",
              "    }\n",
              "\n",
              "    .colab-df-buttons div {\n",
              "      margin-bottom: 4px;\n",
              "    }\n",
              "\n",
              "    [theme=dark] .colab-df-convert {\n",
              "      background-color: #3B4455;\n",
              "      fill: #D2E3FC;\n",
              "    }\n",
              "\n",
              "    [theme=dark] .colab-df-convert:hover {\n",
              "      background-color: #434B5C;\n",
              "      box-shadow: 0px 1px 3px 1px rgba(0, 0, 0, 0.15);\n",
              "      filter: drop-shadow(0px 1px 2px rgba(0, 0, 0, 0.3));\n",
              "      fill: #FFFFFF;\n",
              "    }\n",
              "  </style>\n",
              "\n",
              "    <script>\n",
              "      const buttonEl =\n",
              "        document.querySelector('#df-d3538f75-51da-418a-9537-78ffd12ff4f1 button.colab-df-convert');\n",
              "      buttonEl.style.display =\n",
              "        google.colab.kernel.accessAllowed ? 'block' : 'none';\n",
              "\n",
              "      async function convertToInteractive(key) {\n",
              "        const element = document.querySelector('#df-d3538f75-51da-418a-9537-78ffd12ff4f1');\n",
              "        const dataTable =\n",
              "          await google.colab.kernel.invokeFunction('convertToInteractive',\n",
              "                                                    [key], {});\n",
              "        if (!dataTable) return;\n",
              "\n",
              "        const docLinkHtml = 'Like what you see? Visit the ' +\n",
              "          '<a target=\"_blank\" href=https://colab.research.google.com/notebooks/data_table.ipynb>data table notebook</a>'\n",
              "          + ' to learn more about interactive tables.';\n",
              "        element.innerHTML = '';\n",
              "        dataTable['output_type'] = 'display_data';\n",
              "        await google.colab.output.renderOutput(dataTable, element);\n",
              "        const docLink = document.createElement('div');\n",
              "        docLink.innerHTML = docLinkHtml;\n",
              "        element.appendChild(docLink);\n",
              "      }\n",
              "    </script>\n",
              "  </div>\n",
              "\n",
              "    </div>\n",
              "  </div>\n"
            ],
            "application/vnd.google.colaboratory.intrinsic+json": {
              "type": "dataframe",
              "summary": "{\n  \"name\": \"pd\",\n  \"rows\": 1,\n  \"fields\": [\n    {\n      \"column\": \"nice\",\n      \"properties\": {\n        \"dtype\": \"number\",\n        \"std\": null,\n        \"min\": 1,\n        \"max\": 1,\n        \"num_unique_values\": 1,\n        \"samples\": [\n          1\n        ],\n        \"semantic_type\": \"\",\n        \"description\": \"\"\n      }\n    },\n    {\n      \"column\": \"one\",\n      \"properties\": {\n        \"dtype\": \"number\",\n        \"std\": null,\n        \"min\": 1,\n        \"max\": 1,\n        \"num_unique_values\": 1,\n        \"samples\": [\n          1\n        ],\n        \"semantic_type\": \"\",\n        \"description\": \"\"\n      }\n    },\n    {\n      \"column\": \"@skynews\",\n      \"properties\": {\n        \"dtype\": \"number\",\n        \"std\": null,\n        \"min\": 1,\n        \"max\": 1,\n        \"num_unique_values\": 1,\n        \"samples\": [\n          1\n        ],\n        \"semantic_type\": \"\",\n        \"description\": \"\"\n      }\n    },\n    {\n      \"column\": \"lets\",\n      \"properties\": {\n        \"dtype\": \"number\",\n        \"std\": null,\n        \"min\": 1,\n        \"max\": 1,\n        \"num_unique_values\": 1,\n        \"samples\": [\n          1\n        ],\n        \"semantic_type\": \"\",\n        \"description\": \"\"\n      }\n    },\n    {\n      \"column\": \"panic\",\n      \"properties\": {\n        \"dtype\": \"number\",\n        \"std\": null,\n        \"min\": 1,\n        \"max\": 1,\n        \"num_unique_values\": 1,\n        \"samples\": [\n          1\n        ],\n        \"semantic_type\": \"\",\n        \"description\": \"\"\n      }\n    },\n    {\n      \"column\": \"show\",\n      \"properties\": {\n        \"dtype\": \"number\",\n        \"std\": null,\n        \"min\": 1,\n        \"max\": 1,\n        \"num_unique_values\": 1,\n        \"samples\": [\n          1\n        ],\n        \"semantic_type\": \"\",\n        \"description\": \"\"\n      }\n    },\n    {\n      \"column\": \"ppl\",\n      \"properties\": {\n        \"dtype\": \"number\",\n        \"std\": null,\n        \"min\": 1,\n        \"max\": 1,\n        \"num_unique_values\": 1,\n        \"samples\": [\n          1\n        ],\n        \"semantic_type\": \"\",\n        \"description\": \"\"\n      }\n    },\n    {\n      \"column\": \"france\",\n      \"properties\": {\n        \"dtype\": \"number\",\n        \"std\": null,\n        \"min\": 1,\n        \"max\": 1,\n        \"num_unique_values\": 1,\n        \"samples\": [\n          1\n        ],\n        \"semantic_type\": \"\",\n        \"description\": \"\"\n      }\n    },\n    {\n      \"column\": \"queueing\",\n      \"properties\": {\n        \"dtype\": \"number\",\n        \"std\": null,\n        \"min\": 1,\n        \"max\": 1,\n        \"num_unique_values\": 1,\n        \"samples\": [\n          1\n        ],\n        \"semantic_type\": \"\",\n        \"description\": \"\"\n      }\n    },\n    {\n      \"column\": \"food\",\n      \"properties\": {\n        \"dtype\": \"number\",\n        \"std\": null,\n        \"min\": 1,\n        \"max\": 1,\n        \"num_unique_values\": 1,\n        \"samples\": [\n          1\n        ],\n        \"semantic_type\": \"\",\n        \"description\": \"\"\n      }\n    },\n    {\n      \"column\": \"#coronavirusoutbreak\",\n      \"properties\": {\n        \"dtype\": \"number\",\n        \"std\": null,\n        \"min\": 1,\n        \"max\": 1,\n        \"num_unique_values\": 1,\n        \"samples\": [\n          1\n        ],\n        \"semantic_type\": \"\",\n        \"description\": \"\"\n      }\n    },\n    {\n      \"column\": \"#covid2019\",\n      \"properties\": {\n        \"dtype\": \"number\",\n        \"std\": null,\n        \"min\": 1,\n        \"max\": 1,\n        \"num_unique_values\": 1,\n        \"samples\": [\n          1\n        ],\n        \"semantic_type\": \"\",\n        \"description\": \"\"\n      }\n    },\n    {\n      \"column\": \"brainless\",\n      \"properties\": {\n        \"dtype\": \"number\",\n        \"std\": null,\n        \"min\": 1,\n        \"max\": 1,\n        \"num_unique_values\": 1,\n        \"samples\": [\n          1\n        ],\n        \"semantic_type\": \"\",\n        \"description\": \"\"\n      }\n    },\n    {\n      \"column\": \"ffs\",\n      \"properties\": {\n        \"dtype\": \"number\",\n        \"std\": null,\n        \"min\": 1,\n        \"max\": 1,\n        \"num_unique_values\": 1,\n        \"samples\": [\n          1\n        ],\n        \"semantic_type\": \"\",\n        \"description\": \"\"\n      }\n    }\n  ]\n}"
            }
          },
          "metadata": {},
          "execution_count": 16
        }
      ],
      "source": [
        "new_text_vec = cv.transform([train.iloc[ind]['OriginalTweet']])\n",
        "\n",
        "pd.DataFrame(new_text_vec.toarray(), columns=cv.get_feature_names_out())[custom_tokenizer(train.iloc[ind]['OriginalTweet'])]"
      ]
    },
    {
      "cell_type": "markdown",
      "metadata": {
        "id": "TpEsl1k_NF4T"
      },
      "source": [
        "**Ответ:** Как можно видеть, в данном случае каждый из токенов этого твитта является одновременно самым важным и самым неважным (компонента у всех токенов = 1). Это связано с тем, что каждый токен присутсвует в этом твите по одному разу и данный метод не учитывает вхождения токенов во все отсальные твитты. Таким образом, можно сделать вывод, что данным методом определить самый важный токен и самый неважный токен не удалось."
      ]
    },
    {
      "cell_type": "markdown",
      "metadata": {
        "id": "w4DsEQpLO3J6"
      },
      "source": [
        "Теперь примените TfidfVectorizer и  определите самый важный/неважный токены. Хорошо ли определились, почему?"
      ]
    },
    {
      "cell_type": "code",
      "execution_count": 20,
      "metadata": {
        "id": "uSNzdK3ENGB3",
        "colab": {
          "base_uri": "https://localhost:8080/",
          "height": 81
        },
        "outputId": "23e5b233-f064-4c74-a4bd-993a25a37bc1"
      },
      "outputs": [
        {
          "output_type": "execute_result",
          "data": {
            "text/plain": [
              "       nice       one  @skynews      lets     panic      show       ppl  \\\n",
              "0  0.254273  0.163067  0.310426  0.301211  0.147595  0.244065  0.255006   \n",
              "\n",
              "     france  queueing      food  #coronavirusoutbreak  #covid2019  brainless  \\\n",
              "0  0.320473  0.354346  0.113289              0.225843    0.168252   0.386764   \n",
              "\n",
              "        ffs  \n",
              "0  0.324474  "
            ],
            "text/html": [
              "\n",
              "  <div id=\"df-91d527ef-75ee-496e-b57d-c74ab6f930aa\" class=\"colab-df-container\">\n",
              "    <div>\n",
              "<style scoped>\n",
              "    .dataframe tbody tr th:only-of-type {\n",
              "        vertical-align: middle;\n",
              "    }\n",
              "\n",
              "    .dataframe tbody tr th {\n",
              "        vertical-align: top;\n",
              "    }\n",
              "\n",
              "    .dataframe thead th {\n",
              "        text-align: right;\n",
              "    }\n",
              "</style>\n",
              "<table border=\"1\" class=\"dataframe\">\n",
              "  <thead>\n",
              "    <tr style=\"text-align: right;\">\n",
              "      <th></th>\n",
              "      <th>nice</th>\n",
              "      <th>one</th>\n",
              "      <th>@skynews</th>\n",
              "      <th>lets</th>\n",
              "      <th>panic</th>\n",
              "      <th>show</th>\n",
              "      <th>ppl</th>\n",
              "      <th>france</th>\n",
              "      <th>queueing</th>\n",
              "      <th>food</th>\n",
              "      <th>#coronavirusoutbreak</th>\n",
              "      <th>#covid2019</th>\n",
              "      <th>brainless</th>\n",
              "      <th>ffs</th>\n",
              "    </tr>\n",
              "  </thead>\n",
              "  <tbody>\n",
              "    <tr>\n",
              "      <th>0</th>\n",
              "      <td>0.254273</td>\n",
              "      <td>0.163067</td>\n",
              "      <td>0.310426</td>\n",
              "      <td>0.301211</td>\n",
              "      <td>0.147595</td>\n",
              "      <td>0.244065</td>\n",
              "      <td>0.255006</td>\n",
              "      <td>0.320473</td>\n",
              "      <td>0.354346</td>\n",
              "      <td>0.113289</td>\n",
              "      <td>0.225843</td>\n",
              "      <td>0.168252</td>\n",
              "      <td>0.386764</td>\n",
              "      <td>0.324474</td>\n",
              "    </tr>\n",
              "  </tbody>\n",
              "</table>\n",
              "</div>\n",
              "    <div class=\"colab-df-buttons\">\n",
              "\n",
              "  <div class=\"colab-df-container\">\n",
              "    <button class=\"colab-df-convert\" onclick=\"convertToInteractive('df-91d527ef-75ee-496e-b57d-c74ab6f930aa')\"\n",
              "            title=\"Convert this dataframe to an interactive table.\"\n",
              "            style=\"display:none;\">\n",
              "\n",
              "  <svg xmlns=\"http://www.w3.org/2000/svg\" height=\"24px\" viewBox=\"0 -960 960 960\">\n",
              "    <path d=\"M120-120v-720h720v720H120Zm60-500h600v-160H180v160Zm220 220h160v-160H400v160Zm0 220h160v-160H400v160ZM180-400h160v-160H180v160Zm440 0h160v-160H620v160ZM180-180h160v-160H180v160Zm440 0h160v-160H620v160Z\"/>\n",
              "  </svg>\n",
              "    </button>\n",
              "\n",
              "  <style>\n",
              "    .colab-df-container {\n",
              "      display:flex;\n",
              "      gap: 12px;\n",
              "    }\n",
              "\n",
              "    .colab-df-convert {\n",
              "      background-color: #E8F0FE;\n",
              "      border: none;\n",
              "      border-radius: 50%;\n",
              "      cursor: pointer;\n",
              "      display: none;\n",
              "      fill: #1967D2;\n",
              "      height: 32px;\n",
              "      padding: 0 0 0 0;\n",
              "      width: 32px;\n",
              "    }\n",
              "\n",
              "    .colab-df-convert:hover {\n",
              "      background-color: #E2EBFA;\n",
              "      box-shadow: 0px 1px 2px rgba(60, 64, 67, 0.3), 0px 1px 3px 1px rgba(60, 64, 67, 0.15);\n",
              "      fill: #174EA6;\n",
              "    }\n",
              "\n",
              "    .colab-df-buttons div {\n",
              "      margin-bottom: 4px;\n",
              "    }\n",
              "\n",
              "    [theme=dark] .colab-df-convert {\n",
              "      background-color: #3B4455;\n",
              "      fill: #D2E3FC;\n",
              "    }\n",
              "\n",
              "    [theme=dark] .colab-df-convert:hover {\n",
              "      background-color: #434B5C;\n",
              "      box-shadow: 0px 1px 3px 1px rgba(0, 0, 0, 0.15);\n",
              "      filter: drop-shadow(0px 1px 2px rgba(0, 0, 0, 0.3));\n",
              "      fill: #FFFFFF;\n",
              "    }\n",
              "  </style>\n",
              "\n",
              "    <script>\n",
              "      const buttonEl =\n",
              "        document.querySelector('#df-91d527ef-75ee-496e-b57d-c74ab6f930aa button.colab-df-convert');\n",
              "      buttonEl.style.display =\n",
              "        google.colab.kernel.accessAllowed ? 'block' : 'none';\n",
              "\n",
              "      async function convertToInteractive(key) {\n",
              "        const element = document.querySelector('#df-91d527ef-75ee-496e-b57d-c74ab6f930aa');\n",
              "        const dataTable =\n",
              "          await google.colab.kernel.invokeFunction('convertToInteractive',\n",
              "                                                    [key], {});\n",
              "        if (!dataTable) return;\n",
              "\n",
              "        const docLinkHtml = 'Like what you see? Visit the ' +\n",
              "          '<a target=\"_blank\" href=https://colab.research.google.com/notebooks/data_table.ipynb>data table notebook</a>'\n",
              "          + ' to learn more about interactive tables.';\n",
              "        element.innerHTML = '';\n",
              "        dataTable['output_type'] = 'display_data';\n",
              "        await google.colab.output.renderOutput(dataTable, element);\n",
              "        const docLink = document.createElement('div');\n",
              "        docLink.innerHTML = docLinkHtml;\n",
              "        element.appendChild(docLink);\n",
              "      }\n",
              "    </script>\n",
              "  </div>\n",
              "\n",
              "    </div>\n",
              "  </div>\n"
            ],
            "application/vnd.google.colaboratory.intrinsic+json": {
              "type": "dataframe",
              "summary": "{\n  \"name\": \"pd\",\n  \"rows\": 1,\n  \"fields\": [\n    {\n      \"column\": \"nice\",\n      \"properties\": {\n        \"dtype\": \"number\",\n        \"std\": null,\n        \"min\": 0.2542729176022132,\n        \"max\": 0.2542729176022132,\n        \"num_unique_values\": 1,\n        \"samples\": [\n          0.2542729176022132\n        ],\n        \"semantic_type\": \"\",\n        \"description\": \"\"\n      }\n    },\n    {\n      \"column\": \"one\",\n      \"properties\": {\n        \"dtype\": \"number\",\n        \"std\": null,\n        \"min\": 0.16306722855395073,\n        \"max\": 0.16306722855395073,\n        \"num_unique_values\": 1,\n        \"samples\": [\n          0.16306722855395073\n        ],\n        \"semantic_type\": \"\",\n        \"description\": \"\"\n      }\n    },\n    {\n      \"column\": \"@skynews\",\n      \"properties\": {\n        \"dtype\": \"number\",\n        \"std\": null,\n        \"min\": 0.31042634466284263,\n        \"max\": 0.31042634466284263,\n        \"num_unique_values\": 1,\n        \"samples\": [\n          0.31042634466284263\n        ],\n        \"semantic_type\": \"\",\n        \"description\": \"\"\n      }\n    },\n    {\n      \"column\": \"lets\",\n      \"properties\": {\n        \"dtype\": \"number\",\n        \"std\": null,\n        \"min\": 0.30121070136861045,\n        \"max\": 0.30121070136861045,\n        \"num_unique_values\": 1,\n        \"samples\": [\n          0.30121070136861045\n        ],\n        \"semantic_type\": \"\",\n        \"description\": \"\"\n      }\n    },\n    {\n      \"column\": \"panic\",\n      \"properties\": {\n        \"dtype\": \"number\",\n        \"std\": null,\n        \"min\": 0.14759470306326164,\n        \"max\": 0.14759470306326164,\n        \"num_unique_values\": 1,\n        \"samples\": [\n          0.14759470306326164\n        ],\n        \"semantic_type\": \"\",\n        \"description\": \"\"\n      }\n    },\n    {\n      \"column\": \"show\",\n      \"properties\": {\n        \"dtype\": \"number\",\n        \"std\": null,\n        \"min\": 0.24406492401820118,\n        \"max\": 0.24406492401820118,\n        \"num_unique_values\": 1,\n        \"samples\": [\n          0.24406492401820118\n        ],\n        \"semantic_type\": \"\",\n        \"description\": \"\"\n      }\n    },\n    {\n      \"column\": \"ppl\",\n      \"properties\": {\n        \"dtype\": \"number\",\n        \"std\": null,\n        \"min\": 0.2550064610386691,\n        \"max\": 0.2550064610386691,\n        \"num_unique_values\": 1,\n        \"samples\": [\n          0.2550064610386691\n        ],\n        \"semantic_type\": \"\",\n        \"description\": \"\"\n      }\n    },\n    {\n      \"column\": \"france\",\n      \"properties\": {\n        \"dtype\": \"number\",\n        \"std\": null,\n        \"min\": 0.32047314046539654,\n        \"max\": 0.32047314046539654,\n        \"num_unique_values\": 1,\n        \"samples\": [\n          0.32047314046539654\n        ],\n        \"semantic_type\": \"\",\n        \"description\": \"\"\n      }\n    },\n    {\n      \"column\": \"queueing\",\n      \"properties\": {\n        \"dtype\": \"number\",\n        \"std\": null,\n        \"min\": 0.35434556333216544,\n        \"max\": 0.35434556333216544,\n        \"num_unique_values\": 1,\n        \"samples\": [\n          0.35434556333216544\n        ],\n        \"semantic_type\": \"\",\n        \"description\": \"\"\n      }\n    },\n    {\n      \"column\": \"food\",\n      \"properties\": {\n        \"dtype\": \"number\",\n        \"std\": null,\n        \"min\": 0.11328893069250721,\n        \"max\": 0.11328893069250721,\n        \"num_unique_values\": 1,\n        \"samples\": [\n          0.11328893069250721\n        ],\n        \"semantic_type\": \"\",\n        \"description\": \"\"\n      }\n    },\n    {\n      \"column\": \"#coronavirusoutbreak\",\n      \"properties\": {\n        \"dtype\": \"number\",\n        \"std\": null,\n        \"min\": 0.22584265007428544,\n        \"max\": 0.22584265007428544,\n        \"num_unique_values\": 1,\n        \"samples\": [\n          0.22584265007428544\n        ],\n        \"semantic_type\": \"\",\n        \"description\": \"\"\n      }\n    },\n    {\n      \"column\": \"#covid2019\",\n      \"properties\": {\n        \"dtype\": \"number\",\n        \"std\": null,\n        \"min\": 0.16825192939361902,\n        \"max\": 0.16825192939361902,\n        \"num_unique_values\": 1,\n        \"samples\": [\n          0.16825192939361902\n        ],\n        \"semantic_type\": \"\",\n        \"description\": \"\"\n      }\n    },\n    {\n      \"column\": \"brainless\",\n      \"properties\": {\n        \"dtype\": \"number\",\n        \"std\": null,\n        \"min\": 0.3867641170466375,\n        \"max\": 0.3867641170466375,\n        \"num_unique_values\": 1,\n        \"samples\": [\n          0.3867641170466375\n        ],\n        \"semantic_type\": \"\",\n        \"description\": \"\"\n      }\n    },\n    {\n      \"column\": \"ffs\",\n      \"properties\": {\n        \"dtype\": \"number\",\n        \"std\": null,\n        \"min\": 0.3244741764513268,\n        \"max\": 0.3244741764513268,\n        \"num_unique_values\": 1,\n        \"samples\": [\n          0.3244741764513268\n        ],\n        \"semantic_type\": \"\",\n        \"description\": \"\"\n      }\n    }\n  ]\n}"
            }
          },
          "metadata": {},
          "execution_count": 20
        }
      ],
      "source": [
        "from sklearn.feature_extraction.text import TfidfVectorizer\n",
        "\n",
        "cv_2 = TfidfVectorizer(tokenizer = custom_tokenizer)\n",
        "X_2 = cv_2.fit_transform(train['OriginalTweet'])\n",
        "\n",
        "new_text_vec_2 = cv_2.transform([train.iloc[ind]['OriginalTweet']])\n",
        "pd.DataFrame(new_text_vec_2.toarray(), columns=cv_2.get_feature_names_out())[custom_tokenizer(train.iloc[ind]['OriginalTweet'])]"
      ]
    },
    {
      "cell_type": "code",
      "source": [
        "# определяем самый важный токен (или можно посмотреть по таблице выше)\n",
        "max_token_index = new_text_vec_2.toarray().argmax()\n",
        "most_important_token = cv_2.get_feature_names_out()[max_token_index]\n",
        "print('Самый важный токен:', most_important_token)\n",
        "\n",
        "# определяем самый неважный токен без учета 0 (или можно посмотреть по таблице выше)\n",
        "min_token_index  = new_text_vec_2.toarray().argmin()\n",
        "nonzero_indices = new_text_vec_2.nonzero()[1]\n",
        "min_token_index = nonzero_indices[new_text_vec_2.toarray()[0][nonzero_indices].argmin()]\n",
        "least_important_token = cv_2.get_feature_names_out()[min_token_index]\n",
        "print('Самый неважный токен:', least_important_token)"
      ],
      "metadata": {
        "colab": {
          "base_uri": "https://localhost:8080/"
        },
        "id": "l9E1lfnFpyJ6",
        "outputId": "fd6aa3f1-491f-486b-f317-9f4285610644"
      },
      "execution_count": null,
      "outputs": [
        {
          "output_type": "stream",
          "name": "stdout",
          "text": [
            "Самый важный токен: brainless\n",
            "Самый неважный токен: food\n"
          ]
        }
      ]
    },
    {
      "cell_type": "markdown",
      "metadata": {
        "id": "NYao_UhqQADm"
      },
      "source": [
        "**Ответ:** По сравнению с предыдущем методом, в данном случае получилось успешно определить самый важный токен и самый неважный токен, так как TfidfVectorizer учитывает вхождение токенов во все остальные твитты, и, чем чаще данное слово встречается в данном твитте и чем реже в остальных, тем важнее оно для этого твита."
      ]
    },
    {
      "cell_type": "markdown",
      "metadata": {
        "id": "LGRJPqfWSesQ"
      },
      "source": [
        "Найдите какой-нибудь положительно окрашенный твитт, где TfidfVectorizer хорошо (полезно для определения окраски) выделяет важный токен, поясните пример.\n",
        "\n",
        "*Подсказка:* явно положительные твитты можно искать при помощи положительных слов (good, great, amazing и т. д.)"
      ]
    },
    {
      "cell_type": "code",
      "execution_count": null,
      "metadata": {
        "id": "bRbQ2CHiSuJI",
        "colab": {
          "base_uri": "https://localhost:8080/",
          "height": 582
        },
        "outputId": "558c23ed-13e7-4eb4-d252-cfe8d6146cba"
      },
      "outputs": [
        {
          "output_type": "execute_result",
          "data": {
            "text/plain": [
              "       UserName  ScreenName                     Location     TweetAt  \\\n",
              "20160     28380       73332               London/Dorking  26-03-2020   \n",
              "5274      10212       55164              London, England  19-03-2020   \n",
              "3747       8344       53296                           VA  18-03-2020   \n",
              "19432     27458       72410   ADHS 67 Algonquin Civil 70  26-03-2020   \n",
              "31953     43102       88054     Scotland, United Kingdom  12-04-2020   \n",
              "2587       6928       51880                           UK  18-03-2020   \n",
              "22910     31792       76744               United Kingdom  04-04-2020   \n",
              "10014     15960       60912                      Unknown  21-03-2020   \n",
              "22786     31645       76597       Madison, WI, US, 53719  03-04-2020   \n",
              "14975     22007       66959                      Unknown  23-03-2020   \n",
              "8194      13749       58701                        Essex  20-03-2020   \n",
              "20171     28393       73345                San Francisco  26-03-2020   \n",
              "9234      15004       59956         Living in the Moment  20-03-2020   \n",
              "9618      15483       60435         Cornwall & Devon, UK  20-03-2020   \n",
              "2256       6541       51493             Toronto, Ontario  18-03-2020   \n",
              "3591       8165       53117                  Los Angeles  18-03-2020   \n",
              "4227       8938       53890                West Michigan  18-03-2020   \n",
              "\n",
              "                                           OriginalTweet  Sentiment  \n",
              "20160  @caitlinmoran Brilliant, but how about showing...          1  \n",
              "5274   So grateful to @POTAGELONDON today. Not only w...          1  \n",
              "3747   Sad sign of the times: Just before the alarm w...          1  \n",
              "19432  Please be aware and give everyone their space ...          1  \n",
              "31953  I understand and get the wonderful job the sup...          1  \n",
              "2587   Just what to say what a wonderful job @AldiUK ...          1  \n",
              "22910  amp are often most impacted by cirisis yet mos...          1  \n",
              "10014  With US grocery store shelves empty of TP Toil...          1  \n",
              "22786  Stickley furniture is built to withstand gener...          1  \n",
              "14975  . I spoke to local business owners hillside Av...          1  \n",
              "8194   We're open as usual tomorrow. We will remain c...          1  \n",
              "20171  @rafat @skift The future of #travel post #Coro...          1  \n",
              "9234   Went to a local street market yesterday. No qu...          1  \n",
              "9618   Forget filling your boot at the supermarket. S...          1  \n",
              "2256   I'm trying to order food online for my older p...          1  \n",
              "3591   ItÃÂs the most wonderful time of the year to...          1  \n",
              "4227   \"It's a wonderful thing to be able to help peo...          1  "
            ],
            "text/html": [
              "\n",
              "  <div id=\"df-92fd4638-48b7-4207-b96c-d4cc35ba9095\" class=\"colab-df-container\">\n",
              "    <div>\n",
              "<style scoped>\n",
              "    .dataframe tbody tr th:only-of-type {\n",
              "        vertical-align: middle;\n",
              "    }\n",
              "\n",
              "    .dataframe tbody tr th {\n",
              "        vertical-align: top;\n",
              "    }\n",
              "\n",
              "    .dataframe thead th {\n",
              "        text-align: right;\n",
              "    }\n",
              "</style>\n",
              "<table border=\"1\" class=\"dataframe\">\n",
              "  <thead>\n",
              "    <tr style=\"text-align: right;\">\n",
              "      <th></th>\n",
              "      <th>UserName</th>\n",
              "      <th>ScreenName</th>\n",
              "      <th>Location</th>\n",
              "      <th>TweetAt</th>\n",
              "      <th>OriginalTweet</th>\n",
              "      <th>Sentiment</th>\n",
              "    </tr>\n",
              "  </thead>\n",
              "  <tbody>\n",
              "    <tr>\n",
              "      <th>20160</th>\n",
              "      <td>28380</td>\n",
              "      <td>73332</td>\n",
              "      <td>London/Dorking</td>\n",
              "      <td>26-03-2020</td>\n",
              "      <td>@caitlinmoran Brilliant, but how about showing...</td>\n",
              "      <td>1</td>\n",
              "    </tr>\n",
              "    <tr>\n",
              "      <th>5274</th>\n",
              "      <td>10212</td>\n",
              "      <td>55164</td>\n",
              "      <td>London, England</td>\n",
              "      <td>19-03-2020</td>\n",
              "      <td>So grateful to @POTAGELONDON today. Not only w...</td>\n",
              "      <td>1</td>\n",
              "    </tr>\n",
              "    <tr>\n",
              "      <th>3747</th>\n",
              "      <td>8344</td>\n",
              "      <td>53296</td>\n",
              "      <td>VA</td>\n",
              "      <td>18-03-2020</td>\n",
              "      <td>Sad sign of the times: Just before the alarm w...</td>\n",
              "      <td>1</td>\n",
              "    </tr>\n",
              "    <tr>\n",
              "      <th>19432</th>\n",
              "      <td>27458</td>\n",
              "      <td>72410</td>\n",
              "      <td>ADHS 67 Algonquin Civil 70</td>\n",
              "      <td>26-03-2020</td>\n",
              "      <td>Please be aware and give everyone their space ...</td>\n",
              "      <td>1</td>\n",
              "    </tr>\n",
              "    <tr>\n",
              "      <th>31953</th>\n",
              "      <td>43102</td>\n",
              "      <td>88054</td>\n",
              "      <td>Scotland, United Kingdom</td>\n",
              "      <td>12-04-2020</td>\n",
              "      <td>I understand and get the wonderful job the sup...</td>\n",
              "      <td>1</td>\n",
              "    </tr>\n",
              "    <tr>\n",
              "      <th>2587</th>\n",
              "      <td>6928</td>\n",
              "      <td>51880</td>\n",
              "      <td>UK</td>\n",
              "      <td>18-03-2020</td>\n",
              "      <td>Just what to say what a wonderful job @AldiUK ...</td>\n",
              "      <td>1</td>\n",
              "    </tr>\n",
              "    <tr>\n",
              "      <th>22910</th>\n",
              "      <td>31792</td>\n",
              "      <td>76744</td>\n",
              "      <td>United Kingdom</td>\n",
              "      <td>04-04-2020</td>\n",
              "      <td>amp are often most impacted by cirisis yet mos...</td>\n",
              "      <td>1</td>\n",
              "    </tr>\n",
              "    <tr>\n",
              "      <th>10014</th>\n",
              "      <td>15960</td>\n",
              "      <td>60912</td>\n",
              "      <td>Unknown</td>\n",
              "      <td>21-03-2020</td>\n",
              "      <td>With US grocery store shelves empty of TP Toil...</td>\n",
              "      <td>1</td>\n",
              "    </tr>\n",
              "    <tr>\n",
              "      <th>22786</th>\n",
              "      <td>31645</td>\n",
              "      <td>76597</td>\n",
              "      <td>Madison, WI, US, 53719</td>\n",
              "      <td>03-04-2020</td>\n",
              "      <td>Stickley furniture is built to withstand gener...</td>\n",
              "      <td>1</td>\n",
              "    </tr>\n",
              "    <tr>\n",
              "      <th>14975</th>\n",
              "      <td>22007</td>\n",
              "      <td>66959</td>\n",
              "      <td>Unknown</td>\n",
              "      <td>23-03-2020</td>\n",
              "      <td>. I spoke to local business owners hillside Av...</td>\n",
              "      <td>1</td>\n",
              "    </tr>\n",
              "    <tr>\n",
              "      <th>8194</th>\n",
              "      <td>13749</td>\n",
              "      <td>58701</td>\n",
              "      <td>Essex</td>\n",
              "      <td>20-03-2020</td>\n",
              "      <td>We're open as usual tomorrow. We will remain c...</td>\n",
              "      <td>1</td>\n",
              "    </tr>\n",
              "    <tr>\n",
              "      <th>20171</th>\n",
              "      <td>28393</td>\n",
              "      <td>73345</td>\n",
              "      <td>San Francisco</td>\n",
              "      <td>26-03-2020</td>\n",
              "      <td>@rafat @skift The future of #travel post #Coro...</td>\n",
              "      <td>1</td>\n",
              "    </tr>\n",
              "    <tr>\n",
              "      <th>9234</th>\n",
              "      <td>15004</td>\n",
              "      <td>59956</td>\n",
              "      <td>Living in the Moment</td>\n",
              "      <td>20-03-2020</td>\n",
              "      <td>Went to a local street market yesterday. No qu...</td>\n",
              "      <td>1</td>\n",
              "    </tr>\n",
              "    <tr>\n",
              "      <th>9618</th>\n",
              "      <td>15483</td>\n",
              "      <td>60435</td>\n",
              "      <td>Cornwall &amp; Devon, UK</td>\n",
              "      <td>20-03-2020</td>\n",
              "      <td>Forget filling your boot at the supermarket. S...</td>\n",
              "      <td>1</td>\n",
              "    </tr>\n",
              "    <tr>\n",
              "      <th>2256</th>\n",
              "      <td>6541</td>\n",
              "      <td>51493</td>\n",
              "      <td>Toronto, Ontario</td>\n",
              "      <td>18-03-2020</td>\n",
              "      <td>I'm trying to order food online for my older p...</td>\n",
              "      <td>1</td>\n",
              "    </tr>\n",
              "    <tr>\n",
              "      <th>3591</th>\n",
              "      <td>8165</td>\n",
              "      <td>53117</td>\n",
              "      <td>Los Angeles</td>\n",
              "      <td>18-03-2020</td>\n",
              "      <td>ItÃÂs the most wonderful time of the year to...</td>\n",
              "      <td>1</td>\n",
              "    </tr>\n",
              "    <tr>\n",
              "      <th>4227</th>\n",
              "      <td>8938</td>\n",
              "      <td>53890</td>\n",
              "      <td>West Michigan</td>\n",
              "      <td>18-03-2020</td>\n",
              "      <td>\"It's a wonderful thing to be able to help peo...</td>\n",
              "      <td>1</td>\n",
              "    </tr>\n",
              "  </tbody>\n",
              "</table>\n",
              "</div>\n",
              "    <div class=\"colab-df-buttons\">\n",
              "\n",
              "  <div class=\"colab-df-container\">\n",
              "    <button class=\"colab-df-convert\" onclick=\"convertToInteractive('df-92fd4638-48b7-4207-b96c-d4cc35ba9095')\"\n",
              "            title=\"Convert this dataframe to an interactive table.\"\n",
              "            style=\"display:none;\">\n",
              "\n",
              "  <svg xmlns=\"http://www.w3.org/2000/svg\" height=\"24px\" viewBox=\"0 -960 960 960\">\n",
              "    <path d=\"M120-120v-720h720v720H120Zm60-500h600v-160H180v160Zm220 220h160v-160H400v160Zm0 220h160v-160H400v160ZM180-400h160v-160H180v160Zm440 0h160v-160H620v160ZM180-180h160v-160H180v160Zm440 0h160v-160H620v160Z\"/>\n",
              "  </svg>\n",
              "    </button>\n",
              "\n",
              "  <style>\n",
              "    .colab-df-container {\n",
              "      display:flex;\n",
              "      gap: 12px;\n",
              "    }\n",
              "\n",
              "    .colab-df-convert {\n",
              "      background-color: #E8F0FE;\n",
              "      border: none;\n",
              "      border-radius: 50%;\n",
              "      cursor: pointer;\n",
              "      display: none;\n",
              "      fill: #1967D2;\n",
              "      height: 32px;\n",
              "      padding: 0 0 0 0;\n",
              "      width: 32px;\n",
              "    }\n",
              "\n",
              "    .colab-df-convert:hover {\n",
              "      background-color: #E2EBFA;\n",
              "      box-shadow: 0px 1px 2px rgba(60, 64, 67, 0.3), 0px 1px 3px 1px rgba(60, 64, 67, 0.15);\n",
              "      fill: #174EA6;\n",
              "    }\n",
              "\n",
              "    .colab-df-buttons div {\n",
              "      margin-bottom: 4px;\n",
              "    }\n",
              "\n",
              "    [theme=dark] .colab-df-convert {\n",
              "      background-color: #3B4455;\n",
              "      fill: #D2E3FC;\n",
              "    }\n",
              "\n",
              "    [theme=dark] .colab-df-convert:hover {\n",
              "      background-color: #434B5C;\n",
              "      box-shadow: 0px 1px 3px 1px rgba(0, 0, 0, 0.15);\n",
              "      filter: drop-shadow(0px 1px 2px rgba(0, 0, 0, 0.3));\n",
              "      fill: #FFFFFF;\n",
              "    }\n",
              "  </style>\n",
              "\n",
              "    <script>\n",
              "      const buttonEl =\n",
              "        document.querySelector('#df-92fd4638-48b7-4207-b96c-d4cc35ba9095 button.colab-df-convert');\n",
              "      buttonEl.style.display =\n",
              "        google.colab.kernel.accessAllowed ? 'block' : 'none';\n",
              "\n",
              "      async function convertToInteractive(key) {\n",
              "        const element = document.querySelector('#df-92fd4638-48b7-4207-b96c-d4cc35ba9095');\n",
              "        const dataTable =\n",
              "          await google.colab.kernel.invokeFunction('convertToInteractive',\n",
              "                                                    [key], {});\n",
              "        if (!dataTable) return;\n",
              "\n",
              "        const docLinkHtml = 'Like what you see? Visit the ' +\n",
              "          '<a target=\"_blank\" href=https://colab.research.google.com/notebooks/data_table.ipynb>data table notebook</a>'\n",
              "          + ' to learn more about interactive tables.';\n",
              "        element.innerHTML = '';\n",
              "        dataTable['output_type'] = 'display_data';\n",
              "        await google.colab.output.renderOutput(dataTable, element);\n",
              "        const docLink = document.createElement('div');\n",
              "        docLink.innerHTML = docLinkHtml;\n",
              "        element.appendChild(docLink);\n",
              "      }\n",
              "    </script>\n",
              "  </div>\n",
              "\n",
              "\n",
              "<div id=\"df-e8f2f0ea-2b49-48b5-8659-6f94e65b4337\">\n",
              "  <button class=\"colab-df-quickchart\" onclick=\"quickchart('df-e8f2f0ea-2b49-48b5-8659-6f94e65b4337')\"\n",
              "            title=\"Suggest charts\"\n",
              "            style=\"display:none;\">\n",
              "\n",
              "<svg xmlns=\"http://www.w3.org/2000/svg\" height=\"24px\"viewBox=\"0 0 24 24\"\n",
              "     width=\"24px\">\n",
              "    <g>\n",
              "        <path d=\"M19 3H5c-1.1 0-2 .9-2 2v14c0 1.1.9 2 2 2h14c1.1 0 2-.9 2-2V5c0-1.1-.9-2-2-2zM9 17H7v-7h2v7zm4 0h-2V7h2v10zm4 0h-2v-4h2v4z\"/>\n",
              "    </g>\n",
              "</svg>\n",
              "  </button>\n",
              "\n",
              "<style>\n",
              "  .colab-df-quickchart {\n",
              "      --bg-color: #E8F0FE;\n",
              "      --fill-color: #1967D2;\n",
              "      --hover-bg-color: #E2EBFA;\n",
              "      --hover-fill-color: #174EA6;\n",
              "      --disabled-fill-color: #AAA;\n",
              "      --disabled-bg-color: #DDD;\n",
              "  }\n",
              "\n",
              "  [theme=dark] .colab-df-quickchart {\n",
              "      --bg-color: #3B4455;\n",
              "      --fill-color: #D2E3FC;\n",
              "      --hover-bg-color: #434B5C;\n",
              "      --hover-fill-color: #FFFFFF;\n",
              "      --disabled-bg-color: #3B4455;\n",
              "      --disabled-fill-color: #666;\n",
              "  }\n",
              "\n",
              "  .colab-df-quickchart {\n",
              "    background-color: var(--bg-color);\n",
              "    border: none;\n",
              "    border-radius: 50%;\n",
              "    cursor: pointer;\n",
              "    display: none;\n",
              "    fill: var(--fill-color);\n",
              "    height: 32px;\n",
              "    padding: 0;\n",
              "    width: 32px;\n",
              "  }\n",
              "\n",
              "  .colab-df-quickchart:hover {\n",
              "    background-color: var(--hover-bg-color);\n",
              "    box-shadow: 0 1px 2px rgba(60, 64, 67, 0.3), 0 1px 3px 1px rgba(60, 64, 67, 0.15);\n",
              "    fill: var(--button-hover-fill-color);\n",
              "  }\n",
              "\n",
              "  .colab-df-quickchart-complete:disabled,\n",
              "  .colab-df-quickchart-complete:disabled:hover {\n",
              "    background-color: var(--disabled-bg-color);\n",
              "    fill: var(--disabled-fill-color);\n",
              "    box-shadow: none;\n",
              "  }\n",
              "\n",
              "  .colab-df-spinner {\n",
              "    border: 2px solid var(--fill-color);\n",
              "    border-color: transparent;\n",
              "    border-bottom-color: var(--fill-color);\n",
              "    animation:\n",
              "      spin 1s steps(1) infinite;\n",
              "  }\n",
              "\n",
              "  @keyframes spin {\n",
              "    0% {\n",
              "      border-color: transparent;\n",
              "      border-bottom-color: var(--fill-color);\n",
              "      border-left-color: var(--fill-color);\n",
              "    }\n",
              "    20% {\n",
              "      border-color: transparent;\n",
              "      border-left-color: var(--fill-color);\n",
              "      border-top-color: var(--fill-color);\n",
              "    }\n",
              "    30% {\n",
              "      border-color: transparent;\n",
              "      border-left-color: var(--fill-color);\n",
              "      border-top-color: var(--fill-color);\n",
              "      border-right-color: var(--fill-color);\n",
              "    }\n",
              "    40% {\n",
              "      border-color: transparent;\n",
              "      border-right-color: var(--fill-color);\n",
              "      border-top-color: var(--fill-color);\n",
              "    }\n",
              "    60% {\n",
              "      border-color: transparent;\n",
              "      border-right-color: var(--fill-color);\n",
              "    }\n",
              "    80% {\n",
              "      border-color: transparent;\n",
              "      border-right-color: var(--fill-color);\n",
              "      border-bottom-color: var(--fill-color);\n",
              "    }\n",
              "    90% {\n",
              "      border-color: transparent;\n",
              "      border-bottom-color: var(--fill-color);\n",
              "    }\n",
              "  }\n",
              "</style>\n",
              "\n",
              "  <script>\n",
              "    async function quickchart(key) {\n",
              "      const quickchartButtonEl =\n",
              "        document.querySelector('#' + key + ' button');\n",
              "      quickchartButtonEl.disabled = true;  // To prevent multiple clicks.\n",
              "      quickchartButtonEl.classList.add('colab-df-spinner');\n",
              "      try {\n",
              "        const charts = await google.colab.kernel.invokeFunction(\n",
              "            'suggestCharts', [key], {});\n",
              "      } catch (error) {\n",
              "        console.error('Error during call to suggestCharts:', error);\n",
              "      }\n",
              "      quickchartButtonEl.classList.remove('colab-df-spinner');\n",
              "      quickchartButtonEl.classList.add('colab-df-quickchart-complete');\n",
              "    }\n",
              "    (() => {\n",
              "      let quickchartButtonEl =\n",
              "        document.querySelector('#df-e8f2f0ea-2b49-48b5-8659-6f94e65b4337 button');\n",
              "      quickchartButtonEl.style.display =\n",
              "        google.colab.kernel.accessAllowed ? 'block' : 'none';\n",
              "    })();\n",
              "  </script>\n",
              "</div>\n",
              "    </div>\n",
              "  </div>\n"
            ],
            "application/vnd.google.colaboratory.intrinsic+json": {
              "type": "dataframe",
              "repr_error": "0"
            }
          },
          "metadata": {},
          "execution_count": 26
        }
      ],
      "source": [
        "train[train['OriginalTweet'].apply(lambda x: 'wonderful' in x) & (train['Sentiment'] == 1)]"
      ]
    },
    {
      "cell_type": "code",
      "source": [
        "ind = 8194\n",
        "new_text_vec_3 = cv_2.transform([train.loc[ind]['OriginalTweet']])\n",
        "pd.DataFrame(new_text_vec_3.toarray(), columns=cv_2.get_feature_names_out())[custom_tokenizer(train.loc[ind]['OriginalTweet'])]"
      ],
      "metadata": {
        "id": "jSjbKPCWk87K",
        "colab": {
          "base_uri": "https://localhost:8080/",
          "height": 130
        },
        "outputId": "2fdc78a6-b826-4a09-945f-d578306c9169"
      },
      "execution_count": null,
      "outputs": [
        {
          "output_type": "execute_result",
          "data": {
            "text/plain": [
              "      we're      open    usual  tomorrow    remain  constant    stable  \\\n",
              "0  0.182277  0.157832  0.19967  0.191492  0.184844   0.24742  0.229681   \n",
              "\n",
              "    regular  supplies  fabulous  ...  producers    always      hard      work  \\\n",
              "0  0.204762   0.14725  0.316047  ...    0.20398  0.180799  0.166292  0.130466   \n",
              "\n",
              "     ensure  wonderful      food   drinks  #inthistogether  #covid_19  \n",
              "0  0.180441   0.242951  0.086386  0.24742         0.261428   0.109825  \n",
              "\n",
              "[1 rows x 27 columns]"
            ],
            "text/html": [
              "\n",
              "  <div id=\"df-1f924fbd-dca3-49af-a00b-b55c29d0199f\" class=\"colab-df-container\">\n",
              "    <div>\n",
              "<style scoped>\n",
              "    .dataframe tbody tr th:only-of-type {\n",
              "        vertical-align: middle;\n",
              "    }\n",
              "\n",
              "    .dataframe tbody tr th {\n",
              "        vertical-align: top;\n",
              "    }\n",
              "\n",
              "    .dataframe thead th {\n",
              "        text-align: right;\n",
              "    }\n",
              "</style>\n",
              "<table border=\"1\" class=\"dataframe\">\n",
              "  <thead>\n",
              "    <tr style=\"text-align: right;\">\n",
              "      <th></th>\n",
              "      <th>we're</th>\n",
              "      <th>open</th>\n",
              "      <th>usual</th>\n",
              "      <th>tomorrow</th>\n",
              "      <th>remain</th>\n",
              "      <th>constant</th>\n",
              "      <th>stable</th>\n",
              "      <th>regular</th>\n",
              "      <th>supplies</th>\n",
              "      <th>fabulous</th>\n",
              "      <th>...</th>\n",
              "      <th>producers</th>\n",
              "      <th>always</th>\n",
              "      <th>hard</th>\n",
              "      <th>work</th>\n",
              "      <th>ensure</th>\n",
              "      <th>wonderful</th>\n",
              "      <th>food</th>\n",
              "      <th>drinks</th>\n",
              "      <th>#inthistogether</th>\n",
              "      <th>#covid_19</th>\n",
              "    </tr>\n",
              "  </thead>\n",
              "  <tbody>\n",
              "    <tr>\n",
              "      <th>0</th>\n",
              "      <td>0.182277</td>\n",
              "      <td>0.157832</td>\n",
              "      <td>0.19967</td>\n",
              "      <td>0.191492</td>\n",
              "      <td>0.184844</td>\n",
              "      <td>0.24742</td>\n",
              "      <td>0.229681</td>\n",
              "      <td>0.204762</td>\n",
              "      <td>0.14725</td>\n",
              "      <td>0.316047</td>\n",
              "      <td>...</td>\n",
              "      <td>0.20398</td>\n",
              "      <td>0.180799</td>\n",
              "      <td>0.166292</td>\n",
              "      <td>0.130466</td>\n",
              "      <td>0.180441</td>\n",
              "      <td>0.242951</td>\n",
              "      <td>0.086386</td>\n",
              "      <td>0.24742</td>\n",
              "      <td>0.261428</td>\n",
              "      <td>0.109825</td>\n",
              "    </tr>\n",
              "  </tbody>\n",
              "</table>\n",
              "<p>1 rows × 27 columns</p>\n",
              "</div>\n",
              "    <div class=\"colab-df-buttons\">\n",
              "\n",
              "  <div class=\"colab-df-container\">\n",
              "    <button class=\"colab-df-convert\" onclick=\"convertToInteractive('df-1f924fbd-dca3-49af-a00b-b55c29d0199f')\"\n",
              "            title=\"Convert this dataframe to an interactive table.\"\n",
              "            style=\"display:none;\">\n",
              "\n",
              "  <svg xmlns=\"http://www.w3.org/2000/svg\" height=\"24px\" viewBox=\"0 -960 960 960\">\n",
              "    <path d=\"M120-120v-720h720v720H120Zm60-500h600v-160H180v160Zm220 220h160v-160H400v160Zm0 220h160v-160H400v160ZM180-400h160v-160H180v160Zm440 0h160v-160H620v160ZM180-180h160v-160H180v160Zm440 0h160v-160H620v160Z\"/>\n",
              "  </svg>\n",
              "    </button>\n",
              "\n",
              "  <style>\n",
              "    .colab-df-container {\n",
              "      display:flex;\n",
              "      gap: 12px;\n",
              "    }\n",
              "\n",
              "    .colab-df-convert {\n",
              "      background-color: #E8F0FE;\n",
              "      border: none;\n",
              "      border-radius: 50%;\n",
              "      cursor: pointer;\n",
              "      display: none;\n",
              "      fill: #1967D2;\n",
              "      height: 32px;\n",
              "      padding: 0 0 0 0;\n",
              "      width: 32px;\n",
              "    }\n",
              "\n",
              "    .colab-df-convert:hover {\n",
              "      background-color: #E2EBFA;\n",
              "      box-shadow: 0px 1px 2px rgba(60, 64, 67, 0.3), 0px 1px 3px 1px rgba(60, 64, 67, 0.15);\n",
              "      fill: #174EA6;\n",
              "    }\n",
              "\n",
              "    .colab-df-buttons div {\n",
              "      margin-bottom: 4px;\n",
              "    }\n",
              "\n",
              "    [theme=dark] .colab-df-convert {\n",
              "      background-color: #3B4455;\n",
              "      fill: #D2E3FC;\n",
              "    }\n",
              "\n",
              "    [theme=dark] .colab-df-convert:hover {\n",
              "      background-color: #434B5C;\n",
              "      box-shadow: 0px 1px 3px 1px rgba(0, 0, 0, 0.15);\n",
              "      filter: drop-shadow(0px 1px 2px rgba(0, 0, 0, 0.3));\n",
              "      fill: #FFFFFF;\n",
              "    }\n",
              "  </style>\n",
              "\n",
              "    <script>\n",
              "      const buttonEl =\n",
              "        document.querySelector('#df-1f924fbd-dca3-49af-a00b-b55c29d0199f button.colab-df-convert');\n",
              "      buttonEl.style.display =\n",
              "        google.colab.kernel.accessAllowed ? 'block' : 'none';\n",
              "\n",
              "      async function convertToInteractive(key) {\n",
              "        const element = document.querySelector('#df-1f924fbd-dca3-49af-a00b-b55c29d0199f');\n",
              "        const dataTable =\n",
              "          await google.colab.kernel.invokeFunction('convertToInteractive',\n",
              "                                                    [key], {});\n",
              "        if (!dataTable) return;\n",
              "\n",
              "        const docLinkHtml = 'Like what you see? Visit the ' +\n",
              "          '<a target=\"_blank\" href=https://colab.research.google.com/notebooks/data_table.ipynb>data table notebook</a>'\n",
              "          + ' to learn more about interactive tables.';\n",
              "        element.innerHTML = '';\n",
              "        dataTable['output_type'] = 'display_data';\n",
              "        await google.colab.output.renderOutput(dataTable, element);\n",
              "        const docLink = document.createElement('div');\n",
              "        docLink.innerHTML = docLinkHtml;\n",
              "        element.appendChild(docLink);\n",
              "      }\n",
              "    </script>\n",
              "  </div>\n",
              "\n",
              "    </div>\n",
              "  </div>\n"
            ],
            "application/vnd.google.colaboratory.intrinsic+json": {
              "type": "dataframe"
            }
          },
          "metadata": {},
          "execution_count": 27
        }
      ]
    },
    {
      "cell_type": "code",
      "source": [
        "# определяем самый важный токен (или можно посмотреть по таблице выше)\n",
        "max_token_index = new_text_vec_3.toarray().argmax()\n",
        "most_important_token = cv_2.get_feature_names_out()[max_token_index]\n",
        "print(most_important_token)"
      ],
      "metadata": {
        "colab": {
          "base_uri": "https://localhost:8080/"
        },
        "id": "vRRp7CFHtr53",
        "outputId": "4791f34f-7e57-4b74-828a-674bf700982c"
      },
      "execution_count": null,
      "outputs": [
        {
          "output_type": "stream",
          "name": "stdout",
          "text": [
            "fabulous\n"
          ]
        }
      ]
    },
    {
      "cell_type": "markdown",
      "metadata": {
        "id": "JTv9ST2_U6NA"
      },
      "source": [
        "**Ответ:** Слово fabulous (потрясающий) редко встречается в других твитах, поэтому для данного твита оно имеет большое значение. Из определения этого слова понятно, что в данном случае TfidfVectorizer хорошо (полезно для определения окраски) выделяет важный токен."
      ]
    },
    {
      "cell_type": "markdown",
      "metadata": {
        "id": "JVEuZm8BHms6"
      },
      "source": [
        "## Задание 4 Обучение первых моделей (1 балл)"
      ]
    },
    {
      "cell_type": "markdown",
      "metadata": {
        "id": "JADkO3sfXdOG"
      },
      "source": [
        "Примените оба векторайзера для получения матриц с признаками текстов.  Выделите целевую переменную."
      ]
    },
    {
      "cell_type": "code",
      "execution_count": 21,
      "metadata": {
        "id": "DguoiXhCX2oN"
      },
      "outputs": [],
      "source": [
        "vec_1 = CountVectorizer(tokenizer = custom_tokenizer) # определяем векторайзер\n",
        "bow_1 = vec_1.fit_transform(train['OriginalTweet']) # векторизуем тренировочную выборку\n",
        "bow_test_1 = vec_1.transform(test['OriginalTweet']) # векторизуем тестовую выборку"
      ]
    },
    {
      "cell_type": "code",
      "source": [
        "y_train, y_test = train_test_split(df.Sentiment, test_size=0.3, random_state=0)"
      ],
      "metadata": {
        "id": "FHs9AjhF_s86"
      },
      "execution_count": 22,
      "outputs": []
    },
    {
      "cell_type": "markdown",
      "metadata": {
        "id": "_FX1KSOfYSx4"
      },
      "source": [
        "Обучите логистическую регрессию на векторах из обоих векторайзеров. Посчитайте долю правильных ответов на обучающих и тестовых данных. Какой векторайзер показал лучший результат? Что можно сказать о моделях?"
      ]
    },
    {
      "cell_type": "code",
      "execution_count": 23,
      "metadata": {
        "id": "-Tb3eh8UXJ6v",
        "colab": {
          "base_uri": "https://localhost:8080/"
        },
        "outputId": "f0f8e002-cd8a-42fc-bf91-7d61bf9d7835"
      },
      "outputs": [
        {
          "output_type": "stream",
          "name": "stdout",
          "text": [
            "CountVectorizer:\n",
            "Доля правильных ответов на обучающей выборке: 0.98445\n",
            "Доля правильных ответов на тестовой выборке: 0.86725\n"
          ]
        }
      ],
      "source": [
        "from sklearn.linear_model import LogisticRegression\n",
        "from sklearn.metrics import accuracy_score\n",
        "\n",
        "clf_1 = LogisticRegression(max_iter=200, random_state=0)\n",
        "clf_1.fit(bow_1, y_train) # обучаем логистическую регрессию на тренировочной выборке\n",
        "pred_train_1 = clf_1.predict(bow_1) # делаем предикт на обучающей выборке\n",
        "pred_test_1 = clf_1.predict(bow_test_1) # делаем предикт на тестовой выборке\n",
        "print('CountVectorizer:')\n",
        "print('Доля правильных ответов на обучающей выборке:', round(accuracy_score(y_train, pred_train_1), 5))\n",
        "print('Доля правильных ответов на тестовой выборке:', round(accuracy_score(y_test, pred_test_1), 5))"
      ]
    },
    {
      "cell_type": "code",
      "source": [
        "vec_2 = TfidfVectorizer(tokenizer = custom_tokenizer)\n",
        "bow_2 = vec_2.fit_transform(train['OriginalTweet'])\n",
        "bow_test_2 = vec_2.transform(test['OriginalTweet'])"
      ],
      "metadata": {
        "id": "Pwp8nqTz_Qnq"
      },
      "execution_count": null,
      "outputs": []
    },
    {
      "cell_type": "code",
      "source": [
        "clf_2 = LogisticRegression(max_iter=200, random_state=0)\n",
        "clf_2.fit(bow_2, y_train)\n",
        "pred_train_2 = clf_1.predict(bow_2)\n",
        "pred_test_2 = clf_2.predict(bow_test_2)\n",
        "print('TfidfVectorizer:')\n",
        "print('Доля правильных ответов на обучающей выборке:', round(accuracy_score(y_train, pred_train_2), 5))\n",
        "print('Доля правильных ответов на тестовой выборке:', round(accuracy_score(y_test, pred_test_2), 5))"
      ],
      "metadata": {
        "colab": {
          "base_uri": "https://localhost:8080/"
        },
        "id": "6HwGTUkH_3KC",
        "outputId": "0c107921-71fe-41e3-c1da-172fdf00c60f"
      },
      "execution_count": null,
      "outputs": [
        {
          "output_type": "stream",
          "name": "stdout",
          "text": [
            "TfidfVectorizer:\n",
            "Доля правильных ответов на обучающей выборке: 0.98398\n",
            "Доля правильных ответов на тестовой выборке: 0.8534\n"
          ]
        }
      ]
    },
    {
      "cell_type": "markdown",
      "metadata": {
        "id": "8y_wO7rCmv7K"
      },
      "source": [
        "**Ответ:** Лучший результат показал CountVectorizer как на тестовой, так и на тернировочной выборке. Про модели можно сказать, что они выдают довольной высокий результат на обеих выборках, но есть вероятность, что произошло переобучение, так как доля правильных ответов на тренировочной выборке близка к единице."
      ]
    },
    {
      "cell_type": "markdown",
      "metadata": {
        "id": "rSOR1i3mjrys"
      },
      "source": [
        "## Задание 5 Стемминг (0.5 балла)"
      ]
    },
    {
      "cell_type": "markdown",
      "metadata": {
        "id": "i6ONBWNPjuq-"
      },
      "source": [
        "Для уменьшения словаря можно использовать стемминг.\n",
        "\n",
        "Модифицируйте написанный токенайзер, добавив в него стемминг с использованием SnowballStemmer. Обучите Count- и Tfidf- векторайзеры. Как изменился размер словаря?"
      ]
    },
    {
      "cell_type": "code",
      "source": [
        "from nltk.stem.snowball import SnowballStemmer"
      ],
      "metadata": {
        "id": "AgYFsXFKJynQ"
      },
      "execution_count": 24,
      "outputs": []
    },
    {
      "cell_type": "code",
      "execution_count": 75,
      "metadata": {
        "id": "oVfA2-iMkQBb"
      },
      "outputs": [],
      "source": [
        "def custom_stem_tokenizer(text):\n",
        "  tw = TweetTokenizer()\n",
        "  text_lower_tokens = tw.tokenize(text.lower())\n",
        "  tokens_list = []\n",
        "\n",
        "  for token in text_lower_tokens:\n",
        "    if token in (stopwords.words(\"english\") + list(punctuation)) or (len(token) == 1 and ord(token) >= 128) or token[0:12] == 'https://t.co':\n",
        "      continue\n",
        "    else:\n",
        "      tokens_list.append(token)\n",
        "\n",
        "  stemmer = SnowballStemmer(\"english\")\n",
        "  tokens = [stemmer.stem(w) for w in tokens_list] # к каждому токену применяем стемминг\n",
        "\n",
        "  return tokens"
      ]
    },
    {
      "cell_type": "code",
      "execution_count": null,
      "metadata": {
        "colab": {
          "base_uri": "https://localhost:8080/"
        },
        "id": "9QmrjYtqnlPd",
        "outputId": "32622a88-f296-4d1f-9cf9-9be2ace5d4d7"
      },
      "outputs": [
        {
          "output_type": "execute_result",
          "data": {
            "text/plain": [
              "['sampl', 'text', '@sample_text', '#sampletext', 'ad', 'word', 'check', 'stem']"
            ]
          },
          "metadata": {},
          "execution_count": 36
        }
      ],
      "source": [
        "custom_stem_tokenizer('This is sample text!!!! @Sample_text I, \\x92\\x92 https://t.co/sample  #sampletext adding more words to check stemming')"
      ]
    },
    {
      "cell_type": "code",
      "execution_count": null,
      "metadata": {
        "colab": {
          "base_uri": "https://localhost:8080/"
        },
        "id": "zAvUTmaplzOS",
        "outputId": "ebabbd1c-1cb0-4ba0-e961-67a772d76d74"
      },
      "outputs": [
        {
          "output_type": "stream",
          "name": "stdout",
          "text": [
            "36652\n"
          ]
        }
      ],
      "source": [
        "cv = CountVectorizer(tokenizer = custom_stem_tokenizer)\n",
        "\n",
        "X_stem = cv.fit_transform(train['OriginalTweet'])\n",
        "\n",
        "print(len(cv.vocabulary_))"
      ]
    },
    {
      "cell_type": "code",
      "source": [
        "vec_1_stem = CountVectorizer(tokenizer = custom_stem_tokenizer)\n",
        "bow_1_stem = vec_1_stem.fit_transform(train['OriginalTweet'])\n",
        "bow_test_1_stem = vec_1_stem.transform(test['OriginalTweet'])"
      ],
      "metadata": {
        "id": "rUtdUrjPLdLU"
      },
      "execution_count": null,
      "outputs": []
    },
    {
      "cell_type": "code",
      "source": [
        "vec_2_stem = TfidfVectorizer(tokenizer = custom_stem_tokenizer)\n",
        "bow_2_stem = vec_2_stem.fit_transform(train['OriginalTweet'])\n",
        "bow_test_2_stem = vec_2_stem.transform(test['OriginalTweet'])"
      ],
      "metadata": {
        "id": "vSy2t9gPLo3o"
      },
      "execution_count": null,
      "outputs": []
    },
    {
      "cell_type": "markdown",
      "metadata": {
        "id": "Oyzs5TaAoHP6"
      },
      "source": [
        "**Ответ** Размер словаря стал еще на 19% меньше, или в абсолютном выражении - на 8656 токенов."
      ]
    },
    {
      "cell_type": "markdown",
      "metadata": {
        "id": "1OkncHI8oRmd"
      },
      "source": [
        "Обучите логистическую регрессию с использованием обоих векторайзеров. Изменилось ли качество? Есть ли смысл применять стемминг?"
      ]
    },
    {
      "cell_type": "code",
      "execution_count": null,
      "metadata": {
        "id": "ykZJPphEoZ5W",
        "colab": {
          "base_uri": "https://localhost:8080/"
        },
        "outputId": "36f01c8c-18d9-4daf-dd29-0b904c42679a"
      },
      "outputs": [
        {
          "output_type": "stream",
          "name": "stdout",
          "text": [
            "CountVectorizer:\n",
            "Доля правильных ответов на обучающей выборке: 0.97189\n",
            "Доля правильных ответов на тестовой выборке: 0.86725\n"
          ]
        }
      ],
      "source": [
        "clf_1_stem = LogisticRegression(max_iter=200, random_state=0)\n",
        "clf_1_stem.fit(bow_1_stem, y_train)\n",
        "pred_train_1_stem = clf_1_stem.predict(bow_1_stem)\n",
        "pred_test_1_stem = clf_1_stem.predict(bow_test_1_stem)\n",
        "print('CountVectorizer:')\n",
        "print('Доля правильных ответов на обучающей выборке:', round(accuracy_score(y_train, pred_train_1_stem), 5))\n",
        "print('Доля правильных ответов на тестовой выборке:', round(accuracy_score(y_test, pred_test_1_stem), 5))"
      ]
    },
    {
      "cell_type": "code",
      "source": [
        "clf_2_stem = LogisticRegression(max_iter=200, random_state=0)\n",
        "clf_2_stem.fit(bow_2_stem, y_train)\n",
        "pred_train_2_stem = clf_2_stem.predict(bow_2_stem)\n",
        "pred_test_2_stem = clf_2_stem.predict(bow_test_2_stem)\n",
        "print('TfidfVectorizer:')\n",
        "print('Доля правильных ответов на обучающей выборке:', round(accuracy_score(y_train, pred_train_2_stem), 5))\n",
        "print('Доля правильных ответов на тестовой выборке:', round(accuracy_score(y_test, pred_test_2_stem), 5))"
      ],
      "metadata": {
        "colab": {
          "base_uri": "https://localhost:8080/"
        },
        "id": "Zk9zFVygMAds",
        "outputId": "2343c751-2853-442c-fa88-54a717efde6d"
      },
      "execution_count": null,
      "outputs": [
        {
          "output_type": "stream",
          "name": "stdout",
          "text": [
            "TfidfVectorizer:\n",
            "Доля правильных ответов на обучающей выборке: 0.91589\n",
            "Доля правильных ответов на тестовой выборке: 0.85609\n"
          ]
        }
      ]
    },
    {
      "cell_type": "markdown",
      "metadata": {
        "id": "bCRlrODro0h8"
      },
      "source": [
        "**Ответ:** Качество на тренировочных выборках стало меньше, чем при ситуации без стеминга, но при TfidfVectorizer доля правильных ответов на тестовой выборке увеличилась (при CountVectorizer она не изменилась). Таким образом, есть смысл применять стемминг, но совместно с TfidfVectorizer, так как тогда качество на тестовой выборке может увеличиться.  "
      ]
    },
    {
      "cell_type": "markdown",
      "metadata": {
        "id": "hYWGQNEDqLC-"
      },
      "source": [
        "## Задание  6 Работа с частотами (1.5 балла)"
      ]
    },
    {
      "cell_type": "markdown",
      "metadata": {
        "id": "8Hq-tl5mqUSn"
      },
      "source": [
        "Еще один способ уменьшить количество признаков - это использовать параметры min_df и max_df при построении векторайзера  эти параметры помогают ограничить требуемую частоту встречаемости токена в документах.\n",
        "\n",
        "По умолчанию берутся все токены, которые встретились хотя бы один раз.\n",
        "\n"
      ]
    },
    {
      "cell_type": "markdown",
      "metadata": {
        "id": "m1SiD4DE3WZ2"
      },
      "source": [
        "Подберите max_df такой, что размер словаря будет 36651 (на 1 меньше, чем было). Почему параметр получился такой большой/маленький?"
      ]
    },
    {
      "cell_type": "code",
      "source": [
        "cv_df = CountVectorizer(tokenizer=custom_stem_tokenizer,\n",
        "                        max_df=8000\n",
        "                        ).fit(\n",
        "                            train['OriginalTweet']\n",
        "                            )\n",
        "print(len(cv_df.vocabulary_))"
      ],
      "metadata": {
        "colab": {
          "base_uri": "https://localhost:8080/"
        },
        "id": "o3YLb8PViExb",
        "outputId": "678dc529-decf-4005-b25c-b50eee5fcc06"
      },
      "execution_count": null,
      "outputs": [
        {
          "output_type": "stream",
          "name": "stdout",
          "text": [
            "36651\n"
          ]
        }
      ]
    },
    {
      "cell_type": "code",
      "source": [
        "vec_stem_max = CountVectorizer(tokenizer=custom_stem_tokenizer, max_df=8000)\n",
        "bow_stem_max= vec_stem_max.fit_transform(train['OriginalTweet'])\n",
        "bow_test_stem_max = vec_stem_max.transform(test['OriginalTweet'])"
      ],
      "metadata": {
        "id": "rTDzqcXRzn_w"
      },
      "execution_count": null,
      "outputs": []
    },
    {
      "cell_type": "code",
      "source": [
        "clf_1_stem = LogisticRegression(max_iter=200, random_state=0)\n",
        "clf_1_stem.fit(bow_stem_max, y_train)\n",
        "pred_train_stem_max = clf_1_stem.predict(bow_stem_max)\n",
        "pred_test_stem_max = clf_1_stem.predict(bow_test_stem_max)\n",
        "print('Доля правильных ответов на обучающей выборке:', round(accuracy_score(y_train, pred_train_stem_max), 5))\n",
        "print('Доля правильных ответов на тестовой выборке:', round(accuracy_score(y_test, pred_test_stem_max), 5))"
      ],
      "metadata": {
        "id": "VdGlOVOP0JMD",
        "colab": {
          "base_uri": "https://localhost:8080/"
        },
        "outputId": "6d43b957-6879-4492-be60-d255100bb543"
      },
      "execution_count": null,
      "outputs": [
        {
          "output_type": "stream",
          "name": "stdout",
          "text": [
            "Доля правильных ответов на обучающей выборке: 0.97172\n",
            "Доля правильных ответов на тестовой выборке: 0.86805\n"
          ]
        }
      ]
    },
    {
      "cell_type": "markdown",
      "metadata": {
        "id": "UdZYoGZR4UsA"
      },
      "source": [
        "**Ответ:** Параметр получился такой большой, потому что требуется уменьшить размер словаря на 1 токен, следовательно должен быть отброшен самый популярный токен, который встречался больше 8000 раз, значит max_df близок к этому числу и не может быть сильно меньше, чтобы не было удалено больше одного токена."
      ]
    },
    {
      "cell_type": "markdown",
      "metadata": {
        "id": "_gRIUaB1u32f"
      },
      "source": [
        "Подберите min_df (используйте дефолтное значение max_df) в CountVectorizer таким образом, чтобы размер словаря был 3700 токенов (при использовании токенайзера со стеммингом), а качество осталось таким же, как и было. Что можно сказать о результатах?"
      ]
    },
    {
      "cell_type": "code",
      "execution_count": null,
      "metadata": {
        "colab": {
          "base_uri": "https://localhost:8080/"
        },
        "id": "kSnMJkn9XmsT",
        "outputId": "b2cb751f-1909-4648-9203-8f2cadea95a3"
      },
      "outputs": [
        {
          "output_type": "stream",
          "name": "stdout",
          "text": [
            "3700\n"
          ]
        }
      ],
      "source": [
        "cv_df = CountVectorizer(tokenizer=custom_stem_tokenizer,\n",
        "                        min_df=11\n",
        "                        ).fit(\n",
        "                            train['OriginalTweet']\n",
        "                            )\n",
        "print(len(cv_df.vocabulary_))"
      ]
    },
    {
      "cell_type": "code",
      "source": [
        "vec_stem_min = CountVectorizer(tokenizer=custom_stem_tokenizer, min_df=11)\n",
        "bow_stem_min = vec_stem_min.fit_transform(train['OriginalTweet'])\n",
        "bow_test_stem_min = vec_stem_min.transform(test['OriginalTweet'])"
      ],
      "metadata": {
        "id": "XCJEBxLeNMLv"
      },
      "execution_count": null,
      "outputs": []
    },
    {
      "cell_type": "code",
      "source": [
        "clf_1_stem = LogisticRegression(max_iter=200, random_state=0)\n",
        "clf_1_stem.fit(bow_stem_min, y_train)\n",
        "pred_train_stem_min = clf_1_stem.predict(bow_stem_min)\n",
        "pred_test_stem_min = clf_1_stem.predict(bow_test_stem_min)\n",
        "print('Доля правильных ответов на обучающей выборке:', round(accuracy_score(y_train, pred_train_stem_min), 5))\n",
        "print('Доля правильных ответов на тестовой выборке:', round(accuracy_score(y_test, pred_test_stem_min), 5))"
      ],
      "metadata": {
        "colab": {
          "base_uri": "https://localhost:8080/"
        },
        "id": "VBtfj4sKNCEr",
        "outputId": "cc1cd1b3-02f9-486b-c4ba-e0e7776940f0"
      },
      "execution_count": null,
      "outputs": [
        {
          "output_type": "stream",
          "name": "stdout",
          "text": [
            "Доля правильных ответов на обучающей выборке: 0.92866\n",
            "Доля правильных ответов на тестовой выборке: 0.86805\n"
          ]
        }
      ]
    },
    {
      "cell_type": "markdown",
      "metadata": {
        "id": "3fGYpUIZx0fk"
      },
      "source": [
        "**Ответ:** По результатам видно, что доля правильный ответов на тестовой выборке даже немного увеличилась, а на тренировочной - снизилась сильнее. На основе этого можно сделать вывод, что токены, которые встречались редко, приводили нашу модель к переобучению, и, убрав их, качество на тестовой выборке увеличилось, так что никакой важной информации эти токены не несли."
      ]
    },
    {
      "cell_type": "markdown",
      "source": [
        "В предыдущих заданиях признаки не скалировались. Отскалируйте данные (при словаре размера 3.7 тысяч, векторизованные CountVectorizer), обучите логистическую регрессию, посмотрите качество и выведите `berplot` содержащий по 10 токенов, с наибольшим по модулю положительными/отрицательными весами. Что можно сказать об этих токенах?"
      ],
      "metadata": {
        "id": "Gx_h_-inKbBl"
      }
    },
    {
      "cell_type": "code",
      "source": [
        "from sklearn.preprocessing import StandardScaler\n",
        "\n",
        "vec_3 = CountVectorizer(tokenizer=custom_stem_tokenizer, min_df=11)\n",
        "bow_3 = vec_3.fit_transform(train['OriginalTweet'])\n",
        "bow_test_3 = vec_3.transform(test['OriginalTweet'])"
      ],
      "metadata": {
        "id": "KBATXJX6LG9q"
      },
      "execution_count": null,
      "outputs": []
    },
    {
      "cell_type": "code",
      "source": [
        "scaler = StandardScaler(with_mean=False)\n",
        "bow_3 = scaler.fit_transform(bow_3)\n",
        "bow_test_3 = scaler.transform(bow_test_3)\n",
        "\n",
        "clf_3 = LogisticRegression(max_iter=200, random_state=0)\n",
        "clf_3.fit(bow_3, y_train)\n",
        "pred_train_3 = clf_3.predict(bow_3)\n",
        "pred_test_3 = clf_3.predict(bow_test_3)\n",
        "print('Доля правильных ответов на обучающей выборке:', round(accuracy_score(y_train, pred_train_3), 5))\n",
        "print('Доля правильных ответов на тестовой выборке:', round(accuracy_score(y_test, pred_test_3), 5))"
      ],
      "metadata": {
        "colab": {
          "base_uri": "https://localhost:8080/"
        },
        "id": "VzfTk-b9rczy",
        "outputId": "15af1c66-14d9-49e3-b51b-bd4692033483"
      },
      "execution_count": null,
      "outputs": [
        {
          "output_type": "stream",
          "name": "stdout",
          "text": [
            "Доля правильных ответов на обучающей выборке: 0.94169\n",
            "Доля правильных ответов на тестовой выборке: 0.84463\n"
          ]
        }
      ]
    },
    {
      "cell_type": "code",
      "source": [
        "feature_names = vec_3.get_feature_names_out()\n",
        "\n",
        "coefs = clf_3.coef_[0]\n",
        "sort_coefs = np.argsort(coefs)\n",
        "\n",
        "top_positive_ind = sort_coefs[-10:-1][::-1]\n",
        "top_negative_ind = sort_coefs[0:10]\n",
        "\n",
        "top_positive_coefs = coefs[top_positive_ind] # топ-10 положительных коэффициентов\n",
        "top_negative_coefs = coefs[top_negative_ind] # топ-10 отрицательных коэффициентов\n",
        "top_positive_features = feature_names[top_positive_ind] # топ-10 позитивных слов\n",
        "top_negative_features = feature_names[top_negative_ind] # топ-10 негативных слов\n",
        "\n",
        "plt.figure(figsize=(12, 6))\n",
        "plt.barh(y = top_positive_features, width = top_positive_coefs, color = 'green', label = 'Positive') # зеленый график для позитивных слов\n",
        "plt.barh(y = top_negative_features, width = top_negative_coefs, color = 'red', label = 'Negative') # красный график для негативных слов\n",
        "plt.xlabel('Веса')\n",
        "plt.ylabel('Токены')\n",
        "plt.title('20 токенов с наибольшими по модулю весами')\n",
        "plt.legend()\n",
        "plt.show()"
      ],
      "metadata": {
        "colab": {
          "base_uri": "https://localhost:8080/",
          "height": 564
        },
        "id": "82FTlIAP1NRZ",
        "outputId": "b6eb21b9-74c8-4e8a-d0ae-b2c309066606"
      },
      "execution_count": null,
      "outputs": [
        {
          "output_type": "display_data",
          "data": {
            "text/plain": [
              "<Figure size 1200x600 with 1 Axes>"
            ],
            "image/png": "[encoded data removed]"
          },
          "metadata": {}
        }
      ]
    },
    {
      "cell_type": "markdown",
      "source": [
        "**Ответ:** После скалирования качество на тренировочной выборке стало выше, а на тестовой - ниже.\n",
        "\n",
        "Про токены можно сказать, что сами по себе они имеют яркую окраску (например, негативную: panic, kill, scam; позитивную: help, thank, like), поэтому наша модель хорошо справилась с определением весов, и способна на их основе определять эмоциональную окраску твитта."
      ],
      "metadata": {
        "id": "ThcEfzY1LHET"
      }
    },
    {
      "cell_type": "markdown",
      "metadata": {
        "id": "ktJVOdrIHq7B"
      },
      "source": [
        "## Задание 7 Другие признаки (1.5 балла)"
      ]
    },
    {
      "cell_type": "markdown",
      "metadata": {
        "id": "Yt3jRCZ2H0Og"
      },
      "source": [
        "Мы были сконцентрированы на работе с текстами твиттов и не использовали другие признаки - имена пользователя, дату и местоположение"
      ]
    },
    {
      "cell_type": "markdown",
      "metadata": {
        "id": "52wjewCCo_di"
      },
      "source": [
        "Изучите признаки UserName и ScreenName. полезны ли они? Если полезны, то закодируйте их, добавьте к матрице с отскалированными признаками, обучите логистическую регрессию, замерьте качество."
      ]
    },
    {
      "cell_type": "code",
      "execution_count": null,
      "metadata": {
        "id": "63thouYZptj6",
        "colab": {
          "base_uri": "https://localhost:8080/"
        },
        "outputId": "729b7aad-8d4d-4612-84cb-d7b208d4de53"
      },
      "outputs": [
        {
          "output_type": "stream",
          "name": "stdout",
          "text": [
            "True\n",
            "True\n"
          ]
        }
      ],
      "source": [
        "print(len(df['UserName'].unique()) == len(df))\n",
        "print(len(df['ScreenName'].unique()) == len(df))"
      ]
    },
    {
      "cell_type": "markdown",
      "metadata": {
        "id": "r8_qR-gnpT3a"
      },
      "source": [
        "**Ответ:** В нашем случае признаки UserName и ScreenName не будут полезными, так как сами по себе они никакой дополнительной информации не несут, а также среди этих признаков нет повторяющихся значений. Если бы у этих признаков были повторяющиеся значения (один человек написал несколько твитов), то можно было бы найти закономерность, что твитты, оставляемые человеком с определенным ником чаще всего имеют положительную или негативную окраску, и это увеличило бы качество нашей модели.\n",
        "\n"
      ]
    },
    {
      "cell_type": "markdown",
      "metadata": {
        "id": "ythEcFSkt7y3"
      },
      "source": [
        "Изучите признак TweetAt в обучающей выборке: преобразуйте его к типу datetime и нарисуйте его гистограмму с разделением по цвету на оспнове целевой переменной. Полезен ли он? Если полезен, то закодируйте его, добавьте к матрице с отскалированными признаками, обучите логистическую регрессию, замерьте качество."
      ]
    },
    {
      "cell_type": "code",
      "source": [
        "train['TweetAt'] = pd.to_datetime(train['TweetAt'], format='%d-%m-%Y') # преобразуем к типу datetime признак тренировочной выборки\n",
        "test['TweetAt'] = pd.to_datetime(test['TweetAt'], format='%d-%m-%Y') # преобразуем к типу datetime признак тестовой выборки\n",
        "\n",
        "plt.figure(figsize=(12, 6))\n",
        "plt.hist(train[train['Sentiment'] == 1]['TweetAt'], bins = 50, color = 'green', alpha = 0.7, label = 'Positive') # зеленая гистограмма дат для позитивных твитов\n",
        "plt.hist(train[train['Sentiment'] == 0]['TweetAt'], bins = 50, color = 'red', alpha = 0.7, label = 'Negative') # красная гистограмма дат для негативных твитов\n",
        "plt.xlabel('Дата')\n",
        "plt.ylabel('Частота')\n",
        "plt.title('Гистограмма TweetAt с разделением по цвету на основе целевой переменной')\n",
        "plt.legend()\n",
        "plt.show()"
      ],
      "metadata": {
        "id": "Lxb_k0JLirNv",
        "colab": {
          "base_uri": "https://localhost:8080/",
          "height": 564
        },
        "outputId": "dddda31b-d3cd-4a17-a168-a9078ffdbc60"
      },
      "execution_count": null,
      "outputs": [
        {
          "output_type": "display_data",
          "data": {
            "text/plain": [
              "<Figure size 1200x600 with 1 Axes>"
            ],
            "image/png": "[encoded data removed]"
          },
          "metadata": {}
        }
      ]
    },
    {
      "cell_type": "markdown",
      "metadata": {
        "id": "4IdLBdpQxM-G"
      },
      "source": [
        "**Ответ:** По гистограмме видно, что на каждом столбике разница между негативными и позитивными твиттами в эти даты несущественная: почти везде позитивных твиттов чуть больше, чем негативных, поэтому даты практически неразличимы между собой. Этот признак мог бы улучшить качество модели, если бы из общей массы выбивались даты, в которых были существенные различия между количеством негативных и позитивных твиттов, например, в тот день вышла какая-нибудь поражающая новость, которую все стали бы обсуждать. Тогда для твиттов в эту дату наша модель была бы склонна давать предикт в соответствии с эмоциональной окраской большинства твиттов, тем самым качество модели бы улучшилось. Но, как уже было сказано, по гистограмме видно, что таких дат нет.\n",
        "\n"
      ]
    },
    {
      "cell_type": "markdown",
      "source": [
        "Поработайте с признаком Location в обучающей выборке. Сколько уникальных значений?"
      ],
      "metadata": {
        "id": "r2JtRPhNP6qx"
      }
    },
    {
      "cell_type": "code",
      "source": [
        "print('Количество уникальных значений:', len(train['Location'].unique()))"
      ],
      "metadata": {
        "id": "xYQZQ1FRNpoe",
        "colab": {
          "base_uri": "https://localhost:8080/"
        },
        "outputId": "79336a59-14ce-44f6-c2d3-3e26800a2536"
      },
      "execution_count": 26,
      "outputs": [
        {
          "output_type": "stream",
          "name": "stdout",
          "text": [
            "Количество уникальных значений: 7949\n"
          ]
        }
      ]
    },
    {
      "cell_type": "markdown",
      "source": [
        "Постройте гистограмму топ-10 по популярности местоположений (исключая Unknown)"
      ],
      "metadata": {
        "id": "6k4JwpRTQISa"
      }
    },
    {
      "cell_type": "code",
      "source": [
        "locations = train['Location'].value_counts()\n",
        "\n",
        "\n",
        "plt.figure(figsize=(12, 6))\n",
        "plt.bar(locations.index[1:11], locations.values[1:11], color = 'darkblue')\n",
        "plt.xlabel('Местоположение')\n",
        "plt.xticks(fontsize=7)\n",
        "plt.ylabel('Частота')\n",
        "plt.title('Топ-10 местоположений по популярности')\n",
        "plt.show()"
      ],
      "metadata": {
        "id": "J91YkhegJ0mz",
        "colab": {
          "base_uri": "https://localhost:8080/",
          "height": 560
        },
        "outputId": "265ab383-0f77-4e61-84b4-73ff84393b27"
      },
      "execution_count": 27,
      "outputs": [
        {
          "output_type": "display_data",
          "data": {
            "text/plain": [
              "<Figure size 1200x600 with 1 Axes>"
            ],
            "image/png": "[encoded data removed]"
          },
          "metadata": {}
        }
      ]
    },
    {
      "cell_type": "markdown",
      "source": [
        "Видно, что многие местоположения включают в себя более точное название места, чем другие (Например, у некоторых стоит London, UK; а у некоторых просто UK или United Kingdom).\n",
        "\n",
        "Создайте новый признак WiderLocation, который содержит самое широкое местоположение (например, из London, UK должно получиться UK). Сколько уникальных категорий теперь? Постройте аналогичную гистограмму."
      ],
      "metadata": {
        "id": "ZOsv3lODTfYB"
      }
    },
    {
      "cell_type": "code",
      "source": [
        "clear_loc = []\n",
        "for loc in train['Location']:\n",
        "# берем последнюю часть от местоположения (самое широкое)\n",
        "  first = loc.split(', ')[-1]\n",
        "  if first.split(' ')[-1] == '':\n",
        "    clear_loc.append(first)\n",
        "  else:\n",
        "    clear_loc.append(first.split(' ')[-1])\n",
        "train['WiderLocation'] = clear_loc\n",
        "print('Количество уникальных значений:', len(train['WiderLocation'].unique()))"
      ],
      "metadata": {
        "id": "mSkow6acOMyD",
        "colab": {
          "base_uri": "https://localhost:8080/"
        },
        "outputId": "7b6c9cbe-bd3f-414b-8370-846f435cff70"
      },
      "execution_count": 28,
      "outputs": [
        {
          "output_type": "stream",
          "name": "stdout",
          "text": [
            "Количество уникальных значений: 3476\n"
          ]
        }
      ]
    },
    {
      "cell_type": "code",
      "source": [
        "locations = train['WiderLocation'].value_counts()\n",
        "\n",
        "\n",
        "plt.figure(figsize=(12, 6))\n",
        "plt.bar(locations.index[1:11], locations.values[1:11], color = 'darkblue')\n",
        "plt.xlabel('Местоположение')\n",
        "plt.xticks(fontsize=7)\n",
        "plt.ylabel('Частота')\n",
        "plt.title('Топ-10 широких местоположений по популярности')\n",
        "plt.show()"
      ],
      "metadata": {
        "colab": {
          "base_uri": "https://localhost:8080/",
          "height": 560
        },
        "id": "obkqXFLXHpyX",
        "outputId": "c74bb80a-1837-47a7-da5b-02da05e862dd"
      },
      "execution_count": 29,
      "outputs": [
        {
          "output_type": "display_data",
          "data": {
            "text/plain": [
              "<Figure size 1200x600 with 1 Axes>"
            ],
            "image/png": "[encoded data removed]"
          },
          "metadata": {}
        }
      ]
    },
    {
      "cell_type": "markdown",
      "source": [
        "Закодируйте признак WiderLocation с помощью OHE таким образом, чтобы создались только столбцы для местоположений, которые встречаются более одного раза. Сколько таких значений?\n"
      ],
      "metadata": {
        "id": "cgyWrD2eVfff"
      }
    },
    {
      "cell_type": "code",
      "source": [
        "common_locations = locations[locations > 1].index.tolist() # местоположения, которые встречаются более одного раза\n",
        "common_locations.remove('Unknown')\n",
        "print('Количество местоположений, которые встречаются более одного раза (кроме Unknown):', len(common_locations))"
      ],
      "metadata": {
        "id": "5iQ5cVwRJE2F",
        "colab": {
          "base_uri": "https://localhost:8080/"
        },
        "outputId": "f52dbccc-d98d-46c5-ba08-1a1adc1af0fb"
      },
      "execution_count": 30,
      "outputs": [
        {
          "output_type": "stream",
          "name": "stdout",
          "text": [
            "Количество местоположений, которые встречаются более одного раза (кроме Unknown): 968\n"
          ]
        }
      ]
    },
    {
      "cell_type": "code",
      "source": [
        "# делаем также, как и на train, только теперь на всех данных, так как нам также нужно WiderLocation на test\n",
        "clear_loc = []\n",
        "for loc in df['Location']:\n",
        "# берем последнюю часть от местоположения (самое широкое)\n",
        "  first = loc.split(', ')[-1]\n",
        "  if first.split(' ')[-1] == '':\n",
        "    clear_loc.append(first)\n",
        "  else:\n",
        "    clear_loc.append(first.split(' ')[-1])\n",
        "df['WiderLocation'] = clear_loc"
      ],
      "metadata": {
        "id": "GYc9H399jZU7"
      },
      "execution_count": 31,
      "outputs": []
    },
    {
      "cell_type": "code",
      "source": [
        "filtered_df = df[df['WiderLocation'].isin(common_locations)]"
      ],
      "metadata": {
        "id": "BhHHDoa5MhWu"
      },
      "execution_count": 32,
      "outputs": []
    },
    {
      "cell_type": "code",
      "source": [
        "from sklearn.preprocessing import OneHotEncoder\n",
        "encoder = OneHotEncoder(categories=[common_locations], sparse=False)\n",
        "wider_location_encoded = encoder.fit_transform(filtered_df['WiderLocation'].values.reshape(-1, 1))"
      ],
      "metadata": {
        "id": "pj04taGsJ327"
      },
      "execution_count": 33,
      "outputs": []
    },
    {
      "cell_type": "code",
      "source": [
        "df_ohe = pd.DataFrame(wider_location_encoded, columns = filtered_df['WiderLocation'].unique()) # преобразуем np array в dataframe"
      ],
      "metadata": {
        "id": "nlhUeqzQIt0N"
      },
      "execution_count": 34,
      "outputs": []
    },
    {
      "cell_type": "markdown",
      "source": [
        "Добавьте этот признак к матрице отскалированных текстовых признаков, обучите логистическую регрессию, замерьте качество. Как оно изменилось? Оказался ли признак полезным?\n",
        "\n",
        "\n",
        "*Подсказка:* используйте параметр `categories` в энкодере."
      ],
      "metadata": {
        "id": "ZyMX5kZuimPK"
      }
    },
    {
      "cell_type": "code",
      "source": [
        "for i in df_ohe.columns:\n",
        "  df[i] = (df['WiderLocation'] == i) # проводим операцию OHE вручную, зная нужные столбцы"
      ],
      "metadata": {
        "id": "3FB-bBtvLywq"
      },
      "execution_count": 37,
      "outputs": []
    },
    {
      "cell_type": "code",
      "source": [
        "df.drop(columns = 'WiderLocation', inplace = True)"
      ],
      "metadata": {
        "id": "ypv1zGxZbJKx"
      },
      "execution_count": 38,
      "outputs": []
    },
    {
      "cell_type": "code",
      "source": [
        "ohe_train, ohe_test = train_test_split(df.iloc[:,6:], test_size=0.3, random_state=0) # делим закодированные значения на train и test"
      ],
      "metadata": {
        "id": "JAhgnL5GYvPx"
      },
      "execution_count": 39,
      "outputs": []
    },
    {
      "cell_type": "code",
      "source": [
        "bow_df = pd.DataFrame(bow_3.toarray(), columns=vec_3.get_feature_names_out())\n",
        "all_1 = np.concatenate((bow_df, ohe_train), axis=1) # объединяем отскалированные признаки с закодированными значениями (для train)"
      ],
      "metadata": {
        "id": "bQq743yMQjfl"
      },
      "execution_count": null,
      "outputs": []
    },
    {
      "cell_type": "code",
      "source": [
        "bow_test_df = pd.DataFrame(bow_test_3.toarray(), columns=vec_3.get_feature_names_out())\n",
        "all_2 = np.concatenate((bow_test_df, ohe_test), axis=1) # объединяем отскалированные признаки с закодированными значениями (для test)"
      ],
      "metadata": {
        "id": "NII9gDgQai-c"
      },
      "execution_count": null,
      "outputs": []
    },
    {
      "cell_type": "code",
      "source": [
        "clf_loc = LogisticRegression(max_iter=200, random_state=0)\n",
        "clf_loc.fit(all_1, y_train)\n",
        "pred_train_loc = clf_loc.predict(all_1)\n",
        "pred_test_loc = clf_loc.predict(all_2)\n",
        "print('Доля правильных ответов на обучающей выборке:', round(accuracy_score(y_train, pred_train_loc), 5))\n",
        "print('Доля правильных ответов на тестовой выборке:', round(accuracy_score(y_test, pred_test_loc), 5))"
      ],
      "metadata": {
        "id": "D7P3I7t-QFCe",
        "colab": {
          "base_uri": "https://localhost:8080/"
        },
        "outputId": "02cc0916-cb1c-4c9b-8d42-bb746df6560a"
      },
      "execution_count": null,
      "outputs": [
        {
          "output_type": "stream",
          "name": "stdout",
          "text": [
            "Доля правильных ответов на обучающей выборке: 0.94562\n",
            "Доля правильных ответов на тестовой выборке: 0.84493\n"
          ]
        }
      ]
    },
    {
      "cell_type": "markdown",
      "source": [
        "**Ответ:** Признак оказался полезным, так как доля правильных ответов на тестовой выборке увеличилась. На тренировочной выборке качество стало ниже, так как модель стала менее переобученной."
      ],
      "metadata": {
        "id": "7dHsGlDRYUQt"
      }
    },
    {
      "cell_type": "markdown",
      "source": [
        "## Задание 8 Хорошее качество (Бонус 1 балл)"
      ],
      "metadata": {
        "id": "IWn6h4W9eD3S"
      }
    },
    {
      "cell_type": "markdown",
      "source": [
        "Добейтесь accuracy=0.9 на тестовой выборке (можно сменить токенайзер, векторайзер, модель и т.д.)"
      ],
      "metadata": {
        "id": "-HDI0SU6eLgi"
      }
    },
    {
      "cell_type": "code",
      "source": [
        "vec_itog = CountVectorizer(tokenizer=custom_stem_tokenizer, min_df=4)\n",
        "bow_itog = vec_itog.fit_transform(train['OriginalTweet'])\n",
        "bow_test_itog = vec_itog.transform(test['OriginalTweet'])"
      ],
      "metadata": {
        "id": "k3WMbE8edhlW"
      },
      "execution_count": 76,
      "outputs": []
    },
    {
      "cell_type": "code",
      "source": [
        "from sklearn.ensemble import GradientBoostingClassifier\n",
        "\n",
        "bag = GradientBoostingClassifier(n_estimators=3500, max_depth=2, learning_rate=0.2, random_state=0)\n",
        "bag.fit(bow_itog, y_train)\n",
        "\n",
        "pred_train_itog = bag.predict(bow_itog)\n",
        "pred_test_itog = bag.predict(bow_test_itog)\n",
        "\n",
        "print('Доля правильных ответов на обучающей выборке:', round(accuracy_score(y_train, pred_train_itog), 5))\n",
        "print('Доля правильных ответов на тестовой выборке:', round(accuracy_score(y_test, pred_test_itog), 5))"
      ],
      "metadata": {
        "colab": {
          "base_uri": "https://localhost:8080/"
        },
        "id": "bp4bgphgvNDA",
        "outputId": "a8ec8779-6b48-4da9-8cd2-6b430c72b1ba"
      },
      "execution_count": 70,
      "outputs": [
        {
          "output_type": "stream",
          "name": "stdout",
          "text": [
            "Доля правильных ответов на обучающей выборке: 0.97087\n",
            "Доля правильных ответов на тестовой выборке: 0.88758\n"
          ]
        }
      ]
    }
  ],
  "metadata": {
    "colab": {
      "provenance": []
    },
    "kernelspec": {
      "display_name": "Python 3",
      "name": "python3"
    },
    "language_info": {
      "name": "python"
    }
  },
  "nbformat": 4,
  "nbformat_minor": 0
}