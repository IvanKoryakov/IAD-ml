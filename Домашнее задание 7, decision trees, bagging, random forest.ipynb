{
  "cells": [
    {
      "cell_type": "markdown",
      "metadata": {
        "id": "PO8PpvQFPIU6"
      },
      "source": [
        "# Интеллектуальный анализ данных – весна 2024\n",
        "\n",
        "# Домашнее задание 7: Деревья. Случайный лес\n",
        "\n",
        "Правила:\n",
        "\n",
        "- Домашнее задание оценивается в 10 баллов (+1 бонусный балл).\n",
        "\n",
        "\n",
        "- Можно использовать без доказательства любые результаты, встречавшиеся на лекциях или семинарах по курсу, если получение этих результатов не является вопросом задания.\n",
        "\n",
        "\n",
        "- Можно использовать любые свободные источники с обязательным указанием ссылки на них.\n",
        "\n",
        "\n",
        "- Плагиат не допускается. При обнаружении случаев списывания, 0 за работу выставляется всем участникам нарушения, даже если можно установить, кто у кого списал.\n",
        "\n",
        "<!-- ![](meme.jpg) -->\n",
        "<img src=\"meme.jpg\" alt=\"Drawing\" style=\"width: 700px;\"/>"
      ]
    },
    {
      "cell_type": "markdown",
      "metadata": {
        "id": "mrOldql8PIU9"
      },
      "source": [
        "## Часть 1: Основы построения решающие дерева (1.5 балла)\n",
        "\n",
        "В этой части все расчёты необходимо реализовывать в виде запрограммированных формул, например, на `numpy`. **Нельзя использовать готовые реализации**. Например, если в задании требуется рассчитать энтропию, то требуется в каком-то виде релизовать расчёт по формуле, но нельзя использовать готовую реализацию `some_module.entropy()`."
      ]
    },
    {
      "cell_type": "code",
      "execution_count": 1,
      "metadata": {
        "id": "05QmSmTKPIU-"
      },
      "outputs": [],
      "source": [
        "import numpy as np\n",
        "import pandas as pd\n",
        "import matplotlib.pyplot as plt"
      ]
    },
    {
      "cell_type": "markdown",
      "metadata": {
        "id": "yTTLGpfkPIVA"
      },
      "source": [
        "**Задание 1.1 (0.5 балла)** Пусть известно, что в вершину решающего дерева попали 10 объектов, 8 из которых имеют метку класса $k_1$, а 2 имеют метку класса $k_2$. Рассчитайте энтропию такого распределения классов (с натуральным логарифмом). Ответ округлите до двух знаков после запятой."
      ]
    },
    {
      "cell_type": "code",
      "execution_count": 2,
      "metadata": {
        "colab": {
          "base_uri": "https://localhost:8080/"
        },
        "id": "ivp85tqNPIVA",
        "outputId": "b0931644-d62c-4a6c-f00e-257ef5c8cb1d"
      },
      "outputs": [
        {
          "output_type": "execute_result",
          "data": {
            "text/plain": [
              "0.5"
            ]
          },
          "metadata": {},
          "execution_count": 2
        }
      ],
      "source": [
        "from math import log\n",
        "entropy = round(-8/10*log(8/10) - 2/10*log(2/10), 2)\n",
        "entropy"
      ]
    },
    {
      "cell_type": "markdown",
      "metadata": {
        "id": "PriajlAEPIVA"
      },
      "source": [
        "**Задание 1.2 (0.5 балла)** Пусть дополнительно известно, что вершина из предыдущего задания не является листовой и возможно такое разбиение, что в левое поддерево попадут все объекты класса $k_1$, а в правое - класса $k_2$. Посчитайте критерий информативности:\n",
        "\n",
        "$$\n",
        "Q(R_m, j, t) = H(R_m) - \\frac{|R_\\ell|}{|R_m|}H(R_\\ell) - \\frac{|R_r|}{|R_m|}H(R_r),\n",
        "$$\n",
        "\n",
        "где $R_m$ - множество объектов в разбиваемой вершине, $j$ - номер признака, по которому происходит разбиение, $t$ - порог разбиения, $R_\\ell$ - множество объектов в левом поддереве, $R_r$ - множество объектов в правом поддереве.\n",
        "\n",
        "Теперь в качестве $H(R)$ будем использовать индекс Джини:\n",
        "\n",
        "$$\n",
        "H(R) = \\sum_{k=1}^J p_k(1-p_k),\n",
        "$$\n",
        "где $J$ – общее количество классов (в нашем случае, $J = 2$).\n",
        "\n",
        "Ответ округлите до двух знаков после запятой."
      ]
    },
    {
      "cell_type": "code",
      "execution_count": null,
      "metadata": {
        "colab": {
          "base_uri": "https://localhost:8080/"
        },
        "id": "kY0mecXrPIVB",
        "outputId": "314a88af-dde3-44d6-e44a-120bccadace9"
      },
      "outputs": [
        {
          "output_type": "execute_result",
          "data": {
            "text/plain": [
              "0.32"
            ]
          },
          "metadata": {},
          "execution_count": 132
        }
      ],
      "source": [
        "H_Rm = 8/10*(1 - 8/10) + 2/10*(1 - 2/10)\n",
        "H_Rl =  1*(1 - 1) + 0*(1 - 0)\n",
        "H_Rr =  0*(1 - 0) + 1*(1 - 1)\n",
        "Q = H_Rm - 8/10 * H_Rl - 2/10 * H_Rr\n",
        "Q"
      ]
    },
    {
      "cell_type": "markdown",
      "metadata": {
        "id": "1wFEJg0VPIVB"
      },
      "source": [
        "**Задание 1.3 (0.5 балла)** Пусть при построении дерева образовалась листовая вершина с 10 объектами, значения целевой переменной для которых следующие: [1, 10, 5, 18, 100, 30, 50, 61, 84, 47] (решается задача регрессии). Чему будут равны предсказания модели для этих объектов?"
      ]
    },
    {
      "cell_type": "markdown",
      "metadata": {
        "id": "kzbIuWYuSuYc"
      },
      "source": [
        "![image.png](data:image/png;base64,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)"
      ]
    },
    {
      "cell_type": "code",
      "execution_count": null,
      "metadata": {
        "colab": {
          "base_uri": "https://localhost:8080/"
        },
        "id": "AXSOtkUOPIVB",
        "outputId": "52c07f7b-68df-44a1-fa3a-448c140a172d"
      },
      "outputs": [
        {
          "output_type": "execute_result",
          "data": {
            "text/plain": [
              "40.6"
            ]
          },
          "metadata": {},
          "execution_count": 4
        }
      ],
      "source": [
        "Rv = [1, 10, 5, 18, 100, 30, 50, 61, 84, 47]\n",
        "Cv = np.mean(Rv)\n",
        "Cv"
      ]
    },
    {
      "cell_type": "markdown",
      "metadata": {
        "id": "sMQXivFOPIVC"
      },
      "source": [
        "## Часть 2: Решающие деревья (4.5 балла)\n",
        "\n",
        "В этой части мы напишем и протестируем собственную реализацию решающего дерева."
      ]
    },
    {
      "cell_type": "code",
      "execution_count": 3,
      "metadata": {
        "id": "zfUrP3PXPIVC"
      },
      "outputs": [],
      "source": [
        "from collections import Counter\n",
        "from typing import Dict, List, Tuple, Union"
      ]
    },
    {
      "cell_type": "markdown",
      "metadata": {
        "id": "oKsHFnHsPIVC"
      },
      "source": [
        "**Задание 2.1 (1.5 балла)** Реализуйте функцию `find_best_split()`, которая должна находить оптимальное разбиение подмножества обучающей выборки в соответствии с информационным критерием из **Задания 1.2**. В качестве меры хаотичности $H(R)$ для задачи регрессии испольуйте дисперсию подвыборки, а для задачи классификации – критерий Джини (определён в том же задании).\n",
        "\n",
        "Для категориальных признаков применяется наивный алгоритм разбиения: мы пытаемся найти одно значение, разбиение по которому сильнее всего увеличит критерий информативности. Иными словами, объекты с конкретным значением признака отправляем в левое поддерево, остальные - в правое. Обратите внимание, что это далеко не оптимальные способ учёта категориальных признаков. Например, можно было бы на каждое значение категориального признака создавать отдельное поддерево или использовать более сложные подходы. Подробнее об этом можно прочитать в конспектах [лекций](https://github.com/esokolov/ml-course-hse/blob/master/2019-fall/lecture-notes/lecture07-trees.pdf) по машинному обучению на ПМИ (раздел «Учёт категориальных признаков»).\n",
        "\n",
        "В качестве подсказок реализации можете пользоваться кодом из бонусной части семинара по решающим деревьям.\n",
        "\n",
        "**Бонус:** Разрешается делать цикл для перебора порогов, но возможна имплементация без него. За имплементацию без цикла – **бонус 1 балл**."
      ]
    },
    {
      "cell_type": "markdown",
      "source": [
        "**Имплементация без циклов:**\n",
        "\n",
        "комментарии написаны только для одной части, для остальных частей они аналогичны"
      ],
      "metadata": {
        "id": "rWSIf_1bCkhZ"
      }
    },
    {
      "cell_type": "code",
      "execution_count": 4,
      "metadata": {
        "id": "__CbLF0mPIVD"
      },
      "outputs": [],
      "source": [
        "def find_best_split(\n",
        "    feature_vector: Union[np.ndarray, pd.DataFrame],\n",
        "    target_vector: Union[np.ndarray, pd.Series],\n",
        "    task: str = \"classification\",\n",
        "    feature_type: str = \"real\"\n",
        ") -> Tuple[np.ndarray, np.ndarray, float, float]:\n",
        "    \"\"\"\n",
        "    Указания:\n",
        "    * Пороги, приводящие к попаданию в одно из поддеревьев пустого множества объектов, не рассматриваются.\n",
        "    * В качестве порогов, нужно брать среднее двух сосдених (при сортировке) значений признака\n",
        "    * Поведение функции в случае константного признака может быть любым.\n",
        "    * При одинаковых приростах Джини или дисперсии нужно выбирать минимальный сплит.\n",
        "    * За наличие в функции циклов балл будет снижен. Векторизуйте! :)\n",
        "\n",
        "    :param feature_vector: вещественнозначный вектор значений признака\n",
        "    :param target_vector: вектор классов объектов,  len(feature_vector) == len(target_vector)\n",
        "    :param task: либо `classification`, либо `regression`\n",
        "    :param feature_type: либо `real`, либо `categorical`\n",
        "\n",
        "    :return thresholds: отсортированный по возрастанию вектор со всеми возможными порогами, по которым объекты можно\n",
        "     разделить на две различные подвыборки, или поддерева\n",
        "    :return ginis: вектор со значениями критерия Джини для каждого из порогов в thresholds len(ginis) == len(thresholds)\n",
        "    :return threshold_best: оптимальный порог (число)\n",
        "    :return gini_best: оптимальное значение критерия Джини (число)\n",
        "    \"\"\"\n",
        "\n",
        "    if task == 'regression' and feature_type == 'real':\n",
        "      # сортируем вектор признаков и относительное его вектор таргетов\n",
        "      sorted_indices = feature_vector.argsort()\n",
        "      sorted_feature = feature_vector[sorted_indices]\n",
        "      sorted_target = target_vector[sorted_indices]\n",
        "\n",
        "      # определяем уникальные пороги, и создаем список, в котором останутся пороги, при которых нет попадания в поддерево пустого множества\n",
        "      thresholds = np.unique((sorted_feature[1:] + sorted_feature[:-1])/2)\n",
        "      thresholds_good = thresholds.tolist()\n",
        "\n",
        "      # функция подсчета критерия на основе дисперсии\n",
        "      def variation_real(threshold):\n",
        "\n",
        "        left_mask = sorted_feature < threshold # маска на объекты, которые попадут в левое поддерево\n",
        "        right_mask = sorted_feature >= threshold # маска на объекты, которые попадут в правое поддерево\n",
        "\n",
        "      # удаляем порог, если он приводит к попаданию в поддерево пустого множества\n",
        "        if len(sorted_target[left_mask]) == 0 or len(sorted_target[right_mask]) == 0:\n",
        "          if threshold in thresholds_good:\n",
        "            thresholds_good.remove(threshold)\n",
        "          return None\n",
        "\n",
        "        old_gini =  np.var(sorted_target)\n",
        "        left_gini = np.var(sorted_target[left_mask])\n",
        "        right_gini = np.var(sorted_target[right_mask])\n",
        "\n",
        "        total_gini = old_gini - len(sorted_target[left_mask])/len(sorted_target) * left_gini - len(sorted_target[right_mask])/len(sorted_target) * right_gini\n",
        "\n",
        "        return total_gini\n",
        "\n",
        "      vec_variation_real = np.vectorize(variation_real) # векторизуем функцию\n",
        "\n",
        "      ginis = vec_variation_real(thresholds)\n",
        "\n",
        "      ginis = ginis[ginis != None] # не рассматриваем значения критерия для порогов, которые мы удалили\n",
        "\n",
        "      best_index = np.argmax(ginis) # индекс наибольшего критерия\n",
        "\n",
        "      return thresholds_good, ginis, thresholds_good[best_index], ginis[best_index]\n",
        "\n",
        "    elif task == 'classification' and feature_type == 'real':\n",
        "      sorted_indices = feature_vector.argsort()\n",
        "      sorted_feature = feature_vector[sorted_indices]\n",
        "      sorted_target = target_vector[sorted_indices]\n",
        "\n",
        "      thresholds = np.unique((sorted_feature[1:] + sorted_feature[:-1])/2)\n",
        "      thresholds_good = thresholds.tolist()\n",
        "\n",
        "      # функция подсчета критерия на основе Джини\n",
        "      def classification_real(threshold):\n",
        "\n",
        "        left_mask = sorted_feature < threshold\n",
        "        right_mask = sorted_feature >= threshold\n",
        "\n",
        "        if len(sorted_target[left_mask]) == 0 or len(sorted_target[right_mask]) == 0:\n",
        "          if threshold in thresholds_good:\n",
        "            thresholds_good.remove(threshold)\n",
        "          return None\n",
        "\n",
        "        p0 = sum(sorted_target == 0)/len(sorted_target)\n",
        "        p1 = 1 - p0\n",
        "        old_gini = p0*(1 - p0) + p1*(1 - p1)\n",
        "\n",
        "        p0_left = sum(sorted_target[left_mask] == 0)/len(sorted_target[left_mask])\n",
        "        p1_left = 1 - p0_left\n",
        "        gini_left = p0_left*(1-p0_left) + p1_left*(1-p1_left)\n",
        "\n",
        "        p0_right = sum(sorted_target[right_mask] == 0)/len(sorted_target[right_mask])\n",
        "        p1_right = 1 - p0_right\n",
        "        gini_right = p0_right*(1-p0_right) + p1_right*(1-p1_right)\n",
        "\n",
        "        total_gini = old_gini - len(sorted_target[left_mask])/len(sorted_target)*gini_left - len(sorted_target[right_mask])/len(sorted_target) * gini_right\n",
        "\n",
        "        return total_gini\n",
        "\n",
        "      vec_classification_real = np.vectorize(classification_real)\n",
        "\n",
        "      ginis = vec_classification_real(thresholds)\n",
        "\n",
        "      ginis = ginis[ginis != None]\n",
        "\n",
        "      best_index = np.argmax(ginis)\n",
        "\n",
        "      return thresholds_good, ginis, thresholds_good[best_index], ginis[best_index]\n",
        "\n",
        "    elif task == 'regression' and feature_type == 'categorical':\n",
        "      sorted_indices = feature_vector.argsort()\n",
        "      sorted_feature = feature_vector[sorted_indices]\n",
        "      sorted_target = target_vector[sorted_indices]\n",
        "\n",
        "      thresholds = np.unique(sorted_feature)\n",
        "      thresholds_good = thresholds.tolist()\n",
        "\n",
        "      def variation_categorial(threshold):\n",
        "\n",
        "        left_mask = sorted_feature == threshold\n",
        "        right_mask = sorted_feature != threshold\n",
        "\n",
        "        if len(sorted_target[left_mask]) == 0 or len(sorted_target[right_mask]) == 0:\n",
        "          if threshold in thresholds_good:\n",
        "            thresholds_good.remove(threshold)\n",
        "          return None\n",
        "\n",
        "        old_gini =  np.var(sorted_target)\n",
        "        left_gini = np.var(sorted_target[left_mask])\n",
        "        right_gini = np.var(sorted_target[right_mask])\n",
        "\n",
        "        total_gini = old_gini - len(sorted_target[left_mask])/len(sorted_target) * left_gini - len(sorted_target[right_mask])/len(sorted_target) * right_gini\n",
        "\n",
        "        return total_gini\n",
        "\n",
        "      vec_variation_categorial = np.vectorize(variation_categorial)\n",
        "\n",
        "      ginis = vec_variation_categorial(thresholds)\n",
        "\n",
        "      ginis = ginis[ginis != None]\n",
        "\n",
        "      return thresholds_good, ginis, thresholds_good[best_index], ginis[best_index]\n",
        "\n",
        "    elif task == 'classification' and feature_type == 'categorical':\n",
        "      sorted_indices = feature_vector.argsort()\n",
        "      sorted_feature = feature_vector[sorted_indices]\n",
        "      sorted_target = target_vector[sorted_indices]\n",
        "\n",
        "      thresholds = np.unique(sorted_feature)\n",
        "      thresholds_good = thresholds.tolist()\n",
        "\n",
        "      def gini_categorial(threshold):\n",
        "\n",
        "        left_mask = sorted_feature == threshold\n",
        "        right_mask = sorted_feature != threshold\n",
        "\n",
        "        if len(sorted_target[left_mask]) == 0 or len(sorted_target[right_mask]) == 0:\n",
        "          if threshold in thresholds_good:\n",
        "            thresholds_good.remove(threshold)\n",
        "          return None\n",
        "\n",
        "        p0 = sum(sorted_target == 0)/len(sorted_target)\n",
        "        p1 = 1 - p0\n",
        "        old_gini = p0*(1 - p0) + p1*(1 - p1)\n",
        "\n",
        "        p0_left = sum(sorted_target[left_mask] == 0)/len(sorted_target[left_mask])\n",
        "        p1_left = 1 - p0_left\n",
        "        gini_left = p0_left*(1-p0_left) + p1_left*(1-p1_left)\n",
        "\n",
        "        p0_right = sum(sorted_target[right_mask] == 0)/len(sorted_target[right_mask])\n",
        "        p1_right = 1 - p0_right\n",
        "        gini_right = p0_right*(1-p0_right) + p1_right*(1-p1_right)\n",
        "\n",
        "        total_gini = old_gini - len(sorted_target[left_mask])/len(sorted_target)*gini_left - len(sorted_target[right_mask])/len(sorted_target) * gini_right\n",
        "        return total_gini\n",
        "\n",
        "      vec_gini_categorial = np.vectorize(gini_categorial)\n",
        "\n",
        "      ginis = vec_gini_categorial(thresholds)\n",
        "\n",
        "      ginis = ginis[ginis != None]\n",
        "\n",
        "      if len(ginis) != 0:\n",
        "        best_index = np.argmax(ginis)\n",
        "        return thresholds_good, ginis, thresholds_good[best_index], ginis[best_index]\n",
        "\n",
        "      else:\n",
        "        return thresholds_good, ginis, thresholds[0], 0\n",
        "\n",
        "\n",
        "    pass"
      ]
    },
    {
      "cell_type": "markdown",
      "metadata": {
        "id": "dcZ7FFErPIVD"
      },
      "source": [
        "Эту функцию можно протестировать на датасете `California`."
      ]
    },
    {
      "cell_type": "code",
      "execution_count": 5,
      "metadata": {
        "id": "rpBMBhyyPIVD"
      },
      "outputs": [],
      "source": [
        "from sklearn.datasets import fetch_california_housing"
      ]
    },
    {
      "cell_type": "code",
      "execution_count": 6,
      "metadata": {
        "id": "2ljxnlH6PIVE",
        "colab": {
          "base_uri": "https://localhost:8080/",
          "height": 206
        },
        "outputId": "09dd94c3-1b31-4cdc-9fff-8552973d0380"
      },
      "outputs": [
        {
          "output_type": "execute_result",
          "data": {
            "text/plain": [
              "   MedInc  HouseAge  AveRooms  AveBedrms  Population  AveOccup  Latitude  \\\n",
              "0  8.3252      41.0  6.984127   1.023810       322.0  2.555556     37.88   \n",
              "1  8.3014      21.0  6.238137   0.971880      2401.0  2.109842     37.86   \n",
              "2  7.2574      52.0  8.288136   1.073446       496.0  2.802260     37.85   \n",
              "3  5.6431      52.0  5.817352   1.073059       558.0  2.547945     37.85   \n",
              "4  3.8462      52.0  6.281853   1.081081       565.0  2.181467     37.85   \n",
              "\n",
              "   Longitude  \n",
              "0    -122.23  \n",
              "1    -122.22  \n",
              "2    -122.24  \n",
              "3    -122.25  \n",
              "4    -122.25  "
            ],
            "text/html": [
              "\n",
              "  <div id=\"df-2998adb7-f7bd-4233-9f8e-13119c5cd362\" class=\"colab-df-container\">\n",
              "    <div>\n",
              "<style scoped>\n",
              "    .dataframe tbody tr th:only-of-type {\n",
              "        vertical-align: middle;\n",
              "    }\n",
              "\n",
              "    .dataframe tbody tr th {\n",
              "        vertical-align: top;\n",
              "    }\n",
              "\n",
              "    .dataframe thead th {\n",
              "        text-align: right;\n",
              "    }\n",
              "</style>\n",
              "<table border=\"1\" class=\"dataframe\">\n",
              "  <thead>\n",
              "    <tr style=\"text-align: right;\">\n",
              "      <th></th>\n",
              "      <th>MedInc</th>\n",
              "      <th>HouseAge</th>\n",
              "      <th>AveRooms</th>\n",
              "      <th>AveBedrms</th>\n",
              "      <th>Population</th>\n",
              "      <th>AveOccup</th>\n",
              "      <th>Latitude</th>\n",
              "      <th>Longitude</th>\n",
              "    </tr>\n",
              "  </thead>\n",
              "  <tbody>\n",
              "    <tr>\n",
              "      <th>0</th>\n",
              "      <td>8.3252</td>\n",
              "      <td>41.0</td>\n",
              "      <td>6.984127</td>\n",
              "      <td>1.023810</td>\n",
              "      <td>322.0</td>\n",
              "      <td>2.555556</td>\n",
              "      <td>37.88</td>\n",
              "      <td>-122.23</td>\n",
              "    </tr>\n",
              "    <tr>\n",
              "      <th>1</th>\n",
              "      <td>8.3014</td>\n",
              "      <td>21.0</td>\n",
              "      <td>6.238137</td>\n",
              "      <td>0.971880</td>\n",
              "      <td>2401.0</td>\n",
              "      <td>2.109842</td>\n",
              "      <td>37.86</td>\n",
              "      <td>-122.22</td>\n",
              "    </tr>\n",
              "    <tr>\n",
              "      <th>2</th>\n",
              "      <td>7.2574</td>\n",
              "      <td>52.0</td>\n",
              "      <td>8.288136</td>\n",
              "      <td>1.073446</td>\n",
              "      <td>496.0</td>\n",
              "      <td>2.802260</td>\n",
              "      <td>37.85</td>\n",
              "      <td>-122.24</td>\n",
              "    </tr>\n",
              "    <tr>\n",
              "      <th>3</th>\n",
              "      <td>5.6431</td>\n",
              "      <td>52.0</td>\n",
              "      <td>5.817352</td>\n",
              "      <td>1.073059</td>\n",
              "      <td>558.0</td>\n",
              "      <td>2.547945</td>\n",
              "      <td>37.85</td>\n",
              "      <td>-122.25</td>\n",
              "    </tr>\n",
              "    <tr>\n",
              "      <th>4</th>\n",
              "      <td>3.8462</td>\n",
              "      <td>52.0</td>\n",
              "      <td>6.281853</td>\n",
              "      <td>1.081081</td>\n",
              "      <td>565.0</td>\n",
              "      <td>2.181467</td>\n",
              "      <td>37.85</td>\n",
              "      <td>-122.25</td>\n",
              "    </tr>\n",
              "  </tbody>\n",
              "</table>\n",
              "</div>\n",
              "    <div class=\"colab-df-buttons\">\n",
              "\n",
              "  <div class=\"colab-df-container\">\n",
              "    <button class=\"colab-df-convert\" onclick=\"convertToInteractive('df-2998adb7-f7bd-4233-9f8e-13119c5cd362')\"\n",
              "            title=\"Convert this dataframe to an interactive table.\"\n",
              "            style=\"display:none;\">\n",
              "\n",
              "  <svg xmlns=\"http://www.w3.org/2000/svg\" height=\"24px\" viewBox=\"0 -960 960 960\">\n",
              "    <path d=\"M120-120v-720h720v720H120Zm60-500h600v-160H180v160Zm220 220h160v-160H400v160Zm0 220h160v-160H400v160ZM180-400h160v-160H180v160Zm440 0h160v-160H620v160ZM180-180h160v-160H180v160Zm440 0h160v-160H620v160Z\"/>\n",
              "  </svg>\n",
              "    </button>\n",
              "\n",
              "  <style>\n",
              "    .colab-df-container {\n",
              "      display:flex;\n",
              "      gap: 12px;\n",
              "    }\n",
              "\n",
              "    .colab-df-convert {\n",
              "      background-color: #E8F0FE;\n",
              "      border: none;\n",
              "      border-radius: 50%;\n",
              "      cursor: pointer;\n",
              "      display: none;\n",
              "      fill: #1967D2;\n",
              "      height: 32px;\n",
              "      padding: 0 0 0 0;\n",
              "      width: 32px;\n",
              "    }\n",
              "\n",
              "    .colab-df-convert:hover {\n",
              "      background-color: #E2EBFA;\n",
              "      box-shadow: 0px 1px 2px rgba(60, 64, 67, 0.3), 0px 1px 3px 1px rgba(60, 64, 67, 0.15);\n",
              "      fill: #174EA6;\n",
              "    }\n",
              "\n",
              "    .colab-df-buttons div {\n",
              "      margin-bottom: 4px;\n",
              "    }\n",
              "\n",
              "    [theme=dark] .colab-df-convert {\n",
              "      background-color: #3B4455;\n",
              "      fill: #D2E3FC;\n",
              "    }\n",
              "\n",
              "    [theme=dark] .colab-df-convert:hover {\n",
              "      background-color: #434B5C;\n",
              "      box-shadow: 0px 1px 3px 1px rgba(0, 0, 0, 0.15);\n",
              "      filter: drop-shadow(0px 1px 2px rgba(0, 0, 0, 0.3));\n",
              "      fill: #FFFFFF;\n",
              "    }\n",
              "  </style>\n",
              "\n",
              "    <script>\n",
              "      const buttonEl =\n",
              "        document.querySelector('#df-2998adb7-f7bd-4233-9f8e-13119c5cd362 button.colab-df-convert');\n",
              "      buttonEl.style.display =\n",
              "        google.colab.kernel.accessAllowed ? 'block' : 'none';\n",
              "\n",
              "      async function convertToInteractive(key) {\n",
              "        const element = document.querySelector('#df-2998adb7-f7bd-4233-9f8e-13119c5cd362');\n",
              "        const dataTable =\n",
              "          await google.colab.kernel.invokeFunction('convertToInteractive',\n",
              "                                                    [key], {});\n",
              "        if (!dataTable) return;\n",
              "\n",
              "        const docLinkHtml = 'Like what you see? Visit the ' +\n",
              "          '<a target=\"_blank\" href=https://colab.research.google.com/notebooks/data_table.ipynb>data table notebook</a>'\n",
              "          + ' to learn more about interactive tables.';\n",
              "        element.innerHTML = '';\n",
              "        dataTable['output_type'] = 'display_data';\n",
              "        await google.colab.output.renderOutput(dataTable, element);\n",
              "        const docLink = document.createElement('div');\n",
              "        docLink.innerHTML = docLinkHtml;\n",
              "        element.appendChild(docLink);\n",
              "      }\n",
              "    </script>\n",
              "  </div>\n",
              "\n",
              "\n",
              "<div id=\"df-b006521b-7357-4e11-99a1-4bab84bf267e\">\n",
              "  <button class=\"colab-df-quickchart\" onclick=\"quickchart('df-b006521b-7357-4e11-99a1-4bab84bf267e')\"\n",
              "            title=\"Suggest charts\"\n",
              "            style=\"display:none;\">\n",
              "\n",
              "<svg xmlns=\"http://www.w3.org/2000/svg\" height=\"24px\"viewBox=\"0 0 24 24\"\n",
              "     width=\"24px\">\n",
              "    <g>\n",
              "        <path d=\"M19 3H5c-1.1 0-2 .9-2 2v14c0 1.1.9 2 2 2h14c1.1 0 2-.9 2-2V5c0-1.1-.9-2-2-2zM9 17H7v-7h2v7zm4 0h-2V7h2v10zm4 0h-2v-4h2v4z\"/>\n",
              "    </g>\n",
              "</svg>\n",
              "  </button>\n",
              "\n",
              "<style>\n",
              "  .colab-df-quickchart {\n",
              "      --bg-color: #E8F0FE;\n",
              "      --fill-color: #1967D2;\n",
              "      --hover-bg-color: #E2EBFA;\n",
              "      --hover-fill-color: #174EA6;\n",
              "      --disabled-fill-color: #AAA;\n",
              "      --disabled-bg-color: #DDD;\n",
              "  }\n",
              "\n",
              "  [theme=dark] .colab-df-quickchart {\n",
              "      --bg-color: #3B4455;\n",
              "      --fill-color: #D2E3FC;\n",
              "      --hover-bg-color: #434B5C;\n",
              "      --hover-fill-color: #FFFFFF;\n",
              "      --disabled-bg-color: #3B4455;\n",
              "      --disabled-fill-color: #666;\n",
              "  }\n",
              "\n",
              "  .colab-df-quickchart {\n",
              "    background-color: var(--bg-color);\n",
              "    border: none;\n",
              "    border-radius: 50%;\n",
              "    cursor: pointer;\n",
              "    display: none;\n",
              "    fill: var(--fill-color);\n",
              "    height: 32px;\n",
              "    padding: 0;\n",
              "    width: 32px;\n",
              "  }\n",
              "\n",
              "  .colab-df-quickchart:hover {\n",
              "    background-color: var(--hover-bg-color);\n",
              "    box-shadow: 0 1px 2px rgba(60, 64, 67, 0.3), 0 1px 3px 1px rgba(60, 64, 67, 0.15);\n",
              "    fill: var(--button-hover-fill-color);\n",
              "  }\n",
              "\n",
              "  .colab-df-quickchart-complete:disabled,\n",
              "  .colab-df-quickchart-complete:disabled:hover {\n",
              "    background-color: var(--disabled-bg-color);\n",
              "    fill: var(--disabled-fill-color);\n",
              "    box-shadow: none;\n",
              "  }\n",
              "\n",
              "  .colab-df-spinner {\n",
              "    border: 2px solid var(--fill-color);\n",
              "    border-color: transparent;\n",
              "    border-bottom-color: var(--fill-color);\n",
              "    animation:\n",
              "      spin 1s steps(1) infinite;\n",
              "  }\n",
              "\n",
              "  @keyframes spin {\n",
              "    0% {\n",
              "      border-color: transparent;\n",
              "      border-bottom-color: var(--fill-color);\n",
              "      border-left-color: var(--fill-color);\n",
              "    }\n",
              "    20% {\n",
              "      border-color: transparent;\n",
              "      border-left-color: var(--fill-color);\n",
              "      border-top-color: var(--fill-color);\n",
              "    }\n",
              "    30% {\n",
              "      border-color: transparent;\n",
              "      border-left-color: var(--fill-color);\n",
              "      border-top-color: var(--fill-color);\n",
              "      border-right-color: var(--fill-color);\n",
              "    }\n",
              "    40% {\n",
              "      border-color: transparent;\n",
              "      border-right-color: var(--fill-color);\n",
              "      border-top-color: var(--fill-color);\n",
              "    }\n",
              "    60% {\n",
              "      border-color: transparent;\n",
              "      border-right-color: var(--fill-color);\n",
              "    }\n",
              "    80% {\n",
              "      border-color: transparent;\n",
              "      border-right-color: var(--fill-color);\n",
              "      border-bottom-color: var(--fill-color);\n",
              "    }\n",
              "    90% {\n",
              "      border-color: transparent;\n",
              "      border-bottom-color: var(--fill-color);\n",
              "    }\n",
              "  }\n",
              "</style>\n",
              "\n",
              "  <script>\n",
              "    async function quickchart(key) {\n",
              "      const quickchartButtonEl =\n",
              "        document.querySelector('#' + key + ' button');\n",
              "      quickchartButtonEl.disabled = true;  // To prevent multiple clicks.\n",
              "      quickchartButtonEl.classList.add('colab-df-spinner');\n",
              "      try {\n",
              "        const charts = await google.colab.kernel.invokeFunction(\n",
              "            'suggestCharts', [key], {});\n",
              "      } catch (error) {\n",
              "        console.error('Error during call to suggestCharts:', error);\n",
              "      }\n",
              "      quickchartButtonEl.classList.remove('colab-df-spinner');\n",
              "      quickchartButtonEl.classList.add('colab-df-quickchart-complete');\n",
              "    }\n",
              "    (() => {\n",
              "      let quickchartButtonEl =\n",
              "        document.querySelector('#df-b006521b-7357-4e11-99a1-4bab84bf267e button');\n",
              "      quickchartButtonEl.style.display =\n",
              "        google.colab.kernel.accessAllowed ? 'block' : 'none';\n",
              "    })();\n",
              "  </script>\n",
              "</div>\n",
              "    </div>\n",
              "  </div>\n"
            ],
            "application/vnd.google.colaboratory.intrinsic+json": {
              "type": "dataframe",
              "variable_name": "X",
              "summary": "{\n  \"name\": \"X\",\n  \"rows\": 20640,\n  \"fields\": [\n    {\n      \"column\": \"MedInc\",\n      \"properties\": {\n        \"dtype\": \"number\",\n        \"std\": 1.8998217179452688,\n        \"min\": 0.4999,\n        \"max\": 15.0001,\n        \"num_unique_values\": 12928,\n        \"samples\": [\n          5.0286,\n          2.0433,\n          6.1228\n        ],\n        \"semantic_type\": \"\",\n        \"description\": \"\"\n      }\n    },\n    {\n      \"column\": \"HouseAge\",\n      \"properties\": {\n        \"dtype\": \"number\",\n        \"std\": 12.58555761211165,\n        \"min\": 1.0,\n        \"max\": 52.0,\n        \"num_unique_values\": 52,\n        \"samples\": [\n          35.0,\n          25.0,\n          7.0\n        ],\n        \"semantic_type\": \"\",\n        \"description\": \"\"\n      }\n    },\n    {\n      \"column\": \"AveRooms\",\n      \"properties\": {\n        \"dtype\": \"number\",\n        \"std\": 2.4741731394243187,\n        \"min\": 0.8461538461538461,\n        \"max\": 141.9090909090909,\n        \"num_unique_values\": 19392,\n        \"samples\": [\n          6.111269614835948,\n          5.912820512820513,\n          5.7924528301886795\n        ],\n        \"semantic_type\": \"\",\n        \"description\": \"\"\n      }\n    },\n    {\n      \"column\": \"AveBedrms\",\n      \"properties\": {\n        \"dtype\": \"number\",\n        \"std\": 0.473910856795466,\n        \"min\": 0.3333333333333333,\n        \"max\": 34.06666666666667,\n        \"num_unique_values\": 14233,\n        \"samples\": [\n          0.9906542056074766,\n          1.112099644128114,\n          1.0398230088495575\n        ],\n        \"semantic_type\": \"\",\n        \"description\": \"\"\n      }\n    },\n    {\n      \"column\": \"Population\",\n      \"properties\": {\n        \"dtype\": \"number\",\n        \"std\": 1132.462121765341,\n        \"min\": 3.0,\n        \"max\": 35682.0,\n        \"num_unique_values\": 3888,\n        \"samples\": [\n          4169.0,\n          636.0,\n          3367.0\n        ],\n        \"semantic_type\": \"\",\n        \"description\": \"\"\n      }\n    },\n    {\n      \"column\": \"AveOccup\",\n      \"properties\": {\n        \"dtype\": \"number\",\n        \"std\": 10.386049562213618,\n        \"min\": 0.6923076923076923,\n        \"max\": 1243.3333333333333,\n        \"num_unique_values\": 18841,\n        \"samples\": [\n          2.6939799331103678,\n          3.559375,\n          3.297082228116711\n        ],\n        \"semantic_type\": \"\",\n        \"description\": \"\"\n      }\n    },\n    {\n      \"column\": \"Latitude\",\n      \"properties\": {\n        \"dtype\": \"number\",\n        \"std\": 2.1359523974571153,\n        \"min\": 32.54,\n        \"max\": 41.95,\n        \"num_unique_values\": 862,\n        \"samples\": [\n          33.7,\n          34.41,\n          38.24\n        ],\n        \"semantic_type\": \"\",\n        \"description\": \"\"\n      }\n    },\n    {\n      \"column\": \"Longitude\",\n      \"properties\": {\n        \"dtype\": \"number\",\n        \"std\": 2.0035317235025882,\n        \"min\": -124.35,\n        \"max\": -114.31,\n        \"num_unique_values\": 844,\n        \"samples\": [\n          -118.63,\n          -119.86,\n          -121.26\n        ],\n        \"semantic_type\": \"\",\n        \"description\": \"\"\n      }\n    }\n  ]\n}"
            }
          },
          "metadata": {},
          "execution_count": 6
        }
      ],
      "source": [
        "data = fetch_california_housing()\n",
        "X = pd.DataFrame(data=data[\"data\"], columns=data[\"feature_names\"])\n",
        "y = data[\"target\"]\n",
        "X.head()"
      ]
    },
    {
      "cell_type": "code",
      "execution_count": 7,
      "metadata": {
        "id": "qkFo7evPPIVE",
        "colab": {
          "base_uri": "https://localhost:8080/"
        },
        "outputId": "8211cd4d-df3d-4b28-8767-80e584461b7e"
      },
      "outputs": [
        {
          "output_type": "execute_result",
          "data": {
            "text/plain": [
              "array([4.526, 3.585, 3.521, ..., 0.923, 0.847, 0.894])"
            ]
          },
          "metadata": {},
          "execution_count": 7
        }
      ],
      "source": [
        "y"
      ]
    },
    {
      "cell_type": "markdown",
      "metadata": {
        "id": "J4R9Mb6KPIVE"
      },
      "source": [
        "Выведите график зависимости значения критерия ошибки от порогового значения при разбиении вершины по признаку `MedInc`."
      ]
    },
    {
      "cell_type": "code",
      "execution_count": 8,
      "metadata": {
        "id": "Kxj7BPPwPIVE"
      },
      "outputs": [],
      "source": [
        "thresholds, ginis, threshold_best, gini_best = find_best_split(feature_vector = X['MedInc'].values, target_vector = y, task = 'regression', feature_type = 'real')"
      ]
    },
    {
      "cell_type": "code",
      "source": [
        "plt.figure(figsize=(10, 7))\n",
        "\n",
        "plt.plot(thresholds, ginis)\n",
        "plt.xlabel('Пороговое значение')\n",
        "plt.ylabel('Критерий ошибки')\n",
        "plt.title('Значение критерия ошибки в зависимости от порогового значения')\n",
        "plt.grid()\n",
        "plt.show()"
      ],
      "metadata": {
        "colab": {
          "base_uri": "https://localhost:8080/",
          "height": 641
        },
        "id": "vtp29lO7R8KV",
        "outputId": "35705a54-bf9f-439f-8485-f165db3e1bc9"
      },
      "execution_count": 9,
      "outputs": [
        {
          "output_type": "display_data",
          "data": {
            "text/plain": [
              "<Figure size 1000x700 with 1 Axes>"
            ],
            "image/png": "[encoded data removed]"
          },
          "metadata": {}
        }
      ]
    },
    {
      "cell_type": "markdown",
      "metadata": {
        "id": "J7NFi_MCPIVF"
      },
      "source": [
        "Найдите лучший, с вашей точки зрения, предикат первой вершины решающего дерева."
      ]
    },
    {
      "cell_type": "code",
      "source": [
        "columns = X.columns\n",
        "\n",
        "for column in columns:\n",
        "  thresholds, ginis, threshold_best, gini_best = find_best_split(X[column].values, y, 'regression', 'real')\n",
        "  print(f'{column}: {gini_best}')"
      ],
      "metadata": {
        "colab": {
          "base_uri": "https://localhost:8080/"
        },
        "id": "X82TSwARjs9Q",
        "outputId": "795ccb40-3c43-4cd2-c106-87b35d77b3f4"
      },
      "execution_count": 11,
      "outputs": [
        {
          "output_type": "stream",
          "name": "stdout",
          "text": [
            "MedInc: 0.41275138620167656\n",
            "HouseAge: 0.030900940598321186\n",
            "AveRooms: 0.15920795258922488\n",
            "AveBedrms: 0.01525341559594362\n",
            "Population: 0.0028306480479909357\n",
            "AveOccup: 0.07391870577793286\n",
            "Latitude: 0.09033408765372021\n",
            "Longitude: 0.05021105203303022\n"
          ]
        }
      ]
    },
    {
      "cell_type": "markdown",
      "source": [
        "Наибольшее значение критерия Джини у признака MedInc."
      ],
      "metadata": {
        "id": "Qby8_YIIkVb0"
      }
    },
    {
      "cell_type": "code",
      "source": [
        "thresholds, ginis, threshold_best, gini_best = find_best_split(feature_vector = X['MedInc'].values, target_vector = y, task = 'regression', feature_type = 'real')"
      ],
      "metadata": {
        "id": "3-So2GtWkyHD"
      },
      "execution_count": 14,
      "outputs": []
    },
    {
      "cell_type": "code",
      "execution_count": 16,
      "metadata": {
        "id": "uQ3Ujm-XPIVF",
        "colab": {
          "base_uri": "https://localhost:8080/"
        },
        "outputId": "3179ec49-89c3-420e-b5dc-df9d3db31e06"
      },
      "outputs": [
        {
          "output_type": "stream",
          "name": "stdout",
          "text": [
            "Лучший предикат первой вершины решающего дерева: MedInc >= 5.03515\n"
          ]
        }
      ],
      "source": [
        "print(f'Лучший предикат первой вершины решающего дерева: MedInc >= {threshold_best}')"
      ]
    },
    {
      "cell_type": "markdown",
      "metadata": {
        "id": "T1MsFBcdPIVF"
      },
      "source": [
        "**Задание 2.2 (1 балл)** Разберитесь с написанным кодом решающего дерева, заполните пропуски в коде и реализуйте недостающий метод `_predict_node()`.\n",
        "\n",
        "Построение дерева осуществляется согласно базовому жадному алгоритму, предложенному в лекции в разделе «Построение дерева».\n",
        "- **Выбор лучшего разбиения** необходимо производить по критерию Джини.\n",
        "- **Критерий останова:** все объекты в листе относятся к одному классу или ни по одному признаку нельзя разбить выборку.\n",
        "- **Ответ в листе:** наиболее часто встречающийся класс в листе.\n",
        "\n",
        "В задаче также предлагается получить два бонуса, по баллу на каждый!\n",
        "\n",
        "- **Реализуйте способ обрабатывать пропуски в даннх и реализуйте его, пояснив свои действия.**\n",
        "- **Реализуйте метод оценки важности признаков.**"
      ]
    },
    {
      "cell_type": "code",
      "execution_count": null,
      "metadata": {
        "id": "6egYeiOVPIVF"
      },
      "outputs": [],
      "source": [
        "class DecisionTree:\n",
        "\n",
        "    def __init__(\n",
        "        self,\n",
        "        feature_types: Union[List[str], np.ndarray],\n",
        "        max_depth: int = None,\n",
        "        min_samples_split: int = None,\n",
        "        min_samples_leaf: int = None,\n",
        "        task: str = \"classification\"\n",
        "    ) -> None:\n",
        "\n",
        "        if np.any(list(map(lambda x: x != \"real\" and x != \"categorical\", feature_types))):\n",
        "            raise ValueError(\"There is unknown feature type\")\n",
        "\n",
        "        # В этой переменной будем хранить узлы решающего дерева. Каждая вершина хранит в себе идентификатор того,\n",
        "        # является ли она листовой. Листовые вершины хранят значение класса для предсказания, нелистовые - правого и\n",
        "        # левого детей (поддеревья для продолжения процедуры предсказания)\n",
        "        self._tree = {}\n",
        "\n",
        "        # типы признаков (категориальные или числовые)\n",
        "        self._feature_types = feature_types\n",
        "\n",
        "        # гиперпараметры дерева\n",
        "        self._max_depth = max_depth\n",
        "        self._min_samples_split = min_samples_split\n",
        "        self._min_samples_leaf = min_samples_leaf\n",
        "        self.task = task\n",
        "\n",
        "        # Переменная, если вы решите делать бонус\n",
        "        self._feature_importances = {}\n",
        "\n",
        "\n",
        "    def _fit_node(\n",
        "        self,\n",
        "        sub_X: np.ndarray,\n",
        "        sub_y: np.ndarray,\n",
        "        node: dict\n",
        "    ) -> None:\n",
        "\n",
        "        # критерий останова\n",
        "        if np.all(sub_y == sub_y[0]):\n",
        "            node[\"type\"] = \"terminal\"\n",
        "            node[\"class\"] = sub_y[0]\n",
        "            return\n",
        "\n",
        "        feature_best, threshold_best, gini_best, split = None, None, None, None\n",
        "        for feature in range(sub_X.shape[1]):\n",
        "            feature_type = self._feature_types[feature]\n",
        "            categories_map = {}\n",
        "\n",
        "            # подготавливаем признак для поиска оптимального порога\n",
        "            if feature_type == \"real\":\n",
        "                feature_vector = sub_X[:, feature]\n",
        "            elif feature_type == \"categorical\":\n",
        "                # здесь могла быть реализация более сложного подхода к обработке категориального признака\n",
        "                feature_vector = sub_X[:, feature]\n",
        "\n",
        "            # ищем оптимальный порог\n",
        "            _, _, threshold, gini = find_best_split(feature_vector, sub_y, self.task, feature_type)\n",
        "\n",
        "            if gini_best is None or gini > gini_best:\n",
        "                feature_best = feature\n",
        "                gini_best = gini\n",
        "\n",
        "                # split - маска на объекты, которые должны попасть в левое поддерево\n",
        "                if feature_type == \"real\":\n",
        "                    threshold_best = threshold\n",
        "                    split = feature_vector < threshold_best\n",
        "                elif feature_type == \"categorical\":\n",
        "                    # в данной реализации это просто значение категории\n",
        "                    threshold_best = threshold\n",
        "                    split = feature_vector == threshold_best\n",
        "                else:\n",
        "                    raise ValueError\n",
        "\n",
        "        # записываем полученные сплиты в атрибуты класса\n",
        "        if feature_best is None:\n",
        "            node[\"type\"] = \"terminal\"\n",
        "            node[\"class\"] = Counter(sub_y).most_common(1)[0][0]\n",
        "            return\n",
        "\n",
        "        node[\"type\"] = \"nonterminal\"\n",
        "\n",
        "        node[\"feature_split\"] = feature_best\n",
        "        if self._feature_types[feature_best] == \"real\":\n",
        "            node[\"threshold\"] = threshold_best\n",
        "        elif self._feature_types[feature_best] == \"categorical\":\n",
        "            node[\"category_split\"] = threshold_best\n",
        "        else:\n",
        "            raise ValueError\n",
        "\n",
        "        node[\"left_child\"], node[\"right_child\"] = {}, {}\n",
        "        self._fit_node(sub_X[split], sub_y[split], node[\"left_child\"])\n",
        "        self._fit_node(sub_X[np.logical_not(split)], sub_y[np.logical_not(split)], node[\"right_child\"])\n",
        "\n",
        "    def _predict_node(self, x: np.ndarray, node: dict) -> int:\n",
        "        \"\"\"\n",
        "        Предсказание начинается с корневой вершины дерева и рекурсивно идёт в левое или правое поддерево в зависимости от значения\n",
        "        предиката на объекте. Листовая вершина возвращает предсказание.\n",
        "        :param x: np.array, элемент выборки\n",
        "        :param node: dict, вершина дерева\n",
        "        \"\"\"\n",
        "        # если находимся в листе - выводим класс\n",
        "        if node['type'] == 'terminal':\n",
        "            return node['class']\n",
        "\n",
        "        # выводим индекс и значение признака, по которому оптимально сплитить\n",
        "        feature_index = node['feature_split']\n",
        "        feature_value = x[feature_index]\n",
        "\n",
        "        # создаем условие для объектов, которые попадут влево, в зависимости от типа данных\n",
        "        if self._feature_types[feature_index] == 'real':\n",
        "            left_condition = feature_value < node['threshold']\n",
        "        elif self._feature_types[feature_index] == 'categorical':\n",
        "            left_condition = feature_value == node['category_split']\n",
        "\n",
        "        # снова вызываем функцию для левого или правого поддерева\n",
        "        if left_condition:\n",
        "            return self._predict_node(x, node[\"left_child\"])\n",
        "        else:\n",
        "            return self._predict_node(x, node[\"right_child\"])\n",
        "\n",
        "\n",
        "    def fit(self, X: np.ndarray, y: np.ndarray) -> None:\n",
        "        self._fit_node(X, y, self._tree)\n",
        "\n",
        "    def predict(self, X: np.ndarray) -> np.ndarray:\n",
        "        predicted = []\n",
        "        for x in X:\n",
        "            predicted.append(self._predict_node(x, self._tree))\n",
        "\n",
        "        return np.array(predicted)"
      ]
    },
    {
      "cell_type": "markdown",
      "metadata": {
        "id": "Yhqge7ZiPIVG"
      },
      "source": [
        "**Задание 2.3 (1 балл)** Загрузите таблицу `students.csv` (это немного преобразованный датасет [User Knowledge](https://archive.ics.uci.edu/ml/datasets/User+Knowledge+Modeling)). В ней признаки объекта записаны в первых пяти столбцах, а в последнем записана целевая переменная (класс: 0 или 1). Постройте на одном изображении пять кривых \"порог — значение критерия Джини\" для всех пяти признаков. Отдельно визуализируйте диаграммы рассеяния \"значение признака — класс\" для всех пяти признаков."
      ]
    },
    {
      "cell_type": "code",
      "execution_count": null,
      "metadata": {
        "id": "tfnpx3UKPIVG",
        "colab": {
          "base_uri": "https://localhost:8080/",
          "height": 206
        },
        "outputId": "53464f56-a4ad-4cc4-a54b-44d174962256"
      },
      "outputs": [
        {
          "output_type": "execute_result",
          "data": {
            "text/plain": [
              "   Unnamed: 0   STG   SCG   STR   LPR   PEG\n",
              "0           0  0.00  0.00  0.00  0.00  0.00\n",
              "1           1  0.08  0.08  0.10  0.24  0.90\n",
              "2           2  0.06  0.06  0.05  0.25  0.33\n",
              "3           3  0.10  0.10  0.15  0.65  0.30\n",
              "4           4  0.08  0.08  0.08  0.98  0.24"
            ],
            "text/html": [
              "\n",
              "  <div id=\"df-1cc68fb2-9a5a-4900-97ac-acca5e922bfe\" class=\"colab-df-container\">\n",
              "    <div>\n",
              "<style scoped>\n",
              "    .dataframe tbody tr th:only-of-type {\n",
              "        vertical-align: middle;\n",
              "    }\n",
              "\n",
              "    .dataframe tbody tr th {\n",
              "        vertical-align: top;\n",
              "    }\n",
              "\n",
              "    .dataframe thead th {\n",
              "        text-align: right;\n",
              "    }\n",
              "</style>\n",
              "<table border=\"1\" class=\"dataframe\">\n",
              "  <thead>\n",
              "    <tr style=\"text-align: right;\">\n",
              "      <th></th>\n",
              "      <th>Unnamed: 0</th>\n",
              "      <th>STG</th>\n",
              "      <th>SCG</th>\n",
              "      <th>STR</th>\n",
              "      <th>LPR</th>\n",
              "      <th>PEG</th>\n",
              "    </tr>\n",
              "  </thead>\n",
              "  <tbody>\n",
              "    <tr>\n",
              "      <th>0</th>\n",
              "      <td>0</td>\n",
              "      <td>0.00</td>\n",
              "      <td>0.00</td>\n",
              "      <td>0.00</td>\n",
              "      <td>0.00</td>\n",
              "      <td>0.00</td>\n",
              "    </tr>\n",
              "    <tr>\n",
              "      <th>1</th>\n",
              "      <td>1</td>\n",
              "      <td>0.08</td>\n",
              "      <td>0.08</td>\n",
              "      <td>0.10</td>\n",
              "      <td>0.24</td>\n",
              "      <td>0.90</td>\n",
              "    </tr>\n",
              "    <tr>\n",
              "      <th>2</th>\n",
              "      <td>2</td>\n",
              "      <td>0.06</td>\n",
              "      <td>0.06</td>\n",
              "      <td>0.05</td>\n",
              "      <td>0.25</td>\n",
              "      <td>0.33</td>\n",
              "    </tr>\n",
              "    <tr>\n",
              "      <th>3</th>\n",
              "      <td>3</td>\n",
              "      <td>0.10</td>\n",
              "      <td>0.10</td>\n",
              "      <td>0.15</td>\n",
              "      <td>0.65</td>\n",
              "      <td>0.30</td>\n",
              "    </tr>\n",
              "    <tr>\n",
              "      <th>4</th>\n",
              "      <td>4</td>\n",
              "      <td>0.08</td>\n",
              "      <td>0.08</td>\n",
              "      <td>0.08</td>\n",
              "      <td>0.98</td>\n",
              "      <td>0.24</td>\n",
              "    </tr>\n",
              "  </tbody>\n",
              "</table>\n",
              "</div>\n",
              "    <div class=\"colab-df-buttons\">\n",
              "\n",
              "  <div class=\"colab-df-container\">\n",
              "    <button class=\"colab-df-convert\" onclick=\"convertToInteractive('df-1cc68fb2-9a5a-4900-97ac-acca5e922bfe')\"\n",
              "            title=\"Convert this dataframe to an interactive table.\"\n",
              "            style=\"display:none;\">\n",
              "\n",
              "  <svg xmlns=\"http://www.w3.org/2000/svg\" height=\"24px\" viewBox=\"0 -960 960 960\">\n",
              "    <path d=\"M120-120v-720h720v720H120Zm60-500h600v-160H180v160Zm220 220h160v-160H400v160Zm0 220h160v-160H400v160ZM180-400h160v-160H180v160Zm440 0h160v-160H620v160ZM180-180h160v-160H180v160Zm440 0h160v-160H620v160Z\"/>\n",
              "  </svg>\n",
              "    </button>\n",
              "\n",
              "  <style>\n",
              "    .colab-df-container {\n",
              "      display:flex;\n",
              "      gap: 12px;\n",
              "    }\n",
              "\n",
              "    .colab-df-convert {\n",
              "      background-color: #E8F0FE;\n",
              "      border: none;\n",
              "      border-radius: 50%;\n",
              "      cursor: pointer;\n",
              "      display: none;\n",
              "      fill: #1967D2;\n",
              "      height: 32px;\n",
              "      padding: 0 0 0 0;\n",
              "      width: 32px;\n",
              "    }\n",
              "\n",
              "    .colab-df-convert:hover {\n",
              "      background-color: #E2EBFA;\n",
              "      box-shadow: 0px 1px 2px rgba(60, 64, 67, 0.3), 0px 1px 3px 1px rgba(60, 64, 67, 0.15);\n",
              "      fill: #174EA6;\n",
              "    }\n",
              "\n",
              "    .colab-df-buttons div {\n",
              "      margin-bottom: 4px;\n",
              "    }\n",
              "\n",
              "    [theme=dark] .colab-df-convert {\n",
              "      background-color: #3B4455;\n",
              "      fill: #D2E3FC;\n",
              "    }\n",
              "\n",
              "    [theme=dark] .colab-df-convert:hover {\n",
              "      background-color: #434B5C;\n",
              "      box-shadow: 0px 1px 3px 1px rgba(0, 0, 0, 0.15);\n",
              "      filter: drop-shadow(0px 1px 2px rgba(0, 0, 0, 0.3));\n",
              "      fill: #FFFFFF;\n",
              "    }\n",
              "  </style>\n",
              "\n",
              "    <script>\n",
              "      const buttonEl =\n",
              "        document.querySelector('#df-1cc68fb2-9a5a-4900-97ac-acca5e922bfe button.colab-df-convert');\n",
              "      buttonEl.style.display =\n",
              "        google.colab.kernel.accessAllowed ? 'block' : 'none';\n",
              "\n",
              "      async function convertToInteractive(key) {\n",
              "        const element = document.querySelector('#df-1cc68fb2-9a5a-4900-97ac-acca5e922bfe');\n",
              "        const dataTable =\n",
              "          await google.colab.kernel.invokeFunction('convertToInteractive',\n",
              "                                                    [key], {});\n",
              "        if (!dataTable) return;\n",
              "\n",
              "        const docLinkHtml = 'Like what you see? Visit the ' +\n",
              "          '<a target=\"_blank\" href=https://colab.research.google.com/notebooks/data_table.ipynb>data table notebook</a>'\n",
              "          + ' to learn more about interactive tables.';\n",
              "        element.innerHTML = '';\n",
              "        dataTable['output_type'] = 'display_data';\n",
              "        await google.colab.output.renderOutput(dataTable, element);\n",
              "        const docLink = document.createElement('div');\n",
              "        docLink.innerHTML = docLinkHtml;\n",
              "        element.appendChild(docLink);\n",
              "      }\n",
              "    </script>\n",
              "  </div>\n",
              "\n",
              "\n",
              "<div id=\"df-c2eb058e-23dc-4dca-93bc-90782b7a65c4\">\n",
              "  <button class=\"colab-df-quickchart\" onclick=\"quickchart('df-c2eb058e-23dc-4dca-93bc-90782b7a65c4')\"\n",
              "            title=\"Suggest charts\"\n",
              "            style=\"display:none;\">\n",
              "\n",
              "<svg xmlns=\"http://www.w3.org/2000/svg\" height=\"24px\"viewBox=\"0 0 24 24\"\n",
              "     width=\"24px\">\n",
              "    <g>\n",
              "        <path d=\"M19 3H5c-1.1 0-2 .9-2 2v14c0 1.1.9 2 2 2h14c1.1 0 2-.9 2-2V5c0-1.1-.9-2-2-2zM9 17H7v-7h2v7zm4 0h-2V7h2v10zm4 0h-2v-4h2v4z\"/>\n",
              "    </g>\n",
              "</svg>\n",
              "  </button>\n",
              "\n",
              "<style>\n",
              "  .colab-df-quickchart {\n",
              "      --bg-color: #E8F0FE;\n",
              "      --fill-color: #1967D2;\n",
              "      --hover-bg-color: #E2EBFA;\n",
              "      --hover-fill-color: #174EA6;\n",
              "      --disabled-fill-color: #AAA;\n",
              "      --disabled-bg-color: #DDD;\n",
              "  }\n",
              "\n",
              "  [theme=dark] .colab-df-quickchart {\n",
              "      --bg-color: #3B4455;\n",
              "      --fill-color: #D2E3FC;\n",
              "      --hover-bg-color: #434B5C;\n",
              "      --hover-fill-color: #FFFFFF;\n",
              "      --disabled-bg-color: #3B4455;\n",
              "      --disabled-fill-color: #666;\n",
              "  }\n",
              "\n",
              "  .colab-df-quickchart {\n",
              "    background-color: var(--bg-color);\n",
              "    border: none;\n",
              "    border-radius: 50%;\n",
              "    cursor: pointer;\n",
              "    display: none;\n",
              "    fill: var(--fill-color);\n",
              "    height: 32px;\n",
              "    padding: 0;\n",
              "    width: 32px;\n",
              "  }\n",
              "\n",
              "  .colab-df-quickchart:hover {\n",
              "    background-color: var(--hover-bg-color);\n",
              "    box-shadow: 0 1px 2px rgba(60, 64, 67, 0.3), 0 1px 3px 1px rgba(60, 64, 67, 0.15);\n",
              "    fill: var(--button-hover-fill-color);\n",
              "  }\n",
              "\n",
              "  .colab-df-quickchart-complete:disabled,\n",
              "  .colab-df-quickchart-complete:disabled:hover {\n",
              "    background-color: var(--disabled-bg-color);\n",
              "    fill: var(--disabled-fill-color);\n",
              "    box-shadow: none;\n",
              "  }\n",
              "\n",
              "  .colab-df-spinner {\n",
              "    border: 2px solid var(--fill-color);\n",
              "    border-color: transparent;\n",
              "    border-bottom-color: var(--fill-color);\n",
              "    animation:\n",
              "      spin 1s steps(1) infinite;\n",
              "  }\n",
              "\n",
              "  @keyframes spin {\n",
              "    0% {\n",
              "      border-color: transparent;\n",
              "      border-bottom-color: var(--fill-color);\n",
              "      border-left-color: var(--fill-color);\n",
              "    }\n",
              "    20% {\n",
              "      border-color: transparent;\n",
              "      border-left-color: var(--fill-color);\n",
              "      border-top-color: var(--fill-color);\n",
              "    }\n",
              "    30% {\n",
              "      border-color: transparent;\n",
              "      border-left-color: var(--fill-color);\n",
              "      border-top-color: var(--fill-color);\n",
              "      border-right-color: var(--fill-color);\n",
              "    }\n",
              "    40% {\n",
              "      border-color: transparent;\n",
              "      border-right-color: var(--fill-color);\n",
              "      border-top-color: var(--fill-color);\n",
              "    }\n",
              "    60% {\n",
              "      border-color: transparent;\n",
              "      border-right-color: var(--fill-color);\n",
              "    }\n",
              "    80% {\n",
              "      border-color: transparent;\n",
              "      border-right-color: var(--fill-color);\n",
              "      border-bottom-color: var(--fill-color);\n",
              "    }\n",
              "    90% {\n",
              "      border-color: transparent;\n",
              "      border-bottom-color: var(--fill-color);\n",
              "    }\n",
              "  }\n",
              "</style>\n",
              "\n",
              "  <script>\n",
              "    async function quickchart(key) {\n",
              "      const quickchartButtonEl =\n",
              "        document.querySelector('#' + key + ' button');\n",
              "      quickchartButtonEl.disabled = true;  // To prevent multiple clicks.\n",
              "      quickchartButtonEl.classList.add('colab-df-spinner');\n",
              "      try {\n",
              "        const charts = await google.colab.kernel.invokeFunction(\n",
              "            'suggestCharts', [key], {});\n",
              "      } catch (error) {\n",
              "        console.error('Error during call to suggestCharts:', error);\n",
              "      }\n",
              "      quickchartButtonEl.classList.remove('colab-df-spinner');\n",
              "      quickchartButtonEl.classList.add('colab-df-quickchart-complete');\n",
              "    }\n",
              "    (() => {\n",
              "      let quickchartButtonEl =\n",
              "        document.querySelector('#df-c2eb058e-23dc-4dca-93bc-90782b7a65c4 button');\n",
              "      quickchartButtonEl.style.display =\n",
              "        google.colab.kernel.accessAllowed ? 'block' : 'none';\n",
              "    })();\n",
              "  </script>\n",
              "</div>\n",
              "    </div>\n",
              "  </div>\n"
            ],
            "application/vnd.google.colaboratory.intrinsic+json": {
              "type": "dataframe",
              "variable_name": "X",
              "summary": "{\n  \"name\": \"X\",\n  \"rows\": 258,\n  \"fields\": [\n    {\n      \"column\": \"Unnamed: 0\",\n      \"properties\": {\n        \"dtype\": \"number\",\n        \"std\": 74,\n        \"min\": 0,\n        \"max\": 257,\n        \"num_unique_values\": 258,\n        \"samples\": [\n          66,\n          45,\n          9\n        ],\n        \"semantic_type\": \"\",\n        \"description\": \"\"\n      }\n    },\n    {\n      \"column\": \"STG\",\n      \"properties\": {\n        \"dtype\": \"number\",\n        \"std\": 0.21027120159970078,\n        \"min\": 0.0,\n        \"max\": 0.99,\n        \"num_unique_values\": 104,\n        \"samples\": [\n          0.295,\n          0.475,\n          0.465\n        ],\n        \"semantic_type\": \"\",\n        \"description\": \"\"\n      }\n    },\n    {\n      \"column\": \"SCG\",\n      \"properties\": {\n        \"dtype\": \"number\",\n        \"std\": 0.21196232184048855,\n        \"min\": 0.0,\n        \"max\": 0.9,\n        \"num_unique_values\": 89,\n        \"samples\": [\n          0.77,\n          0.69,\n          0.49\n        ],\n        \"semantic_type\": \"\",\n        \"description\": \"\"\n      }\n    },\n    {\n      \"column\": \"STR\",\n      \"properties\": {\n        \"dtype\": \"number\",\n        \"std\": 0.2459397683066402,\n        \"min\": 0.0,\n        \"max\": 0.95,\n        \"num_unique_values\": 83,\n        \"samples\": [\n          0.61,\n          0.0,\n          0.62\n        ],\n        \"semantic_type\": \"\",\n        \"description\": \"\"\n      }\n    },\n    {\n      \"column\": \"LPR\",\n      \"properties\": {\n        \"dtype\": \"number\",\n        \"std\": 0.24810802196816695,\n        \"min\": 0.0,\n        \"max\": 0.99,\n        \"num_unique_values\": 80,\n        \"samples\": [\n          0.64,\n          0.0,\n          0.18\n        ],\n        \"semantic_type\": \"\",\n        \"description\": \"\"\n      }\n    },\n    {\n      \"column\": \"PEG\",\n      \"properties\": {\n        \"dtype\": \"number\",\n        \"std\": 0.25521089251667145,\n        \"min\": 0.0,\n        \"max\": 0.93,\n        \"num_unique_values\": 80,\n        \"samples\": [\n          0.86,\n          0.0,\n          0.82\n        ],\n        \"semantic_type\": \"\",\n        \"description\": \"\"\n      }\n    }\n  ]\n}"
            }
          },
          "metadata": {},
          "execution_count": 291
        }
      ],
      "source": [
        "df = pd.read_csv('students.csv')\n",
        "y = df['UNS']\n",
        "X = df.drop('UNS', axis = 1)\n",
        "X.head()"
      ]
    },
    {
      "cell_type": "code",
      "source": [
        "columns = X.columns[1:]\n",
        "plt.figure(figsize=(13, 6))\n",
        "\n",
        "for column in columns:\n",
        "  thresholds, ginis, threshold_best, gini_best = find_best_split(X[column].values, y.values, 'classification', 'real')\n",
        "  plt.plot(thresholds, ginis, label = column)\n",
        "\n",
        "plt.title('Значение критерия Джини в зависимости от порога предиката')\n",
        "plt.xlabel('Порог')\n",
        "plt.ylabel('Критерий Джини')\n",
        "plt.grid()\n",
        "plt.legend()\n",
        "plt.show()"
      ],
      "metadata": {
        "colab": {
          "base_uri": "https://localhost:8080/",
          "height": 564
        },
        "id": "QoSQ5MCUOP01",
        "outputId": "6e735177-f51f-4bdd-9669-2c289a8851c3"
      },
      "execution_count": null,
      "outputs": [
        {
          "output_type": "display_data",
          "data": {
            "text/plain": [
              "<Figure size 1300x600 with 1 Axes>"
            ],
            "image/png": "[encoded data removed]"
          },
          "metadata": {}
        }
      ]
    },
    {
      "cell_type": "markdown",
      "metadata": {
        "id": "LqL9e3cNPIVG"
      },
      "source": [
        "Исходя из кривых значений критерия Джини, по какому признаку нужно производить деление выборки на два поддерева? Согласуется ли этот результат с визуальной оценкой диаграмм рассеяиния? Как бы охарактеризовали вид кривой для \"хороших\" признаков, по которым выборка делится почти идеально? Чем отличаются кривые для признаков, по которым деление практически невозможно?"
      ]
    },
    {
      "cell_type": "code",
      "execution_count": null,
      "metadata": {
        "id": "zr7QA2cSPIVG",
        "colab": {
          "base_uri": "https://localhost:8080/",
          "height": 872
        },
        "outputId": "d6000652-6902-4ec9-ca5a-bf42049bb011"
      },
      "outputs": [
        {
          "output_type": "display_data",
          "data": {
            "text/plain": [
              "<Figure size 1600x1000 with 5 Axes>"
            ],
            "image/png": "[encoded data removed]"
          },
          "metadata": {}
        }
      ],
      "source": [
        "n = 1\n",
        "colors = ['blue', 'orange', 'green', 'red', 'purple']\n",
        "plt.figure(figsize=(16, 10))\n",
        "for column in columns:\n",
        "  thresholds, ginis, threshold_best, gini_best = find_best_split(X[column].values, y.values, 'classification', 'real')\n",
        "  plt.subplot(2, 3, n)\n",
        "  plt.scatter(y, X[column], color = colors[n-1])\n",
        "  n += 1\n",
        "  plt.title(f'Диаграмма рассеяния {column} - класс')\n",
        "  plt.xlabel('Класс')\n",
        "  plt.ylabel('Значение признака')"
      ]
    },
    {
      "cell_type": "markdown",
      "source": [
        "**Вывод:** По графику кривых значений критерия Джини (который мы максимизируем), можно заметить, что лучше всего производить деление по признаку PEG, так как его кривая лежит намного выше кривых других признаков, то есть, при делении по PEG максимальное возможное значение критерия Джини (при пороге примерно 0.35) будет в несколько раз превышать максимальные значения критерия Джини для других признаков. Этот результат согласуется с визуальной оценкой диаграмм рассеяния, так как только для диаграммы PEG класс нулей практически не накладывается на класс единиц по оси Y, то есть классы разделимы, что нельзя сказать для диаграмм других признаков, где возникает пересечение классов практически по всей длине оси Y.\n",
        "\n",
        "Из этого можно сделать вывод, что для \"хороших\" признаков вид кривой напоминает колокол, что очень близко к нормальному распределению, а кривые для признаков, по которым деление практически невозможно, выглядят пологими и практически не отличаются между собой."
      ],
      "metadata": {
        "id": "r5BBGccXT8I3"
      }
    },
    {
      "cell_type": "markdown",
      "metadata": {
        "id": "7lNrmTwWPIVH"
      },
      "source": [
        "**Задание 2.4 (1 балл)** Протестируйте свое решающее дерево на датасете [mushrooms](https://archive.ics.uci.edu/ml/datasets/Mushroom).\n",
        "\n",
        "1. Скачайте таблицу `agaricus-lepiota.data` (из [Data Folder](https://archive.ics.uci.edu/ml/machine-learning-databases/mushroom/)),\n",
        "2. Считайте таблицу при помощи `pandas`,\n",
        "3. Примените к каждому столбцу `LabelEncoder` (из `sklearn`), чтобы преобразовать строковые имена категорий в натуральные числа.\n",
        "\n",
        "Первый столбец — это целевая переменная (e — edible, p — poisonous) Мы будем измерять качество с помощью accuracy, так что нам не очень важно, что будет классом 1, а что — классом 0. Обучите решающее дерево на половине случайно выбранных объектов (признаки в датасете категориальные) и сделайте предсказания для оставшейся половины. Вычислите accuracy."
      ]
    },
    {
      "cell_type": "code",
      "source": [
        "df2 = pd.read_csv('agaricus-lepiota.data')\n",
        "df2.head()"
      ],
      "metadata": {
        "colab": {
          "base_uri": "https://localhost:8080/",
          "height": 235
        },
        "id": "XMYztAH0WtUM",
        "outputId": "5cdb959f-85bc-4ea7-aaff-189e805db784"
      },
      "execution_count": null,
      "outputs": [
        {
          "output_type": "execute_result",
          "data": {
            "text/plain": [
              "   p  x  s  n  t p.1  f  c n.1  k  ... s.2  w w.1 p.2 w.2  o p.3 k.1 s.3  u\n",
              "0  e  x  s  y  t   a  f  c   b  k  ...   s  w   w   p   w  o   p   n   n  g\n",
              "1  e  b  s  w  t   l  f  c   b  n  ...   s  w   w   p   w  o   p   n   n  m\n",
              "2  p  x  y  w  t   p  f  c   n  n  ...   s  w   w   p   w  o   p   k   s  u\n",
              "3  e  x  s  g  f   n  f  w   b  k  ...   s  w   w   p   w  o   e   n   a  g\n",
              "4  e  x  y  y  t   a  f  c   b  n  ...   s  w   w   p   w  o   p   k   n  g\n",
              "\n",
              "[5 rows x 23 columns]"
            ],
            "text/html": [
              "\n",
              "  <div id=\"df-0fb33334-a56c-4172-ad35-4df28bcf7672\" class=\"colab-df-container\">\n",
              "    <div>\n",
              "<style scoped>\n",
              "    .dataframe tbody tr th:only-of-type {\n",
              "        vertical-align: middle;\n",
              "    }\n",
              "\n",
              "    .dataframe tbody tr th {\n",
              "        vertical-align: top;\n",
              "    }\n",
              "\n",
              "    .dataframe thead th {\n",
              "        text-align: right;\n",
              "    }\n",
              "</style>\n",
              "<table border=\"1\" class=\"dataframe\">\n",
              "  <thead>\n",
              "    <tr style=\"text-align: right;\">\n",
              "      <th></th>\n",
              "      <th>p</th>\n",
              "      <th>x</th>\n",
              "      <th>s</th>\n",
              "      <th>n</th>\n",
              "      <th>t</th>\n",
              "      <th>p.1</th>\n",
              "      <th>f</th>\n",
              "      <th>c</th>\n",
              "      <th>n.1</th>\n",
              "      <th>k</th>\n",
              "      <th>...</th>\n",
              "      <th>s.2</th>\n",
              "      <th>w</th>\n",
              "      <th>w.1</th>\n",
              "      <th>p.2</th>\n",
              "      <th>w.2</th>\n",
              "      <th>o</th>\n",
              "      <th>p.3</th>\n",
              "      <th>k.1</th>\n",
              "      <th>s.3</th>\n",
              "      <th>u</th>\n",
              "    </tr>\n",
              "  </thead>\n",
              "  <tbody>\n",
              "    <tr>\n",
              "      <th>0</th>\n",
              "      <td>e</td>\n",
              "      <td>x</td>\n",
              "      <td>s</td>\n",
              "      <td>y</td>\n",
              "      <td>t</td>\n",
              "      <td>a</td>\n",
              "      <td>f</td>\n",
              "      <td>c</td>\n",
              "      <td>b</td>\n",
              "      <td>k</td>\n",
              "      <td>...</td>\n",
              "      <td>s</td>\n",
              "      <td>w</td>\n",
              "      <td>w</td>\n",
              "      <td>p</td>\n",
              "      <td>w</td>\n",
              "      <td>o</td>\n",
              "      <td>p</td>\n",
              "      <td>n</td>\n",
              "      <td>n</td>\n",
              "      <td>g</td>\n",
              "    </tr>\n",
              "    <tr>\n",
              "      <th>1</th>\n",
              "      <td>e</td>\n",
              "      <td>b</td>\n",
              "      <td>s</td>\n",
              "      <td>w</td>\n",
              "      <td>t</td>\n",
              "      <td>l</td>\n",
              "      <td>f</td>\n",
              "      <td>c</td>\n",
              "      <td>b</td>\n",
              "      <td>n</td>\n",
              "      <td>...</td>\n",
              "      <td>s</td>\n",
              "      <td>w</td>\n",
              "      <td>w</td>\n",
              "      <td>p</td>\n",
              "      <td>w</td>\n",
              "      <td>o</td>\n",
              "      <td>p</td>\n",
              "      <td>n</td>\n",
              "      <td>n</td>\n",
              "      <td>m</td>\n",
              "    </tr>\n",
              "    <tr>\n",
              "      <th>2</th>\n",
              "      <td>p</td>\n",
              "      <td>x</td>\n",
              "      <td>y</td>\n",
              "      <td>w</td>\n",
              "      <td>t</td>\n",
              "      <td>p</td>\n",
              "      <td>f</td>\n",
              "      <td>c</td>\n",
              "      <td>n</td>\n",
              "      <td>n</td>\n",
              "      <td>...</td>\n",
              "      <td>s</td>\n",
              "      <td>w</td>\n",
              "      <td>w</td>\n",
              "      <td>p</td>\n",
              "      <td>w</td>\n",
              "      <td>o</td>\n",
              "      <td>p</td>\n",
              "      <td>k</td>\n",
              "      <td>s</td>\n",
              "      <td>u</td>\n",
              "    </tr>\n",
              "    <tr>\n",
              "      <th>3</th>\n",
              "      <td>e</td>\n",
              "      <td>x</td>\n",
              "      <td>s</td>\n",
              "      <td>g</td>\n",
              "      <td>f</td>\n",
              "      <td>n</td>\n",
              "      <td>f</td>\n",
              "      <td>w</td>\n",
              "      <td>b</td>\n",
              "      <td>k</td>\n",
              "      <td>...</td>\n",
              "      <td>s</td>\n",
              "      <td>w</td>\n",
              "      <td>w</td>\n",
              "      <td>p</td>\n",
              "      <td>w</td>\n",
              "      <td>o</td>\n",
              "      <td>e</td>\n",
              "      <td>n</td>\n",
              "      <td>a</td>\n",
              "      <td>g</td>\n",
              "    </tr>\n",
              "    <tr>\n",
              "      <th>4</th>\n",
              "      <td>e</td>\n",
              "      <td>x</td>\n",
              "      <td>y</td>\n",
              "      <td>y</td>\n",
              "      <td>t</td>\n",
              "      <td>a</td>\n",
              "      <td>f</td>\n",
              "      <td>c</td>\n",
              "      <td>b</td>\n",
              "      <td>n</td>\n",
              "      <td>...</td>\n",
              "      <td>s</td>\n",
              "      <td>w</td>\n",
              "      <td>w</td>\n",
              "      <td>p</td>\n",
              "      <td>w</td>\n",
              "      <td>o</td>\n",
              "      <td>p</td>\n",
              "      <td>k</td>\n",
              "      <td>n</td>\n",
              "      <td>g</td>\n",
              "    </tr>\n",
              "  </tbody>\n",
              "</table>\n",
              "<p>5 rows × 23 columns</p>\n",
              "</div>\n",
              "    <div class=\"colab-df-buttons\">\n",
              "\n",
              "  <div class=\"colab-df-container\">\n",
              "    <button class=\"colab-df-convert\" onclick=\"convertToInteractive('df-0fb33334-a56c-4172-ad35-4df28bcf7672')\"\n",
              "            title=\"Convert this dataframe to an interactive table.\"\n",
              "            style=\"display:none;\">\n",
              "\n",
              "  <svg xmlns=\"http://www.w3.org/2000/svg\" height=\"24px\" viewBox=\"0 -960 960 960\">\n",
              "    <path d=\"M120-120v-720h720v720H120Zm60-500h600v-160H180v160Zm220 220h160v-160H400v160Zm0 220h160v-160H400v160ZM180-400h160v-160H180v160Zm440 0h160v-160H620v160ZM180-180h160v-160H180v160Zm440 0h160v-160H620v160Z\"/>\n",
              "  </svg>\n",
              "    </button>\n",
              "\n",
              "  <style>\n",
              "    .colab-df-container {\n",
              "      display:flex;\n",
              "      gap: 12px;\n",
              "    }\n",
              "\n",
              "    .colab-df-convert {\n",
              "      background-color: #E8F0FE;\n",
              "      border: none;\n",
              "      border-radius: 50%;\n",
              "      cursor: pointer;\n",
              "      display: none;\n",
              "      fill: #1967D2;\n",
              "      height: 32px;\n",
              "      padding: 0 0 0 0;\n",
              "      width: 32px;\n",
              "    }\n",
              "\n",
              "    .colab-df-convert:hover {\n",
              "      background-color: #E2EBFA;\n",
              "      box-shadow: 0px 1px 2px rgba(60, 64, 67, 0.3), 0px 1px 3px 1px rgba(60, 64, 67, 0.15);\n",
              "      fill: #174EA6;\n",
              "    }\n",
              "\n",
              "    .colab-df-buttons div {\n",
              "      margin-bottom: 4px;\n",
              "    }\n",
              "\n",
              "    [theme=dark] .colab-df-convert {\n",
              "      background-color: #3B4455;\n",
              "      fill: #D2E3FC;\n",
              "    }\n",
              "\n",
              "    [theme=dark] .colab-df-convert:hover {\n",
              "      background-color: #434B5C;\n",
              "      box-shadow: 0px 1px 3px 1px rgba(0, 0, 0, 0.15);\n",
              "      filter: drop-shadow(0px 1px 2px rgba(0, 0, 0, 0.3));\n",
              "      fill: #FFFFFF;\n",
              "    }\n",
              "  </style>\n",
              "\n",
              "    <script>\n",
              "      const buttonEl =\n",
              "        document.querySelector('#df-0fb33334-a56c-4172-ad35-4df28bcf7672 button.colab-df-convert');\n",
              "      buttonEl.style.display =\n",
              "        google.colab.kernel.accessAllowed ? 'block' : 'none';\n",
              "\n",
              "      async function convertToInteractive(key) {\n",
              "        const element = document.querySelector('#df-0fb33334-a56c-4172-ad35-4df28bcf7672');\n",
              "        const dataTable =\n",
              "          await google.colab.kernel.invokeFunction('convertToInteractive',\n",
              "                                                    [key], {});\n",
              "        if (!dataTable) return;\n",
              "\n",
              "        const docLinkHtml = 'Like what you see? Visit the ' +\n",
              "          '<a target=\"_blank\" href=https://colab.research.google.com/notebooks/data_table.ipynb>data table notebook</a>'\n",
              "          + ' to learn more about interactive tables.';\n",
              "        element.innerHTML = '';\n",
              "        dataTable['output_type'] = 'display_data';\n",
              "        await google.colab.output.renderOutput(dataTable, element);\n",
              "        const docLink = document.createElement('div');\n",
              "        docLink.innerHTML = docLinkHtml;\n",
              "        element.appendChild(docLink);\n",
              "      }\n",
              "    </script>\n",
              "  </div>\n",
              "\n",
              "\n",
              "<div id=\"df-08831022-71ef-4231-8324-1463feab5e83\">\n",
              "  <button class=\"colab-df-quickchart\" onclick=\"quickchart('df-08831022-71ef-4231-8324-1463feab5e83')\"\n",
              "            title=\"Suggest charts\"\n",
              "            style=\"display:none;\">\n",
              "\n",
              "<svg xmlns=\"http://www.w3.org/2000/svg\" height=\"24px\"viewBox=\"0 0 24 24\"\n",
              "     width=\"24px\">\n",
              "    <g>\n",
              "        <path d=\"M19 3H5c-1.1 0-2 .9-2 2v14c0 1.1.9 2 2 2h14c1.1 0 2-.9 2-2V5c0-1.1-.9-2-2-2zM9 17H7v-7h2v7zm4 0h-2V7h2v10zm4 0h-2v-4h2v4z\"/>\n",
              "    </g>\n",
              "</svg>\n",
              "  </button>\n",
              "\n",
              "<style>\n",
              "  .colab-df-quickchart {\n",
              "      --bg-color: #E8F0FE;\n",
              "      --fill-color: #1967D2;\n",
              "      --hover-bg-color: #E2EBFA;\n",
              "      --hover-fill-color: #174EA6;\n",
              "      --disabled-fill-color: #AAA;\n",
              "      --disabled-bg-color: #DDD;\n",
              "  }\n",
              "\n",
              "  [theme=dark] .colab-df-quickchart {\n",
              "      --bg-color: #3B4455;\n",
              "      --fill-color: #D2E3FC;\n",
              "      --hover-bg-color: #434B5C;\n",
              "      --hover-fill-color: #FFFFFF;\n",
              "      --disabled-bg-color: #3B4455;\n",
              "      --disabled-fill-color: #666;\n",
              "  }\n",
              "\n",
              "  .colab-df-quickchart {\n",
              "    background-color: var(--bg-color);\n",
              "    border: none;\n",
              "    border-radius: 50%;\n",
              "    cursor: pointer;\n",
              "    display: none;\n",
              "    fill: var(--fill-color);\n",
              "    height: 32px;\n",
              "    padding: 0;\n",
              "    width: 32px;\n",
              "  }\n",
              "\n",
              "  .colab-df-quickchart:hover {\n",
              "    background-color: var(--hover-bg-color);\n",
              "    box-shadow: 0 1px 2px rgba(60, 64, 67, 0.3), 0 1px 3px 1px rgba(60, 64, 67, 0.15);\n",
              "    fill: var(--button-hover-fill-color);\n",
              "  }\n",
              "\n",
              "  .colab-df-quickchart-complete:disabled,\n",
              "  .colab-df-quickchart-complete:disabled:hover {\n",
              "    background-color: var(--disabled-bg-color);\n",
              "    fill: var(--disabled-fill-color);\n",
              "    box-shadow: none;\n",
              "  }\n",
              "\n",
              "  .colab-df-spinner {\n",
              "    border: 2px solid var(--fill-color);\n",
              "    border-color: transparent;\n",
              "    border-bottom-color: var(--fill-color);\n",
              "    animation:\n",
              "      spin 1s steps(1) infinite;\n",
              "  }\n",
              "\n",
              "  @keyframes spin {\n",
              "    0% {\n",
              "      border-color: transparent;\n",
              "      border-bottom-color: var(--fill-color);\n",
              "      border-left-color: var(--fill-color);\n",
              "    }\n",
              "    20% {\n",
              "      border-color: transparent;\n",
              "      border-left-color: var(--fill-color);\n",
              "      border-top-color: var(--fill-color);\n",
              "    }\n",
              "    30% {\n",
              "      border-color: transparent;\n",
              "      border-left-color: var(--fill-color);\n",
              "      border-top-color: var(--fill-color);\n",
              "      border-right-color: var(--fill-color);\n",
              "    }\n",
              "    40% {\n",
              "      border-color: transparent;\n",
              "      border-right-color: var(--fill-color);\n",
              "      border-top-color: var(--fill-color);\n",
              "    }\n",
              "    60% {\n",
              "      border-color: transparent;\n",
              "      border-right-color: var(--fill-color);\n",
              "    }\n",
              "    80% {\n",
              "      border-color: transparent;\n",
              "      border-right-color: var(--fill-color);\n",
              "      border-bottom-color: var(--fill-color);\n",
              "    }\n",
              "    90% {\n",
              "      border-color: transparent;\n",
              "      border-bottom-color: var(--fill-color);\n",
              "    }\n",
              "  }\n",
              "</style>\n",
              "\n",
              "  <script>\n",
              "    async function quickchart(key) {\n",
              "      const quickchartButtonEl =\n",
              "        document.querySelector('#' + key + ' button');\n",
              "      quickchartButtonEl.disabled = true;  // To prevent multiple clicks.\n",
              "      quickchartButtonEl.classList.add('colab-df-spinner');\n",
              "      try {\n",
              "        const charts = await google.colab.kernel.invokeFunction(\n",
              "            'suggestCharts', [key], {});\n",
              "      } catch (error) {\n",
              "        console.error('Error during call to suggestCharts:', error);\n",
              "      }\n",
              "      quickchartButtonEl.classList.remove('colab-df-spinner');\n",
              "      quickchartButtonEl.classList.add('colab-df-quickchart-complete');\n",
              "    }\n",
              "    (() => {\n",
              "      let quickchartButtonEl =\n",
              "        document.querySelector('#df-08831022-71ef-4231-8324-1463feab5e83 button');\n",
              "      quickchartButtonEl.style.display =\n",
              "        google.colab.kernel.accessAllowed ? 'block' : 'none';\n",
              "    })();\n",
              "  </script>\n",
              "</div>\n",
              "    </div>\n",
              "  </div>\n"
            ],
            "application/vnd.google.colaboratory.intrinsic+json": {
              "type": "dataframe",
              "variable_name": "df2"
            }
          },
          "metadata": {},
          "execution_count": 294
        }
      ]
    },
    {
      "cell_type": "code",
      "source": [
        "from sklearn.preprocessing import LabelEncoder\n",
        "# к каждому столбцу применяем LabelEncoder\n",
        "for column in df2.columns:\n",
        "    encoder = LabelEncoder()\n",
        "    df2[column] = encoder.fit_transform(df2[column])"
      ],
      "metadata": {
        "id": "Bx353zmIXRwU"
      },
      "execution_count": null,
      "outputs": []
    },
    {
      "cell_type": "code",
      "source": [
        "from sklearn.model_selection import train_test_split\n",
        "\n",
        "y = df2['p']\n",
        "X = df2.drop('p', axis = 1)\n",
        "X_train, X_test, y_train, y_test = train_test_split(X, y, test_size = 0.5, random_state = 100)"
      ],
      "metadata": {
        "id": "vqnHHK7cYf93"
      },
      "execution_count": null,
      "outputs": []
    },
    {
      "cell_type": "code",
      "source": [
        "from sklearn.metrics import accuracy_score\n",
        "\n",
        "Tree = DecisionTree(feature_types = ['categorical' for x in X_train])\n",
        "Tree.fit(X_train.values, y_train.values)\n",
        "\n",
        "y_pred_train = Tree.predict(X_train.values)\n",
        "y_pred_test = Tree.predict(X_test.values)\n",
        "\n",
        "print(\"Accuracy on train:\", accuracy_score(y_train, y_pred_train))\n",
        "print(\"Accuracy on test:\", accuracy_score(y_test, y_pred_test))"
      ],
      "metadata": {
        "colab": {
          "base_uri": "https://localhost:8080/"
        },
        "id": "joNsVryFZwlh",
        "outputId": "7da3e4a8-d311-4e58-e0ce-4d7997a5115c"
      },
      "execution_count": null,
      "outputs": [
        {
          "output_type": "stream",
          "name": "stdout",
          "text": [
            "Accuracy on train: 1.0\n",
            "Accuracy on test: 1.0\n"
          ]
        }
      ]
    },
    {
      "cell_type": "markdown",
      "metadata": {
        "id": "wkLkBl7lPIVH"
      },
      "source": [
        "## Часть 3: Бэггинг и случайный лес (4 балла)"
      ]
    },
    {
      "cell_type": "markdown",
      "metadata": {
        "id": "Z8dI3AfnPIVH"
      },
      "source": [
        "В данной части мы будем работать [с задачей предсказания диабета у пациента](https://www.kaggle.com/uciml/pima-indians-diabetes-database/data). Посмотрим на работу бэггинга над решающими деревьями и случайного леса, сравним их работу."
      ]
    },
    {
      "cell_type": "code",
      "execution_count": null,
      "metadata": {
        "id": "nK0oHPpePIVH"
      },
      "outputs": [],
      "source": [
        "from sklearn.ensemble import BaggingClassifier, RandomForestClassifier\n",
        "from sklearn.metrics import accuracy_score, precision_score, recall_score, roc_auc_score\n",
        "from sklearn.tree import DecisionTreeClassifier"
      ]
    },
    {
      "cell_type": "code",
      "execution_count": null,
      "metadata": {
        "colab": {
          "base_uri": "https://localhost:8080/",
          "height": 223
        },
        "id": "gnuZHpUcPIVI",
        "outputId": "21c1e2eb-fd40-4db7-a6c5-b82c599c015d",
        "scrolled": true
      },
      "outputs": [
        {
          "output_type": "stream",
          "name": "stdout",
          "text": [
            "Dataset shape: (768, 9)\n"
          ]
        },
        {
          "output_type": "execute_result",
          "data": {
            "text/plain": [
              "   Pregnancies  Glucose  BloodPressure  SkinThickness  Insulin   BMI  \\\n",
              "0            6      148             72             35        0  33.6   \n",
              "1            1       85             66             29        0  26.6   \n",
              "2            8      183             64              0        0  23.3   \n",
              "3            1       89             66             23       94  28.1   \n",
              "4            0      137             40             35      168  43.1   \n",
              "\n",
              "   DiabetesPedigreeFunction  Age  Outcome  \n",
              "0                     0.627   50        1  \n",
              "1                     0.351   31        0  \n",
              "2                     0.672   32        1  \n",
              "3                     0.167   21        0  \n",
              "4                     2.288   33        1  "
            ],
            "text/html": [
              "\n",
              "  <div id=\"df-a94c9087-0f4d-4b34-b94e-946bde91f892\" class=\"colab-df-container\">\n",
              "    <div>\n",
              "<style scoped>\n",
              "    .dataframe tbody tr th:only-of-type {\n",
              "        vertical-align: middle;\n",
              "    }\n",
              "\n",
              "    .dataframe tbody tr th {\n",
              "        vertical-align: top;\n",
              "    }\n",
              "\n",
              "    .dataframe thead th {\n",
              "        text-align: right;\n",
              "    }\n",
              "</style>\n",
              "<table border=\"1\" class=\"dataframe\">\n",
              "  <thead>\n",
              "    <tr style=\"text-align: right;\">\n",
              "      <th></th>\n",
              "      <th>Pregnancies</th>\n",
              "      <th>Glucose</th>\n",
              "      <th>BloodPressure</th>\n",
              "      <th>SkinThickness</th>\n",
              "      <th>Insulin</th>\n",
              "      <th>BMI</th>\n",
              "      <th>DiabetesPedigreeFunction</th>\n",
              "      <th>Age</th>\n",
              "      <th>Outcome</th>\n",
              "    </tr>\n",
              "  </thead>\n",
              "  <tbody>\n",
              "    <tr>\n",
              "      <th>0</th>\n",
              "      <td>6</td>\n",
              "      <td>148</td>\n",
              "      <td>72</td>\n",
              "      <td>35</td>\n",
              "      <td>0</td>\n",
              "      <td>33.6</td>\n",
              "      <td>0.627</td>\n",
              "      <td>50</td>\n",
              "      <td>1</td>\n",
              "    </tr>\n",
              "    <tr>\n",
              "      <th>1</th>\n",
              "      <td>1</td>\n",
              "      <td>85</td>\n",
              "      <td>66</td>\n",
              "      <td>29</td>\n",
              "      <td>0</td>\n",
              "      <td>26.6</td>\n",
              "      <td>0.351</td>\n",
              "      <td>31</td>\n",
              "      <td>0</td>\n",
              "    </tr>\n",
              "    <tr>\n",
              "      <th>2</th>\n",
              "      <td>8</td>\n",
              "      <td>183</td>\n",
              "      <td>64</td>\n",
              "      <td>0</td>\n",
              "      <td>0</td>\n",
              "      <td>23.3</td>\n",
              "      <td>0.672</td>\n",
              "      <td>32</td>\n",
              "      <td>1</td>\n",
              "    </tr>\n",
              "    <tr>\n",
              "      <th>3</th>\n",
              "      <td>1</td>\n",
              "      <td>89</td>\n",
              "      <td>66</td>\n",
              "      <td>23</td>\n",
              "      <td>94</td>\n",
              "      <td>28.1</td>\n",
              "      <td>0.167</td>\n",
              "      <td>21</td>\n",
              "      <td>0</td>\n",
              "    </tr>\n",
              "    <tr>\n",
              "      <th>4</th>\n",
              "      <td>0</td>\n",
              "      <td>137</td>\n",
              "      <td>40</td>\n",
              "      <td>35</td>\n",
              "      <td>168</td>\n",
              "      <td>43.1</td>\n",
              "      <td>2.288</td>\n",
              "      <td>33</td>\n",
              "      <td>1</td>\n",
              "    </tr>\n",
              "  </tbody>\n",
              "</table>\n",
              "</div>\n",
              "    <div class=\"colab-df-buttons\">\n",
              "\n",
              "  <div class=\"colab-df-container\">\n",
              "    <button class=\"colab-df-convert\" onclick=\"convertToInteractive('df-a94c9087-0f4d-4b34-b94e-946bde91f892')\"\n",
              "            title=\"Convert this dataframe to an interactive table.\"\n",
              "            style=\"display:none;\">\n",
              "\n",
              "  <svg xmlns=\"http://www.w3.org/2000/svg\" height=\"24px\" viewBox=\"0 -960 960 960\">\n",
              "    <path d=\"M120-120v-720h720v720H120Zm60-500h600v-160H180v160Zm220 220h160v-160H400v160Zm0 220h160v-160H400v160ZM180-400h160v-160H180v160Zm440 0h160v-160H620v160ZM180-180h160v-160H180v160Zm440 0h160v-160H620v160Z\"/>\n",
              "  </svg>\n",
              "    </button>\n",
              "\n",
              "  <style>\n",
              "    .colab-df-container {\n",
              "      display:flex;\n",
              "      gap: 12px;\n",
              "    }\n",
              "\n",
              "    .colab-df-convert {\n",
              "      background-color: #E8F0FE;\n",
              "      border: none;\n",
              "      border-radius: 50%;\n",
              "      cursor: pointer;\n",
              "      display: none;\n",
              "      fill: #1967D2;\n",
              "      height: 32px;\n",
              "      padding: 0 0 0 0;\n",
              "      width: 32px;\n",
              "    }\n",
              "\n",
              "    .colab-df-convert:hover {\n",
              "      background-color: #E2EBFA;\n",
              "      box-shadow: 0px 1px 2px rgba(60, 64, 67, 0.3), 0px 1px 3px 1px rgba(60, 64, 67, 0.15);\n",
              "      fill: #174EA6;\n",
              "    }\n",
              "\n",
              "    .colab-df-buttons div {\n",
              "      margin-bottom: 4px;\n",
              "    }\n",
              "\n",
              "    [theme=dark] .colab-df-convert {\n",
              "      background-color: #3B4455;\n",
              "      fill: #D2E3FC;\n",
              "    }\n",
              "\n",
              "    [theme=dark] .colab-df-convert:hover {\n",
              "      background-color: #434B5C;\n",
              "      box-shadow: 0px 1px 3px 1px rgba(0, 0, 0, 0.15);\n",
              "      filter: drop-shadow(0px 1px 2px rgba(0, 0, 0, 0.3));\n",
              "      fill: #FFFFFF;\n",
              "    }\n",
              "  </style>\n",
              "\n",
              "    <script>\n",
              "      const buttonEl =\n",
              "        document.querySelector('#df-a94c9087-0f4d-4b34-b94e-946bde91f892 button.colab-df-convert');\n",
              "      buttonEl.style.display =\n",
              "        google.colab.kernel.accessAllowed ? 'block' : 'none';\n",
              "\n",
              "      async function convertToInteractive(key) {\n",
              "        const element = document.querySelector('#df-a94c9087-0f4d-4b34-b94e-946bde91f892');\n",
              "        const dataTable =\n",
              "          await google.colab.kernel.invokeFunction('convertToInteractive',\n",
              "                                                    [key], {});\n",
              "        if (!dataTable) return;\n",
              "\n",
              "        const docLinkHtml = 'Like what you see? Visit the ' +\n",
              "          '<a target=\"_blank\" href=https://colab.research.google.com/notebooks/data_table.ipynb>data table notebook</a>'\n",
              "          + ' to learn more about interactive tables.';\n",
              "        element.innerHTML = '';\n",
              "        dataTable['output_type'] = 'display_data';\n",
              "        await google.colab.output.renderOutput(dataTable, element);\n",
              "        const docLink = document.createElement('div');\n",
              "        docLink.innerHTML = docLinkHtml;\n",
              "        element.appendChild(docLink);\n",
              "      }\n",
              "    </script>\n",
              "  </div>\n",
              "\n",
              "\n",
              "<div id=\"df-1d85f2fe-ea6f-4b19-ab91-6fcf4a6733f6\">\n",
              "  <button class=\"colab-df-quickchart\" onclick=\"quickchart('df-1d85f2fe-ea6f-4b19-ab91-6fcf4a6733f6')\"\n",
              "            title=\"Suggest charts\"\n",
              "            style=\"display:none;\">\n",
              "\n",
              "<svg xmlns=\"http://www.w3.org/2000/svg\" height=\"24px\"viewBox=\"0 0 24 24\"\n",
              "     width=\"24px\">\n",
              "    <g>\n",
              "        <path d=\"M19 3H5c-1.1 0-2 .9-2 2v14c0 1.1.9 2 2 2h14c1.1 0 2-.9 2-2V5c0-1.1-.9-2-2-2zM9 17H7v-7h2v7zm4 0h-2V7h2v10zm4 0h-2v-4h2v4z\"/>\n",
              "    </g>\n",
              "</svg>\n",
              "  </button>\n",
              "\n",
              "<style>\n",
              "  .colab-df-quickchart {\n",
              "      --bg-color: #E8F0FE;\n",
              "      --fill-color: #1967D2;\n",
              "      --hover-bg-color: #E2EBFA;\n",
              "      --hover-fill-color: #174EA6;\n",
              "      --disabled-fill-color: #AAA;\n",
              "      --disabled-bg-color: #DDD;\n",
              "  }\n",
              "\n",
              "  [theme=dark] .colab-df-quickchart {\n",
              "      --bg-color: #3B4455;\n",
              "      --fill-color: #D2E3FC;\n",
              "      --hover-bg-color: #434B5C;\n",
              "      --hover-fill-color: #FFFFFF;\n",
              "      --disabled-bg-color: #3B4455;\n",
              "      --disabled-fill-color: #666;\n",
              "  }\n",
              "\n",
              "  .colab-df-quickchart {\n",
              "    background-color: var(--bg-color);\n",
              "    border: none;\n",
              "    border-radius: 50%;\n",
              "    cursor: pointer;\n",
              "    display: none;\n",
              "    fill: var(--fill-color);\n",
              "    height: 32px;\n",
              "    padding: 0;\n",
              "    width: 32px;\n",
              "  }\n",
              "\n",
              "  .colab-df-quickchart:hover {\n",
              "    background-color: var(--hover-bg-color);\n",
              "    box-shadow: 0 1px 2px rgba(60, 64, 67, 0.3), 0 1px 3px 1px rgba(60, 64, 67, 0.15);\n",
              "    fill: var(--button-hover-fill-color);\n",
              "  }\n",
              "\n",
              "  .colab-df-quickchart-complete:disabled,\n",
              "  .colab-df-quickchart-complete:disabled:hover {\n",
              "    background-color: var(--disabled-bg-color);\n",
              "    fill: var(--disabled-fill-color);\n",
              "    box-shadow: none;\n",
              "  }\n",
              "\n",
              "  .colab-df-spinner {\n",
              "    border: 2px solid var(--fill-color);\n",
              "    border-color: transparent;\n",
              "    border-bottom-color: var(--fill-color);\n",
              "    animation:\n",
              "      spin 1s steps(1) infinite;\n",
              "  }\n",
              "\n",
              "  @keyframes spin {\n",
              "    0% {\n",
              "      border-color: transparent;\n",
              "      border-bottom-color: var(--fill-color);\n",
              "      border-left-color: var(--fill-color);\n",
              "    }\n",
              "    20% {\n",
              "      border-color: transparent;\n",
              "      border-left-color: var(--fill-color);\n",
              "      border-top-color: var(--fill-color);\n",
              "    }\n",
              "    30% {\n",
              "      border-color: transparent;\n",
              "      border-left-color: var(--fill-color);\n",
              "      border-top-color: var(--fill-color);\n",
              "      border-right-color: var(--fill-color);\n",
              "    }\n",
              "    40% {\n",
              "      border-color: transparent;\n",
              "      border-right-color: var(--fill-color);\n",
              "      border-top-color: var(--fill-color);\n",
              "    }\n",
              "    60% {\n",
              "      border-color: transparent;\n",
              "      border-right-color: var(--fill-color);\n",
              "    }\n",
              "    80% {\n",
              "      border-color: transparent;\n",
              "      border-right-color: var(--fill-color);\n",
              "      border-bottom-color: var(--fill-color);\n",
              "    }\n",
              "    90% {\n",
              "      border-color: transparent;\n",
              "      border-bottom-color: var(--fill-color);\n",
              "    }\n",
              "  }\n",
              "</style>\n",
              "\n",
              "  <script>\n",
              "    async function quickchart(key) {\n",
              "      const quickchartButtonEl =\n",
              "        document.querySelector('#' + key + ' button');\n",
              "      quickchartButtonEl.disabled = true;  // To prevent multiple clicks.\n",
              "      quickchartButtonEl.classList.add('colab-df-spinner');\n",
              "      try {\n",
              "        const charts = await google.colab.kernel.invokeFunction(\n",
              "            'suggestCharts', [key], {});\n",
              "      } catch (error) {\n",
              "        console.error('Error during call to suggestCharts:', error);\n",
              "      }\n",
              "      quickchartButtonEl.classList.remove('colab-df-spinner');\n",
              "      quickchartButtonEl.classList.add('colab-df-quickchart-complete');\n",
              "    }\n",
              "    (() => {\n",
              "      let quickchartButtonEl =\n",
              "        document.querySelector('#df-1d85f2fe-ea6f-4b19-ab91-6fcf4a6733f6 button');\n",
              "      quickchartButtonEl.style.display =\n",
              "        google.colab.kernel.accessAllowed ? 'block' : 'none';\n",
              "    })();\n",
              "  </script>\n",
              "</div>\n",
              "    </div>\n",
              "  </div>\n"
            ],
            "application/vnd.google.colaboratory.intrinsic+json": {
              "type": "dataframe",
              "variable_name": "data",
              "summary": "{\n  \"name\": \"data\",\n  \"rows\": 768,\n  \"fields\": [\n    {\n      \"column\": \"Pregnancies\",\n      \"properties\": {\n        \"dtype\": \"number\",\n        \"std\": 3,\n        \"min\": 0,\n        \"max\": 17,\n        \"num_unique_values\": 17,\n        \"samples\": [\n          6,\n          1,\n          3\n        ],\n        \"semantic_type\": \"\",\n        \"description\": \"\"\n      }\n    },\n    {\n      \"column\": \"Glucose\",\n      \"properties\": {\n        \"dtype\": \"number\",\n        \"std\": 31,\n        \"min\": 0,\n        \"max\": 199,\n        \"num_unique_values\": 136,\n        \"samples\": [\n          151,\n          101,\n          112\n        ],\n        \"semantic_type\": \"\",\n        \"description\": \"\"\n      }\n    },\n    {\n      \"column\": \"BloodPressure\",\n      \"properties\": {\n        \"dtype\": \"number\",\n        \"std\": 19,\n        \"min\": 0,\n        \"max\": 122,\n        \"num_unique_values\": 47,\n        \"samples\": [\n          86,\n          46,\n          85\n        ],\n        \"semantic_type\": \"\",\n        \"description\": \"\"\n      }\n    },\n    {\n      \"column\": \"SkinThickness\",\n      \"properties\": {\n        \"dtype\": \"number\",\n        \"std\": 15,\n        \"min\": 0,\n        \"max\": 99,\n        \"num_unique_values\": 51,\n        \"samples\": [\n          7,\n          12,\n          48\n        ],\n        \"semantic_type\": \"\",\n        \"description\": \"\"\n      }\n    },\n    {\n      \"column\": \"Insulin\",\n      \"properties\": {\n        \"dtype\": \"number\",\n        \"std\": 115,\n        \"min\": 0,\n        \"max\": 846,\n        \"num_unique_values\": 186,\n        \"samples\": [\n          52,\n          41,\n          183\n        ],\n        \"semantic_type\": \"\",\n        \"description\": \"\"\n      }\n    },\n    {\n      \"column\": \"BMI\",\n      \"properties\": {\n        \"dtype\": \"number\",\n        \"std\": 7.884160320375446,\n        \"min\": 0.0,\n        \"max\": 67.1,\n        \"num_unique_values\": 248,\n        \"samples\": [\n          19.9,\n          31.0,\n          38.1\n        ],\n        \"semantic_type\": \"\",\n        \"description\": \"\"\n      }\n    },\n    {\n      \"column\": \"DiabetesPedigreeFunction\",\n      \"properties\": {\n        \"dtype\": \"number\",\n        \"std\": 0.3313285950127749,\n        \"min\": 0.078,\n        \"max\": 2.42,\n        \"num_unique_values\": 517,\n        \"samples\": [\n          1.731,\n          0.426,\n          0.138\n        ],\n        \"semantic_type\": \"\",\n        \"description\": \"\"\n      }\n    },\n    {\n      \"column\": \"Age\",\n      \"properties\": {\n        \"dtype\": \"number\",\n        \"std\": 11,\n        \"min\": 21,\n        \"max\": 81,\n        \"num_unique_values\": 52,\n        \"samples\": [\n          60,\n          47,\n          72\n        ],\n        \"semantic_type\": \"\",\n        \"description\": \"\"\n      }\n    },\n    {\n      \"column\": \"Outcome\",\n      \"properties\": {\n        \"dtype\": \"number\",\n        \"std\": 0,\n        \"min\": 0,\n        \"max\": 1,\n        \"num_unique_values\": 2,\n        \"samples\": [\n          0,\n          1\n        ],\n        \"semantic_type\": \"\",\n        \"description\": \"\"\n      }\n    }\n  ]\n}"
            }
          },
          "metadata": {},
          "execution_count": 94
        }
      ],
      "source": [
        "data = pd.read_csv('diabetes.csv')\n",
        "print(f\"Dataset shape: {data.shape}\")\n",
        "data.head()"
      ]
    },
    {
      "cell_type": "markdown",
      "metadata": {
        "id": "gEiWTRhnPIVI"
      },
      "source": [
        "Посмотрим на распределение целевой переменной"
      ]
    },
    {
      "cell_type": "code",
      "execution_count": null,
      "metadata": {
        "colab": {
          "base_uri": "https://localhost:8080/",
          "height": 430
        },
        "id": "HfUvLB0qPIVI",
        "outputId": "7a4e4016-6d9e-408c-8f28-a5a51a56761a"
      },
      "outputs": [
        {
          "output_type": "display_data",
          "data": {
            "text/plain": [
              "<Figure size 640x480 with 1 Axes>"
            ],
            "image/png": "[encoded data removed]"
          },
          "metadata": {}
        }
      ],
      "source": [
        "data['Outcome'].hist()\n",
        "plt.show()"
      ]
    },
    {
      "cell_type": "markdown",
      "metadata": {
        "id": "-Zjq_LOoPIVI"
      },
      "source": [
        "**Задание 3.1 (0.5 балла)** Разделите данные на признаки и целевую переменную. Разбейте датасет на обучающую и тестовую части в отношении 7:3. Затем разделите обучающую выборку на обучающую-обучающую и обучающую-валидационную в соотношении 7:3 (то есть в итоге должно получиться три выборки: обучающая-обучающая (0.49 от исходного датасета), обучающая-валидационная (0.21 от исходного датасета) и тестовая (0.3 от исходного датасета)."
      ]
    },
    {
      "cell_type": "code",
      "execution_count": null,
      "metadata": {
        "id": "h2vQxX_GPIVI"
      },
      "outputs": [],
      "source": [
        "from sklearn.model_selection import train_test_split\n",
        "\n",
        "y = data['Outcome']\n",
        "X = data.drop('Outcome', axis=1)\n",
        "X_train, X_test, y_train, y_test = train_test_split(X, y, test_size = 0.3, random_state = 100, shuffle = True)\n",
        "X_train_train, X_train_val, y_train_train, y_train_val = train_test_split(X_train, y_train, test_size = 0.3, random_state = 100, shuffle = True)"
      ]
    },
    {
      "cell_type": "markdown",
      "metadata": {
        "id": "8UcpvsDsPIVJ"
      },
      "source": [
        "**Задание 3.2 (1 балл)** На обучающей-валидационной выборке подберите оптимальные значения гиперпараметров `max_depth` и `min_samples_leaf` для `DecisionTreeClassifier`. Для этого:\n",
        "1. Создайте списки с возможными значениями для перебора.\n",
        "2. Для каждой пары значений обучите дерево на обучающей-обучающей выборке и определите качество на обучающей-валидационной выборке. В качестве критерия будем использовать `f1-меру`.\n",
        "3. Выберите ту пару значений, которая даёт наилучшее качество на обучающей-валидационной выборке.\n",
        "\n",
        "\n",
        "Обучите решающее дерево с подобранными гиперпараметрами на **полной обучающей** выборке. Оцените качество классификации на тестовой выборке по метрикам `accuracy`, `precision` и `recall`, `auc_roc`."
      ]
    },
    {
      "cell_type": "code",
      "execution_count": null,
      "metadata": {
        "colab": {
          "base_uri": "https://localhost:8080/"
        },
        "id": "f2riF7r2PIVJ",
        "outputId": "caa82bee-a1b4-4df0-dc78-54507da1c155"
      },
      "outputs": [
        {
          "output_type": "stream",
          "name": "stdout",
          "text": [
            "best_max_depth: 6\n",
            "best_min_samples_leaf: 8\n"
          ]
        }
      ],
      "source": [
        "from sklearn.metrics import f1_score\n",
        "\n",
        "max_depth = [x for x in range(1, 100)]\n",
        "min_samples_leaf = [x for x in range(1, 100)]\n",
        "best_f1 = 0\n",
        "for depth in max_depth:\n",
        "  for leaf in min_samples_leaf:\n",
        "    tree = DecisionTreeClassifier(max_depth = depth, min_samples_leaf = leaf, random_state = 100)\n",
        "    tree.fit(X_train_train, y_train_train)\n",
        "    pred_val = tree.predict(X_train_val)\n",
        "    f1 = f1_score(y_train_val, pred_val)\n",
        "\n",
        "    # если f1 мера больше лучшей, то меняем лучшие параметры на новые\n",
        "    if f1 > best_f1:\n",
        "      best_f1 = f1\n",
        "      best_max_depth = depth\n",
        "      best_min_samples_leaf = leaf\n",
        "\n",
        "print('best_max_depth:',  best_max_depth)\n",
        "print('best_min_samples_leaf:',  best_min_samples_leaf)"
      ]
    },
    {
      "cell_type": "code",
      "execution_count": null,
      "metadata": {
        "colab": {
          "base_uri": "https://localhost:8080/"
        },
        "id": "d17Diq4PxzxO",
        "outputId": "adf799c3-1072-422a-c335-8ba2f7a27f8b"
      },
      "outputs": [
        {
          "output_type": "stream",
          "name": "stdout",
          "text": [
            "Accuracy: 0.7229437229437229\n",
            "Precision: 0.6307692307692307\n",
            "Recall: 0.5061728395061729\n",
            "AUC-ROC: 0.6730864197530865\n"
          ]
        }
      ],
      "source": [
        "base_tree = DecisionTreeClassifier(max_depth = best_max_depth, min_samples_leaf = best_min_samples_leaf, random_state = 100)\n",
        "base_tree.fit(X_train, y_train)\n",
        "pred = base_tree.predict(X_test)\n",
        "\n",
        "print(\"Accuracy:\", accuracy_score(y_test, pred))\n",
        "print(\"Precision:\", precision_score(y_test, pred))\n",
        "print(\"Recall:\", recall_score(y_test, pred))\n",
        "print(\"AUC-ROC:\", roc_auc_score(y_test, pred))"
      ]
    },
    {
      "cell_type": "markdown",
      "metadata": {
        "id": "uxG9XUfFPIVV"
      },
      "source": [
        "**Задание 3.3 (0.5 балла)** Обучите [`BaggingClassifier`](https://scikit-learn.org/stable/modules/generated/sklearn.ensemble.BaggingClassifier.html) на 50 деревьях на **полной обучающей** выборке. Оцените качество классификации на тестовой выборке по тем же метрикам."
      ]
    },
    {
      "cell_type": "code",
      "execution_count": null,
      "metadata": {
        "colab": {
          "base_uri": "https://localhost:8080/"
        },
        "id": "kmhjPzxIPIVV",
        "outputId": "f3222e19-7990-46ee-83dc-9ab420228754"
      },
      "outputs": [
        {
          "output_type": "stream",
          "name": "stdout",
          "text": [
            "Accuracy: 0.7186147186147186\n",
            "Precision: 0.6052631578947368\n",
            "Recall: 0.5679012345679012\n",
            "AUC-ROC: 0.6839506172839506\n"
          ]
        }
      ],
      "source": [
        "bag = BaggingClassifier(base_tree, n_estimators = 50, random_state = 100)\n",
        "bag.fit(X_train, y_train)\n",
        "bag_pred = bag.predict(X_test)\n",
        "\n",
        "print(\"Accuracy:\", accuracy_score(y_test, bag_pred))\n",
        "print(\"Precision:\", precision_score(y_test, bag_pred))\n",
        "print(\"Recall:\", recall_score(y_test, bag_pred))\n",
        "print(\"AUC-ROC:\", roc_auc_score(y_test, bag_pred))"
      ]
    },
    {
      "cell_type": "markdown",
      "metadata": {
        "id": "9zsiO1icPIVV"
      },
      "source": [
        "**Задание 3.4 (1 балл)** Выполните кросс-валидацию на полной обучающей выборке и подберите оптимальные значения гиперпараметров `max_depth` и `min_samples_split` для `Random Forest` с 50 деревьями. Для этого:\n",
        "\n",
        "1. Создайте списки с возможными значениями для перебора.\n",
        "2. Для каждой пары значений проведите кросс-валидацию на полной обучающей выборке. Количество разбиений выберите на ваш вкус. В качестве критерия будем использовать `f1-меру`. Усредните значение критерия по всем прогонам кросс-валидации.\n",
        "3. Выберите ту пару значений, которая даёт наилучшее среднее качество.\n",
        "\n",
        "Обучите случайный лес с подобранными гиперпараметрами на **полной обучающей** выборке. Оцените качество классификации по тем же метрикам. Какая из трёх построенных моделей показала себя лучше?"
      ]
    },
    {
      "cell_type": "code",
      "execution_count": null,
      "metadata": {
        "colab": {
          "base_uri": "https://localhost:8080/"
        },
        "id": "LOv8sSqyPIVV",
        "outputId": "257eca51-f74d-412f-fec0-79e4b5c6a4e0"
      },
      "outputs": [
        {
          "output_type": "stream",
          "name": "stdout",
          "text": [
            "best_max_depth: 6\n",
            "best_min_samples_leaf: 5\n"
          ]
        }
      ],
      "source": [
        "from sklearn.model_selection import cross_val_score\n",
        "\n",
        "max_depth = [x for x in range(1, 20)]\n",
        "min_samples_leaf = [x for x in range(1, 20)]\n",
        "best_mean_f1 = 0\n",
        "for depth in max_depth:\n",
        "  for leaf in min_samples_leaf:\n",
        "    rf = RandomForestClassifier(n_estimators=50, max_depth = depth, min_samples_leaf = leaf, random_state = 100)\n",
        "    f1_scores = cross_val_score(rf, X_train, y_train, cv=5, scoring = 'f1')\n",
        "    mean_f1 = np.mean(f1_scores)\n",
        "\n",
        "    # если усредненная f1 мера больше лучшей, то меняем лучшие параметры на новые\n",
        "    if mean_f1 > best_mean_f1:\n",
        "      best_mean_f1 = mean_f1\n",
        "      best_max_depth = depth\n",
        "      best_min_samples_leaf = leaf\n",
        "\n",
        "print('best_max_depth:',  best_max_depth)\n",
        "print('best_min_samples_leaf:',  best_min_samples_leaf)"
      ]
    },
    {
      "cell_type": "code",
      "execution_count": null,
      "metadata": {
        "colab": {
          "base_uri": "https://localhost:8080/"
        },
        "id": "LKkFrw5S9E1N",
        "outputId": "a9b4a760-fb7e-4f97-bf92-2b640136657c"
      },
      "outputs": [
        {
          "output_type": "stream",
          "name": "stdout",
          "text": [
            "Accuracy: 0.7316017316017316\n",
            "Precision: 0.6376811594202898\n",
            "Recall: 0.5432098765432098\n",
            "AUC-ROC: 0.6882716049382717\n"
          ]
        }
      ],
      "source": [
        "rf_best = RandomForestClassifier(n_estimators=50, max_depth = best_max_depth, min_samples_leaf = best_min_samples_leaf, random_state = 100)\n",
        "rf_best.fit(X_train, y_train)\n",
        "rf_best_pred = rf_best.predict(X_test)\n",
        "\n",
        "print(\"Accuracy:\", accuracy_score(y_test, rf_best_pred))\n",
        "print(\"Precision:\", precision_score(y_test, rf_best_pred))\n",
        "print(\"Recall:\", recall_score(y_test, rf_best_pred))\n",
        "print(\"AUC-ROC:\", roc_auc_score(y_test, rf_best_pred))"
      ]
    },
    {
      "cell_type": "markdown",
      "metadata": {
        "id": "VhRRzFw9PIVV"
      },
      "source": [
        "**Задание 3.5 (0.5 балла)** Постройте график зависимости AUC ROC на тестовой выборке от числа деревьев (`n_estimators`) для случайного леса, обучаемого на **полной обучающей** выборке. Какие выводы можно сделать?"
      ]
    },
    {
      "cell_type": "code",
      "execution_count": null,
      "metadata": {
        "colab": {
          "base_uri": "https://localhost:8080/",
          "height": 658
        },
        "id": "o29bS6rAPIVV",
        "outputId": "c94d87f0-5c5e-41e0-f41c-398846b358c9"
      },
      "outputs": [
        {
          "output_type": "execute_result",
          "data": {
            "text/plain": [
              "Text(0.5, 0, 'n_estimators')"
            ]
          },
          "metadata": {},
          "execution_count": 129
        },
        {
          "output_type": "display_data",
          "data": {
            "text/plain": [
              "<Figure size 1000x700 with 1 Axes>"
            ],
            "image/png": "[encoded data removed]"
          },
          "metadata": {}
        }
      ],
      "source": [
        "test_roc_auc = []\n",
        "\n",
        "for n_estimators in range(1, 500):\n",
        "    rf = RandomForestClassifier(n_estimators = n_estimators,  max_depth = best_max_depth, min_samples_leaf = best_min_samples_leaf, random_state = 100)\n",
        "    rf.fit(X_train, y_train)\n",
        "    rf_pred = rf.predict(X_test)\n",
        "    test_roc_auc.append(roc_auc_score(y_test, rf_pred))\n",
        "\n",
        "plt.figure(figsize=(10, 7))\n",
        "plt.title(\"Изменение AUC ROC в зависимости от количества деревьев на test\")\n",
        "plt.grid()\n",
        "plt.plot(test_roc_auc)\n",
        "plt.ylabel(\"AUC ROC\")\n",
        "plt.xlabel(\"n_estimators\")"
      ]
    },
    {
      "cell_type": "markdown",
      "source": [
        "**Вывод:** По графику видно, что AUC ROC сначала растет, при росте числа деревьев до 100, потом начинает снижаться, а после 400 деревьев уже меняется несущественно, и при других сидах можно заметить, что при очень большом количестве деревьев график выходит на асимптоту.\n",
        "\n",
        "В итоге, бэггинг показал наивысший Recall среди других моделей, а случайный лес - accuracy, precision и AUC ROC, так что выбор оптимальной модели зависит от того, какую метрику нам нужно максимизировать для решения задачи."
      ],
      "metadata": {
        "id": "jEM3R3P-fPu9"
      }
    },
    {
      "cell_type": "markdown",
      "metadata": {
        "id": "lDLldehdPIVW"
      },
      "source": [
        "**Задание 3.6 (0.5 балла)** Для лучшей модели случайного леса из **Задания 3.4** посчитайте важность признаков и постройте bar plot. Какой признак оказался самым важным для определения диабета?"
      ]
    },
    {
      "cell_type": "code",
      "execution_count": null,
      "metadata": {
        "id": "yd66iEIRPIVW",
        "colab": {
          "base_uri": "https://localhost:8080/",
          "height": 889
        },
        "outputId": "f9ed0b56-8f1f-4a34-8c89-6fac010df828"
      },
      "outputs": [
        {
          "output_type": "execute_result",
          "data": {
            "text/plain": [
              "Text(0.5, 0, 'Features')"
            ]
          },
          "metadata": {},
          "execution_count": 128
        },
        {
          "output_type": "display_data",
          "data": {
            "text/plain": [
              "<Figure size 1600x1000 with 1 Axes>"
            ],
            "image/png": "[encoded data removed]"
          },
          "metadata": {}
        }
      ],
      "source": [
        "plt.figure(figsize=(16, 10))\n",
        "plt.title(\"Важность признаков\")\n",
        "plt.bar(data.drop(['Outcome'], axis=1).columns.values.tolist(), rf_best.feature_importances_)\n",
        "plt.ylabel(\"Importance\")\n",
        "plt.xlabel(\"Features\")"
      ]
    },
    {
      "cell_type": "markdown",
      "source": [
        "**Вывод:** По графику видно, что самым важным признаком для определения диабета является Glucose (уровень глюкозы в крови), что подтверждается и с медицинской точки зрения."
      ],
      "metadata": {
        "id": "m9S6ZJEXeq4r"
      }
    }
  ],
  "metadata": {
    "colab": {
      "provenance": []
    },
    "kernelspec": {
      "display_name": "Python 3",
      "name": "python3"
    },
    "language_info": {
      "codemirror_mode": {
        "name": "ipython",
        "version": 3
      },
      "file_extension": ".py",
      "mimetype": "text/x-python",
      "name": "python",
      "nbconvert_exporter": "python",
      "pygments_lexer": "ipython3",
      "version": "3.9.12"
    }
  },
  "nbformat": 4,
  "nbformat_minor": 0
}