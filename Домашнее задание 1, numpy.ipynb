{
  "nbformat": 4,
  "nbformat_minor": 0,
  "metadata": {
    "colab": {
      "provenance": []
    },
    "kernelspec": {
      "name": "python3",
      "display_name": "Python 3"
    },
    "language_info": {
      "name": "python"
    }
  },
  "cells": [
    {
      "cell_type": "markdown",
      "source": [
        "ЗАДАНИЕ 1"
      ],
      "metadata": {
        "id": "0U4LlOzrz4dC"
      }
    },
    {
      "cell_type": "code",
      "execution_count": 11,
      "metadata": {
        "id": "xNyUDFOAy9BN"
      },
      "outputs": [],
      "source": [
        "import numpy as np\n",
        "def result_mark(weights: np.array, marks: np.array) -> int:\n",
        "    return round(np.sum(weights*marks))\n",
        "\n",
        "weights = np.array([0.3, 0.4, 0.2, 0.1])\n",
        "marks = np.array([7, 10, 8, 6])\n",
        "\n",
        "assert result_mark(weights, marks) == 8\n",
        "\n",
        "weights = np.array([0.3, 0.4, 0.2, 0.1])\n",
        "marks = np.array([7, 0, 8, 6])\n",
        "\n",
        "assert result_mark(weights, marks) == 4"
      ]
    },
    {
      "cell_type": "markdown",
      "source": [
        "ЗАДАНИЕ 2"
      ],
      "metadata": {
        "id": "DVqk9dNrz2xZ"
      }
    },
    {
      "cell_type": "code",
      "source": [
        "import numpy as np\n",
        "def change_array(array: np.array, number: int) -> np.array:\n",
        "    array[0::3] = number\n",
        "    return array\n",
        "\n",
        "array = np.array([3, 5, 1, 0, -3, 22, 213436])\n",
        "number = -111\n",
        "\n",
        "assert np.allclose(change_array(array, number), np.array([-111, 5, 1, -111, -3, 22, -111]))\n",
        "\n",
        "array = np.array([3, 14, 15, 92, 6])\n",
        "number = 8\n",
        "\n",
        "assert np.allclose(change_array(array, number), np.array([8, 14, 15, 8, 6]))\n"
      ],
      "metadata": {
        "id": "6L7ur-2gzOa3"
      },
      "execution_count": 10,
      "outputs": []
    },
    {
      "cell_type": "markdown",
      "source": [
        "ЗАДАНИЕ 3"
      ],
      "metadata": {
        "id": "6yTboGKmz81o"
      }
    },
    {
      "cell_type": "code",
      "source": [
        "import numpy as np\n",
        "def find_close(array1: np.array, array2: np.array,\n",
        "               precision: float) -> np.array:\n",
        "    return np.where(np.isin(array1, array1[abs(array1 - array2) <= precision]))[0]\n",
        "\n",
        "array1 = np.array([1.5, 0.5, 2, -4.1, -3, 6, -1])\n",
        "array2 = np.array([1.2, 0.5, 1, -4.0,  3, 0, -1.2])\n",
        "precision = 0.5\n",
        "res = find_close(array1, array2, precision)\n",
        "\n",
        "assert res.ndim == 1\n",
        "assert np.allclose(res, np.array([0, 1, 3, 6]))\n",
        "\n",
        "array1 = np.array([3.1415, 2.7182, 1.6180, 6.6261])\n",
        "array2 = np.array([6.6730, 1.3807, -1,     6.0222])\n",
        "precision = 1.7\n",
        "res = find_close(array1, array2, precision)\n",
        "\n",
        "assert res.ndim == 1\n",
        "assert np.allclose(res, np.array([1, 3]))"
      ],
      "metadata": {
        "id": "UJ9xrHq5zi7c"
      },
      "execution_count": 9,
      "outputs": []
    },
    {
      "cell_type": "markdown",
      "source": [
        "ЗАДАНИЕ 4"
      ],
      "metadata": {
        "id": "xZeOqaVw0Bnp"
      }
    },
    {
      "cell_type": "code",
      "source": [
        "import numpy as np\n",
        "def block_matrix(block: np.array) -> np.array:\n",
        "    matrix = np.concatenate((block,block), axis=1) # совмещает блоки в строку\n",
        "    return np.concatenate((matrix, matrix)) # совмещает блоки в столбец\n",
        "\n",
        "block = np.array([[1, 3, 3], [7, 0, 0]])\n",
        "\n",
        "assert np.allclose(\n",
        "    block_matrix(block),\n",
        "    np.array([[1, 3, 3, 1, 3, 3],\n",
        "              [7, 0, 0, 7, 0, 0],\n",
        "              [1, 3, 3, 1, 3, 3],\n",
        "              [7, 0, 0, 7, 0, 0]])\n",
        ")"
      ],
      "metadata": {
        "id": "AEuIDDpy0DlD"
      },
      "execution_count": 8,
      "outputs": []
    },
    {
      "cell_type": "markdown",
      "source": [
        "ЗАДАНИЕ 5"
      ],
      "metadata": {
        "id": "ghU8rpY20fAU"
      }
    },
    {
      "cell_type": "code",
      "source": [
        "import numpy as np\n",
        "def diag_prod(matrix: np.array) -> int:\n",
        "    diag = matrix.diagonal()\n",
        "    return np.prod(diag[diag != 0])\n",
        "matrix = np.array([[0, 1, 2, 3],\n",
        "                   [4, 5, 6, 7],\n",
        "                   [8, 9, 10, 11],\n",
        "                   [12, 13, 14, 15]])\n",
        "\n",
        "assert diag_prod(matrix) == 750"
      ],
      "metadata": {
        "id": "oqaOLjJG0gjW"
      },
      "execution_count": 7,
      "outputs": []
    },
    {
      "cell_type": "markdown",
      "source": [
        "ЗАДАНИЕ 6"
      ],
      "metadata": {
        "id": "KeFnJNOp0rMs"
      }
    },
    {
      "cell_type": "code",
      "source": [
        "import numpy as np\n",
        "def normalize(matrix: np.array) -> np.array:\n",
        "    mean = matrix - np.mean(matrix, axis=0)\n",
        "    std = np.std(matrix, axis=0)\n",
        "    return np.divide(mean, std, out=np.zeros(matrix.shape), where = (std != 0)) # заменяем на ноль числа столбцов, где std = 0, так как это возможно только если все числа в столбце равны, следовательно при нормализации из каждого числа вычитаем их среднее, которое равно им же, и получаем нули во всем столбце\n",
        "\n",
        "matrix = np.array([[1, 4, 4200], [0, 10, 5000], [1, 2, 1000]])\n",
        "\n",
        "assert np.allclose(\n",
        "    normalize(matrix),\n",
        "    np.array([[ 0.7071, -0.39223,  0.46291],\n",
        "              [-1.4142,  1.37281,  0.92582],\n",
        "              [ 0.7071, -0.98058, -1.38873]])\n",
        ")\n",
        "\n",
        "matrix = np.array([[-7, 2, 42], [2, 10, 50], [5, 4, 10]])\n",
        "\n",
        "assert np.allclose(\n",
        "    normalize(matrix),\n",
        "    np.array([[-1.37281, -0.98058,  0.46291],\n",
        "              [ 0.39223,  1.37281,  0.92582],\n",
        "              [ 0.98058, -0.39223, -1.38873]])\n",
        ")"
      ],
      "metadata": {
        "id": "noL73TET0si9"
      },
      "execution_count": 6,
      "outputs": []
    },
    {
      "cell_type": "code",
      "source": [],
      "metadata": {
        "id": "KZ88m19tduno"
      },
      "execution_count": null,
      "outputs": []
    },
    {
      "cell_type": "markdown",
      "source": [
        "ЗАДАНИЕ 7"
      ],
      "metadata": {
        "id": "387xHVm91AAF"
      }
    },
    {
      "cell_type": "code",
      "source": [
        "import numpy as np\n",
        "def prevZeroMax(matrix: np.array) -> int:\n",
        "    zeros = np.where(coefs == 0)[0] + 1\n",
        "    prevzero = coefs[zeros[zeros < len(coefs)]]\n",
        "    return np.max(prevzero)\n",
        "\n",
        "coefs = np.array([6, 2, 0, 3, 0, 0, 5, 7, 0])\n",
        "\n",
        "assert  prevZeroMax(coefs) == 5\n",
        "\n",
        "coefs = np.array([1, 0, 1, 0, 4, 2, 0])\n",
        "\n",
        "assert prevZeroMax(coefs) == 4\n"
      ],
      "metadata": {
        "id": "cQyGeOc31CBF"
      },
      "execution_count": 5,
      "outputs": []
    },
    {
      "cell_type": "markdown",
      "source": [
        "ЗАДАНИЕ 8"
      ],
      "metadata": {
        "id": "MWtV90kn1Gah"
      }
    },
    {
      "cell_type": "code",
      "source": [
        "import numpy as np\n",
        "def make_symmetric(matrix: np.array) -> np.array:\n",
        "    matflip = np.flip(np.rot90(matrix), 0)\n",
        "    return matflip + np.triu(matrix, 1)\n",
        "\n",
        "matrix = np.array([[1, 2, 3, 4], [0, 5, 6, 7], [0, 0, 8, 9], [0, 0, 0, 10]])\n",
        "\n",
        "assert np.allclose(\n",
        "    make_symmetric(matrix),\n",
        "    np.array([[ 1,  2,  3,  4],\n",
        "              [ 2,  5,  6,  7],\n",
        "              [ 3,  6,  8,  9],\n",
        "              [ 4,  7,  9, 10]])\n",
        ")\n",
        "\n",
        "matrix = np.array([[10, 21, 32, 49], [0, 53, 62, 78], [0, 0, 82, 92], [0, 0, 0, 10]])\n",
        "\n",
        "assert np.allclose(\n",
        "    make_symmetric(matrix),\n",
        "    np.array([[10, 21, 32, 49],\n",
        "              [21, 53, 62, 78],\n",
        "              [32, 62, 82, 92],\n",
        "              [49, 78, 92, 10]])\n",
        ")"
      ],
      "metadata": {
        "id": "zErk3fx_1J0-"
      },
      "execution_count": 4,
      "outputs": []
    },
    {
      "cell_type": "markdown",
      "source": [
        "ЗАДАНИЕ 9"
      ],
      "metadata": {
        "id": "r6recbaB1bAd"
      }
    },
    {
      "cell_type": "code",
      "source": [
        "import numpy as np\n",
        "def construct_matrix(m: int, a: int, b: int) -> np.array:\n",
        "    return np.tile(np.arange(a, b+1), (m, 1))\n",
        "\n",
        "m = 5\n",
        "a = 3\n",
        "b = 10\n",
        "\n",
        "assert np.allclose(\n",
        "    construct_matrix(m, a, b),\n",
        "    np.array([[ 3,  4,  5,  6,  7,  8,  9, 10],\n",
        "              [ 3,  4,  5,  6,  7,  8,  9, 10],\n",
        "              [ 3,  4,  5,  6,  7,  8,  9, 10],\n",
        "              [ 3,  4,  5,  6,  7,  8,  9, 10],\n",
        "              [ 3,  4,  5,  6,  7,  8,  9, 10]])\n",
        ")\n",
        "\n",
        "m = 3\n",
        "a = 2\n",
        "b = 6\n",
        "\n",
        "assert np.allclose(\n",
        "    construct_matrix(m, a, b),\n",
        "    np.array([[2, 3, 4, 5, 6],\n",
        "              [2, 3, 4, 5, 6],\n",
        "              [2, 3, 4, 5, 6]])\n",
        ")"
      ],
      "metadata": {
        "id": "htnO_bR61csJ"
      },
      "execution_count": 3,
      "outputs": []
    },
    {
      "cell_type": "markdown",
      "source": [
        "ЗАДАНИЕ 10"
      ],
      "metadata": {
        "id": "lMsdI58O1scd"
      }
    },
    {
      "cell_type": "code",
      "source": [
        "import numpy as np\n",
        "from math import sqrt\n",
        "def cosine_similarity(vec1: np.array, vec2: np.array) -> float:\n",
        "    return (np.sum(vec1 * vec2)) / (sqrt(np.sum(vec1**2)) * sqrt(np.sum(vec2**2)))\n",
        "\n",
        "vec1 = np.array([-2, 1,  0, -5, 4, 3, -3])\n",
        "vec2 = np.array([ 0, 2, -2, 10, 6, 0,  0])\n",
        "\n",
        "assert np.allclose(cosine_similarity(vec1, vec2), -0.25)\n",
        "\n",
        "vec1 = np.array([-4, 2,  9, -8, 9, 0, -2])\n",
        "vec2 = np.array([ 3, 2, -4, -1, 3, 2,  2])\n",
        "\n",
        "assert np.allclose(cosine_similarity(vec1, vec2), -0.119929)"
      ],
      "metadata": {
        "id": "VGKX-4kY1ryV"
      },
      "execution_count": 2,
      "outputs": []
    }
  ]
}